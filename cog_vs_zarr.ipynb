{
 "cells": [
  {
   "cell_type": "markdown",
   "id": "5d12cf2f-f700-4f73-9e0b-8c92d3a30067",
   "metadata": {},
   "source": [
    "# COG vs Zarr\n",
    "\n",
    "COG vs zarr is a big point of contention in the community right now. Let's look at raster data and how it is stored in the Cloud-Optimized GeoTIFF (COG) format, and how that compares to what zarr does with the same data.\n",
    "\n",
    "Before we get into this we need to get some imports out of the way."
   ]
  },
  {
   "cell_type": "code",
   "execution_count": 1,
   "id": "dce8867f-67c7-42bd-8a43-6d68a30079ca",
   "metadata": {
    "execution": {
     "iopub.execute_input": "2025-05-08T14:32:03.835176Z",
     "iopub.status.busy": "2025-05-08T14:32:03.834860Z",
     "iopub.status.idle": "2025-05-08T14:32:04.406038Z",
     "shell.execute_reply": "2025-05-08T14:32:04.405486Z",
     "shell.execute_reply.started": "2025-05-08T14:32:03.835147Z"
    }
   },
   "outputs": [],
   "source": [
    "import json\n",
    "import shutil\n",
    "import struct\n",
    "import urllib.request\n",
    "import zlib\n",
    "\n",
    "from hashlib import sha256\n",
    "from pathlib import Path\n",
    "\n",
    "import numpy as np\n",
    "import rioxarray\n",
    "import xarray\n",
    "\n",
    "from crc32c import crc32c\n",
    "from numcodecs.zarr3 import Zlib, Delta\n",
    "from numcodecs.zstd import Zstd\n",
    "from rio_cogeo.cogeo import cog_translate\n",
    "from rio_cogeo.profiles import cog_profiles\n",
    "from tifffile import TiffFile\n",
    "\n",
    "from IPython.display import JSON"
   ]
  },
  {
   "cell_type": "markdown",
   "id": "a7500d98-e736-462b-bd25-ca3bcb8ed33d",
   "metadata": {},
   "source": [
    "And we will want to be comparing some byte strings. An easy way to identify a sequence of bytes is to use a SHASUM hash, so let's make a little function to generate a hash in hex format and display that along with the on-disk size of the byte string."
   ]
  },
  {
   "cell_type": "code",
   "execution_count": 2,
   "id": "2d89dd17-dc87-40c9-9436-2e0a913b9d2a",
   "metadata": {
    "execution": {
     "iopub.execute_input": "2025-05-08T14:32:04.406820Z",
     "iopub.status.busy": "2025-05-08T14:32:04.406536Z",
     "iopub.status.idle": "2025-05-08T14:32:04.410310Z",
     "shell.execute_reply": "2025-05-08T14:32:04.409797Z",
     "shell.execute_reply.started": "2025-05-08T14:32:04.406803Z"
    }
   },
   "outputs": [],
   "source": [
    "def describe_bytes(b: bytes) -> str:\n",
    "    h = sha256()\n",
    "    h.update(b)\n",
    "    print(f\"size: {len(b) / 2**20:.3f} MiB | shasum: {h.digest().hex()}\")"
   ]
  },
  {
   "cell_type": "markdown",
   "id": "a6d8a44e-1dfc-4cbb-aaae-74e721357744",
   "metadata": {},
   "source": [
    "To organize our data we'll use a specific directory:"
   ]
  },
  {
   "cell_type": "code",
   "execution_count": 3,
   "id": "4f315f58-2204-4ea8-892b-21c4fa62407a",
   "metadata": {
    "execution": {
     "iopub.execute_input": "2025-05-08T14:32:04.411437Z",
     "iopub.status.busy": "2025-05-08T14:32:04.411179Z",
     "iopub.status.idle": "2025-05-08T14:32:04.413844Z",
     "shell.execute_reply": "2025-05-08T14:32:04.413414Z",
     "shell.execute_reply.started": "2025-05-08T14:32:04.411423Z"
    }
   },
   "outputs": [],
   "source": [
    "OUTDIR = Path('test_data')\n",
    "OUTDIR.mkdir(exist_ok=True)"
   ]
  },
  {
   "cell_type": "markdown",
   "id": "2b17270a-eaca-4e1b-9397-c7cecd032bbf",
   "metadata": {},
   "source": [
    "## Downloading a COG\n",
    "\n",
    "We're going to use a Sentinel 2 L2A scene for this exploration. To keep things simple we'll just use one band, and we can link directly to a COG. Specifically, we'll use the red band of the scene `S2B_T10TFR_20231223T190950_L2A`. Let's download that file now.\n",
    "\n",
    "<div class=\"alert alert-block alert-info\">\n",
    "    \n",
    "NOTE: This is a simplified workflow. In practice you might get this href by searching for the scene of interest using the [earth-search STAC API](https://earth-search.aws.element84.com/v1)\n",
    "    \n",
    "</div>"
   ]
  },
  {
   "cell_type": "code",
   "execution_count": 4,
   "id": "1d4af1b7-ab6e-4136-9a45-4ba2dd84a5ec",
   "metadata": {
    "execution": {
     "iopub.execute_input": "2025-05-08T14:32:04.414268Z",
     "iopub.status.busy": "2025-05-08T14:32:04.414160Z",
     "iopub.status.idle": "2025-05-08T14:32:04.416883Z",
     "shell.execute_reply": "2025-05-08T14:32:04.416478Z",
     "shell.execute_reply.started": "2025-05-08T14:32:04.414257Z"
    }
   },
   "outputs": [],
   "source": [
    "COG_HREF = 'https://e84-earth-search-sentinel-data.s3.us-west-2.amazonaws.com/sentinel-2-c1-l2a/10/T/FR/2023/12/S2B_T10TFR_20231223T190950_L2A/B04.tif'\n",
    "COG_FILE = OUTDIR / 'red.tif'\n",
    "\n",
    "# check if we are rerunning this cell to not download the COG if we already have it\n",
    "if not COG_FILE.exists():\n",
    "    with urllib.request.urlopen(urllib.request.Request(COG_HREF)) as response:\n",
    "        COG_FILE.write_bytes(response.read())"
   ]
  },
  {
   "cell_type": "markdown",
   "id": "1f1f07cf-dbf5-4cbf-ab96-4056792d9254",
   "metadata": {},
   "source": [
    "## Reading the COG metadata\n",
    "\n",
    "Now that we have the COG, we can open it with `tifffile` and read the tags out to see what kind of metadata the file has. Note here that the TIFF file has mutliple \"pages\" in it, or \"images\". This is because the COG includes overviews, which internally in the TIFF are stored as what TIFF terms individual images. `tifffile` uses the term \"pages\" instead of images; the first page here is the full resolution data, and each successive page is the next overview up from the last.\n",
    "\n",
    "We'll store the tags in a dictionary so we can use the values later as needed."
   ]
  },
  {
   "cell_type": "code",
   "execution_count": 5,
   "id": "94fc695f-b229-4712-9f3e-5a07ca911960",
   "metadata": {
    "execution": {
     "iopub.execute_input": "2025-05-08T14:32:04.417341Z",
     "iopub.status.busy": "2025-05-08T14:32:04.417238Z",
     "iopub.status.idle": "2025-05-08T14:32:04.422526Z",
     "shell.execute_reply": "2025-05-08T14:32:04.422202Z",
     "shell.execute_reply.started": "2025-05-08T14:32:04.417331Z"
    }
   },
   "outputs": [
    {
     "data": {
      "application/json": {
       "BitsPerSample": 16,
       "Compression": 8,
       "GDAL_METADATA": "<GDALMetadata>\n  <Item name=\"OVR_RESAMPLING_ALG\">AVERAGE</Item>\n  <Item name=\"STATISTICS_MAXIMUM\" sample=\"0\">17408</Item>\n  <Item name=\"STATISTICS_MEAN\" sample=\"0\">1505.1947339533</Item>\n  <Item name=\"STATISTICS_MINIMUM\" sample=\"0\">294</Item>\n  <Item name=\"STATISTICS_STDDEV\" sample=\"0\">659.24503616433</Item>\n  <Item name=\"STATISTICS_VALID_PERCENT\" sample=\"0\">99.999</Item>\n  <Item name=\"OFFSET\" sample=\"0\" role=\"offset\">-0.100000000000000006</Item>\n  <Item name=\"SCALE\" sample=\"0\" role=\"scale\">0.000100000000000000005</Item>\n</GDALMetadata>",
       "GDAL_NODATA": "0",
       "GeoAsciiParamsTag": "WGS 84 / UTM zone 10N|WGS 84|",
       "GeoKeyDirectoryTag": [
        1,
        1,
        0,
        7,
        1024,
        0,
        1,
        1,
        1025,
        0,
        1,
        1,
        1026,
        34737,
        22,
        0,
        2049,
        34737,
        7,
        22,
        2054,
        0,
        1,
        9102,
        3072,
        0,
        1,
        32610,
        3076,
        0,
        1,
        9001
       ],
       "ImageLength": 10980,
       "ImageWidth": 10980,
       "ModelPixelScaleTag": [
        10,
        10,
        0
       ],
       "ModelTiepointTag": [
        0,
        0,
        0,
        600000,
        5100000,
        0
       ],
       "PhotometricInterpretation": 1,
       "PlanarConfiguration": 1,
       "Predictor": 2,
       "SampleFormat": 1,
       "SamplesPerPixel": 1,
       "TileByteCounts": [
        1448479,
        1399157,
        1412106,
        1428549,
        1403985,
        1408514,
        1561517,
        1498621,
        1464145,
        1451835,
        1040809,
        1350646,
        1360759,
        1364889,
        1366106,
        1423471,
        1421062,
        1409632,
        1449532,
        1418689,
        1391608,
        1006490,
        1301298,
        1383854,
        1387408,
        1380096,
        1427768,
        1375584,
        1354610,
        1344645,
        1369496,
        1348880,
        981981,
        1376187,
        1438647,
        1423304,
        1429832,
        1387880,
        1341227,
        1357336,
        1391071,
        1343805,
        1306662,
        986630,
        1416097,
        1439101,
        1448214,
        1435178,
        1411403,
        1371055,
        1394484,
        1369155,
        1345903,
        1334689,
        965822,
        1454715,
        1453465,
        1447031,
        1421785,
        1414902,
        1382431,
        1404808,
        1381177,
        1358106,
        1352130,
        1025353,
        1603206,
        1453606,
        1428076,
        1427021,
        1407445,
        1401275,
        1385183,
        1365477,
        1351601,
        1382354,
        1036686,
        1631840,
        1496917,
        1422931,
        1433484,
        1411549,
        1392206,
        1381097,
        1316346,
        1365796,
        1388946,
        1024232,
        1636060,
        1588161,
        1452252,
        1441159,
        1390666,
        1386483,
        1340577,
        1302153,
        1373855,
        1370529,
        1016407,
        1616933,
        1607392,
        1476696,
        1403344,
        1398139,
        1407736,
        1366287,
        1353633,
        1371996,
        1420302,
        1034077,
        1175824,
        1135040,
        1101890,
        1040904,
        1058457,
        1055872,
        1047702,
        1056906,
        1034879,
        1050825,
        763422
       ],
       "TileLength": 1024,
       "TileOffsets": [
        55962680,
        57411167,
        58810332,
        60222446,
        61651003,
        63054996,
        64463518,
        66025043,
        67523672,
        68987825,
        70439668,
        71480485,
        72831139,
        74191906,
        75556803,
        76922917,
        78346396,
        79767466,
        81177106,
        82626646,
        84045343,
        85436959,
        86443457,
        87744763,
        89128625,
        90516041,
        91896145,
        93323921,
        94699513,
        96054131,
        97398784,
        98768288,
        100117176,
        101099165,
        102475360,
        103914015,
        105337327,
        106767167,
        108155055,
        109496290,
        110853634,
        112244713,
        113588526,
        114895196,
        115881834,
        117297939,
        118737048,
        120185270,
        121620456,
        123031867,
        124402930,
        125797422,
        127166585,
        128512496,
        129847193,
        130813023,
        132267746,
        133721219,
        135168258,
        136590051,
        138004961,
        139387400,
        140792216,
        142173401,
        143531515,
        144883653,
        145909014,
        147512228,
        148965842,
        150393926,
        151820955,
        153228408,
        154629691,
        156014882,
        157380367,
        158731976,
        160114338,
        161151032,
        162782880,
        164279805,
        165702744,
        167136236,
        168547793,
        169940007,
        171321112,
        172637466,
        174003270,
        175392224,
        176416464,
        178052532,
        179640701,
        181092961,
        182534128,
        183924802,
        185311293,
        186651878,
        187954039,
        189327902,
        190698439,
        191714854,
        193331795,
        194939195,
        196415899,
        197819251,
        199217398,
        200625142,
        201991437,
        203345078,
        204717082,
        206137392,
        207171477,
        208347309,
        209482357,
        210584255,
        211625167,
        212683632,
        213739512,
        214787222,
        215844136,
        216879023,
        217929856
       ],
       "TileWidth": 1024
      },
      "text/plain": [
       "<IPython.core.display.JSON object>"
      ]
     },
     "execution_count": 5,
     "metadata": {
      "application/json": {
       "expanded": false,
       "root": "Default COG"
      }
     },
     "output_type": "execute_result"
    }
   ],
   "source": [
    "cog_tags = {}\n",
    "with TiffFile(COG_FILE) as tif:\n",
    "    for tag in tif.pages[0].tags:\n",
    "        cog_tags[tag.name] = tag.value\n",
    "\n",
    "JSON(cog_tags, root=\"Default COG\")"
   ]
  },
  {
   "cell_type": "markdown",
   "id": "1d704ac7-3eae-4768-a6ad-f660ab209c20",
   "metadata": {},
   "source": [
    "## Extracting a tile\n",
    "\n",
    "The tags contain a bunch of great stuff we could discuss at length, but the first thing I think it is worth pointing out is that the tiles in this COG are stored at various offsets within the file. We can see the `TileOffsets` tag contains a sequence of those offsets. Similarly, `TileByteCounts` contains a sequence of the lengths of each of those tiles. Thus, we can read tile (0,0) by grabbing the first value in each of those arrays and using them to seek to and read the tile's bytes. We can hash those bytes to get a unique identifer for those bytes we can print out."
   ]
  },
  {
   "cell_type": "code",
   "execution_count": 6,
   "id": "858a13f3-f609-4c23-ba38-a23e14595f7b",
   "metadata": {
    "execution": {
     "iopub.execute_input": "2025-05-08T14:32:04.423119Z",
     "iopub.status.busy": "2025-05-08T14:32:04.422970Z",
     "iopub.status.idle": "2025-05-08T14:32:04.427342Z",
     "shell.execute_reply": "2025-05-08T14:32:04.426970Z",
     "shell.execute_reply.started": "2025-05-08T14:32:04.423104Z"
    }
   },
   "outputs": [
    {
     "name": "stdout",
     "output_type": "stream",
     "text": [
      "size: 1.381 MiB | shasum: 2c02e7e60074d6767ccb4c44de2da249d331fd82e107431e41cfe4069bae0d62\n"
     ]
    }
   ],
   "source": [
    "with (COG_FILE).open('rb') as tif:\n",
    "    tif.seek(cog_tags['TileOffsets'][0])\n",
    "    cog_tile_bytes = tif.read(cog_tags['TileByteCounts'][0])\n",
    "\n",
    "describe_bytes(cog_tile_bytes)"
   ]
  },
  {
   "cell_type": "markdown",
   "id": "de3f11fa-b73d-4aae-b148-2030ad92b242",
   "metadata": {},
   "source": [
    "We can see the size of that tile on disk by looking at the number of bytes."
   ]
  },
  {
   "cell_type": "markdown",
   "id": "c1455bfd-cd7a-442e-832e-55f9cc1a4c0e",
   "metadata": {},
   "source": [
    "## Creating a zarr from the COG\n",
    "\n",
    "The library `rio-xarray` contains a number of conveniences for working with geospatial raster data with `xarray`, and `xarray` can write zarrs. So if we use `rio-xarray` to open our COG as an `xarray.Dataset`, we can transform our COG into a zarr. First things first though, let's start by simply opening the file as an `xarray.Dataset`."
   ]
  },
  {
   "cell_type": "code",
   "execution_count": 7,
   "id": "292fb3bd-b5c8-4574-ad93-0ae2222b6d3b",
   "metadata": {
    "execution": {
     "iopub.execute_input": "2025-05-08T14:32:04.427913Z",
     "iopub.status.busy": "2025-05-08T14:32:04.427710Z",
     "iopub.status.idle": "2025-05-08T14:32:04.484157Z",
     "shell.execute_reply": "2025-05-08T14:32:04.483515Z",
     "shell.execute_reply.started": "2025-05-08T14:32:04.427899Z"
    }
   },
   "outputs": [
    {
     "data": {
      "text/html": [
       "<div><svg style=\"position: absolute; width: 0; height: 0; overflow: hidden\">\n",
       "<defs>\n",
       "<symbol id=\"icon-database\" viewBox=\"0 0 32 32\">\n",
       "<path d=\"M16 0c-8.837 0-16 2.239-16 5v4c0 2.761 7.163 5 16 5s16-2.239 16-5v-4c0-2.761-7.163-5-16-5z\"></path>\n",
       "<path d=\"M16 17c-8.837 0-16-2.239-16-5v6c0 2.761 7.163 5 16 5s16-2.239 16-5v-6c0 2.761-7.163 5-16 5z\"></path>\n",
       "<path d=\"M16 26c-8.837 0-16-2.239-16-5v6c0 2.761 7.163 5 16 5s16-2.239 16-5v-6c0 2.761-7.163 5-16 5z\"></path>\n",
       "</symbol>\n",
       "<symbol id=\"icon-file-text2\" viewBox=\"0 0 32 32\">\n",
       "<path d=\"M28.681 7.159c-0.694-0.947-1.662-2.053-2.724-3.116s-2.169-2.030-3.116-2.724c-1.612-1.182-2.393-1.319-2.841-1.319h-15.5c-1.378 0-2.5 1.121-2.5 2.5v27c0 1.378 1.122 2.5 2.5 2.5h23c1.378 0 2.5-1.122 2.5-2.5v-19.5c0-0.448-0.137-1.23-1.319-2.841zM24.543 5.457c0.959 0.959 1.712 1.825 2.268 2.543h-4.811v-4.811c0.718 0.556 1.584 1.309 2.543 2.268zM28 29.5c0 0.271-0.229 0.5-0.5 0.5h-23c-0.271 0-0.5-0.229-0.5-0.5v-27c0-0.271 0.229-0.5 0.5-0.5 0 0 15.499-0 15.5 0v7c0 0.552 0.448 1 1 1h7v19.5z\"></path>\n",
       "<path d=\"M23 26h-14c-0.552 0-1-0.448-1-1s0.448-1 1-1h14c0.552 0 1 0.448 1 1s-0.448 1-1 1z\"></path>\n",
       "<path d=\"M23 22h-14c-0.552 0-1-0.448-1-1s0.448-1 1-1h14c0.552 0 1 0.448 1 1s-0.448 1-1 1z\"></path>\n",
       "<path d=\"M23 18h-14c-0.552 0-1-0.448-1-1s0.448-1 1-1h14c0.552 0 1 0.448 1 1s-0.448 1-1 1z\"></path>\n",
       "</symbol>\n",
       "</defs>\n",
       "</svg>\n",
       "<style>/* CSS stylesheet for displaying xarray objects in jupyterlab.\n",
       " *\n",
       " */\n",
       "\n",
       ":root {\n",
       "  --xr-font-color0: var(--jp-content-font-color0, rgba(0, 0, 0, 1));\n",
       "  --xr-font-color2: var(--jp-content-font-color2, rgba(0, 0, 0, 0.54));\n",
       "  --xr-font-color3: var(--jp-content-font-color3, rgba(0, 0, 0, 0.38));\n",
       "  --xr-border-color: var(--jp-border-color2, #e0e0e0);\n",
       "  --xr-disabled-color: var(--jp-layout-color3, #bdbdbd);\n",
       "  --xr-background-color: var(--jp-layout-color0, white);\n",
       "  --xr-background-color-row-even: var(--jp-layout-color1, white);\n",
       "  --xr-background-color-row-odd: var(--jp-layout-color2, #eeeeee);\n",
       "}\n",
       "\n",
       "html[theme=\"dark\"],\n",
       "html[data-theme=\"dark\"],\n",
       "body[data-theme=\"dark\"],\n",
       "body.vscode-dark {\n",
       "  --xr-font-color0: rgba(255, 255, 255, 1);\n",
       "  --xr-font-color2: rgba(255, 255, 255, 0.54);\n",
       "  --xr-font-color3: rgba(255, 255, 255, 0.38);\n",
       "  --xr-border-color: #1f1f1f;\n",
       "  --xr-disabled-color: #515151;\n",
       "  --xr-background-color: #111111;\n",
       "  --xr-background-color-row-even: #111111;\n",
       "  --xr-background-color-row-odd: #313131;\n",
       "}\n",
       "\n",
       ".xr-wrap {\n",
       "  display: block !important;\n",
       "  min-width: 300px;\n",
       "  max-width: 700px;\n",
       "}\n",
       "\n",
       ".xr-text-repr-fallback {\n",
       "  /* fallback to plain text repr when CSS is not injected (untrusted notebook) */\n",
       "  display: none;\n",
       "}\n",
       "\n",
       ".xr-header {\n",
       "  padding-top: 6px;\n",
       "  padding-bottom: 6px;\n",
       "  margin-bottom: 4px;\n",
       "  border-bottom: solid 1px var(--xr-border-color);\n",
       "}\n",
       "\n",
       ".xr-header > div,\n",
       ".xr-header > ul {\n",
       "  display: inline;\n",
       "  margin-top: 0;\n",
       "  margin-bottom: 0;\n",
       "}\n",
       "\n",
       ".xr-obj-type,\n",
       ".xr-array-name {\n",
       "  margin-left: 2px;\n",
       "  margin-right: 10px;\n",
       "}\n",
       "\n",
       ".xr-obj-type {\n",
       "  color: var(--xr-font-color2);\n",
       "}\n",
       "\n",
       ".xr-sections {\n",
       "  padding-left: 0 !important;\n",
       "  display: grid;\n",
       "  grid-template-columns: 150px auto auto 1fr 0 20px 0 20px;\n",
       "}\n",
       "\n",
       ".xr-section-item {\n",
       "  display: contents;\n",
       "}\n",
       "\n",
       ".xr-section-item input {\n",
       "  display: inline-block;\n",
       "  opacity: 0;\n",
       "  height: 0;\n",
       "}\n",
       "\n",
       ".xr-section-item input + label {\n",
       "  color: var(--xr-disabled-color);\n",
       "}\n",
       "\n",
       ".xr-section-item input:enabled + label {\n",
       "  cursor: pointer;\n",
       "  color: var(--xr-font-color2);\n",
       "}\n",
       "\n",
       ".xr-section-item input:focus + label {\n",
       "  border: 2px solid var(--xr-font-color0);\n",
       "}\n",
       "\n",
       ".xr-section-item input:enabled + label:hover {\n",
       "  color: var(--xr-font-color0);\n",
       "}\n",
       "\n",
       ".xr-section-summary {\n",
       "  grid-column: 1;\n",
       "  color: var(--xr-font-color2);\n",
       "  font-weight: 500;\n",
       "}\n",
       "\n",
       ".xr-section-summary > span {\n",
       "  display: inline-block;\n",
       "  padding-left: 0.5em;\n",
       "}\n",
       "\n",
       ".xr-section-summary-in:disabled + label {\n",
       "  color: var(--xr-font-color2);\n",
       "}\n",
       "\n",
       ".xr-section-summary-in + label:before {\n",
       "  display: inline-block;\n",
       "  content: \"►\";\n",
       "  font-size: 11px;\n",
       "  width: 15px;\n",
       "  text-align: center;\n",
       "}\n",
       "\n",
       ".xr-section-summary-in:disabled + label:before {\n",
       "  color: var(--xr-disabled-color);\n",
       "}\n",
       "\n",
       ".xr-section-summary-in:checked + label:before {\n",
       "  content: \"▼\";\n",
       "}\n",
       "\n",
       ".xr-section-summary-in:checked + label > span {\n",
       "  display: none;\n",
       "}\n",
       "\n",
       ".xr-section-summary,\n",
       ".xr-section-inline-details {\n",
       "  padding-top: 4px;\n",
       "  padding-bottom: 4px;\n",
       "}\n",
       "\n",
       ".xr-section-inline-details {\n",
       "  grid-column: 2 / -1;\n",
       "}\n",
       "\n",
       ".xr-section-details {\n",
       "  display: none;\n",
       "  grid-column: 1 / -1;\n",
       "  margin-bottom: 5px;\n",
       "}\n",
       "\n",
       ".xr-section-summary-in:checked ~ .xr-section-details {\n",
       "  display: contents;\n",
       "}\n",
       "\n",
       ".xr-array-wrap {\n",
       "  grid-column: 1 / -1;\n",
       "  display: grid;\n",
       "  grid-template-columns: 20px auto;\n",
       "}\n",
       "\n",
       ".xr-array-wrap > label {\n",
       "  grid-column: 1;\n",
       "  vertical-align: top;\n",
       "}\n",
       "\n",
       ".xr-preview {\n",
       "  color: var(--xr-font-color3);\n",
       "}\n",
       "\n",
       ".xr-array-preview,\n",
       ".xr-array-data {\n",
       "  padding: 0 5px !important;\n",
       "  grid-column: 2;\n",
       "}\n",
       "\n",
       ".xr-array-data,\n",
       ".xr-array-in:checked ~ .xr-array-preview {\n",
       "  display: none;\n",
       "}\n",
       "\n",
       ".xr-array-in:checked ~ .xr-array-data,\n",
       ".xr-array-preview {\n",
       "  display: inline-block;\n",
       "}\n",
       "\n",
       ".xr-dim-list {\n",
       "  display: inline-block !important;\n",
       "  list-style: none;\n",
       "  padding: 0 !important;\n",
       "  margin: 0;\n",
       "}\n",
       "\n",
       ".xr-dim-list li {\n",
       "  display: inline-block;\n",
       "  padding: 0;\n",
       "  margin: 0;\n",
       "}\n",
       "\n",
       ".xr-dim-list:before {\n",
       "  content: \"(\";\n",
       "}\n",
       "\n",
       ".xr-dim-list:after {\n",
       "  content: \")\";\n",
       "}\n",
       "\n",
       ".xr-dim-list li:not(:last-child):after {\n",
       "  content: \",\";\n",
       "  padding-right: 5px;\n",
       "}\n",
       "\n",
       ".xr-has-index {\n",
       "  font-weight: bold;\n",
       "}\n",
       "\n",
       ".xr-var-list,\n",
       ".xr-var-item {\n",
       "  display: contents;\n",
       "}\n",
       "\n",
       ".xr-var-item > div,\n",
       ".xr-var-item label,\n",
       ".xr-var-item > .xr-var-name span {\n",
       "  background-color: var(--xr-background-color-row-even);\n",
       "  margin-bottom: 0;\n",
       "}\n",
       "\n",
       ".xr-var-item > .xr-var-name:hover span {\n",
       "  padding-right: 5px;\n",
       "}\n",
       "\n",
       ".xr-var-list > li:nth-child(odd) > div,\n",
       ".xr-var-list > li:nth-child(odd) > label,\n",
       ".xr-var-list > li:nth-child(odd) > .xr-var-name span {\n",
       "  background-color: var(--xr-background-color-row-odd);\n",
       "}\n",
       "\n",
       ".xr-var-name {\n",
       "  grid-column: 1;\n",
       "}\n",
       "\n",
       ".xr-var-dims {\n",
       "  grid-column: 2;\n",
       "}\n",
       "\n",
       ".xr-var-dtype {\n",
       "  grid-column: 3;\n",
       "  text-align: right;\n",
       "  color: var(--xr-font-color2);\n",
       "}\n",
       "\n",
       ".xr-var-preview {\n",
       "  grid-column: 4;\n",
       "}\n",
       "\n",
       ".xr-index-preview {\n",
       "  grid-column: 2 / 5;\n",
       "  color: var(--xr-font-color2);\n",
       "}\n",
       "\n",
       ".xr-var-name,\n",
       ".xr-var-dims,\n",
       ".xr-var-dtype,\n",
       ".xr-preview,\n",
       ".xr-attrs dt {\n",
       "  white-space: nowrap;\n",
       "  overflow: hidden;\n",
       "  text-overflow: ellipsis;\n",
       "  padding-right: 10px;\n",
       "}\n",
       "\n",
       ".xr-var-name:hover,\n",
       ".xr-var-dims:hover,\n",
       ".xr-var-dtype:hover,\n",
       ".xr-attrs dt:hover {\n",
       "  overflow: visible;\n",
       "  width: auto;\n",
       "  z-index: 1;\n",
       "}\n",
       "\n",
       ".xr-var-attrs,\n",
       ".xr-var-data,\n",
       ".xr-index-data {\n",
       "  display: none;\n",
       "  background-color: var(--xr-background-color) !important;\n",
       "  padding-bottom: 5px !important;\n",
       "}\n",
       "\n",
       ".xr-var-attrs-in:checked ~ .xr-var-attrs,\n",
       ".xr-var-data-in:checked ~ .xr-var-data,\n",
       ".xr-index-data-in:checked ~ .xr-index-data {\n",
       "  display: block;\n",
       "}\n",
       "\n",
       ".xr-var-data > table {\n",
       "  float: right;\n",
       "}\n",
       "\n",
       ".xr-var-name span,\n",
       ".xr-var-data,\n",
       ".xr-index-name div,\n",
       ".xr-index-data,\n",
       ".xr-attrs {\n",
       "  padding-left: 25px !important;\n",
       "}\n",
       "\n",
       ".xr-attrs,\n",
       ".xr-var-attrs,\n",
       ".xr-var-data,\n",
       ".xr-index-data {\n",
       "  grid-column: 1 / -1;\n",
       "}\n",
       "\n",
       "dl.xr-attrs {\n",
       "  padding: 0;\n",
       "  margin: 0;\n",
       "  display: grid;\n",
       "  grid-template-columns: 125px auto;\n",
       "}\n",
       "\n",
       ".xr-attrs dt,\n",
       ".xr-attrs dd {\n",
       "  padding: 0;\n",
       "  margin: 0;\n",
       "  float: left;\n",
       "  padding-right: 10px;\n",
       "  width: auto;\n",
       "}\n",
       "\n",
       ".xr-attrs dt {\n",
       "  font-weight: normal;\n",
       "  grid-column: 1;\n",
       "}\n",
       "\n",
       ".xr-attrs dt:hover span {\n",
       "  display: inline-block;\n",
       "  background: var(--xr-background-color);\n",
       "  padding-right: 10px;\n",
       "}\n",
       "\n",
       ".xr-attrs dd {\n",
       "  grid-column: 2;\n",
       "  white-space: pre-wrap;\n",
       "  word-break: break-all;\n",
       "}\n",
       "\n",
       ".xr-icon-database,\n",
       ".xr-icon-file-text2,\n",
       ".xr-no-icon {\n",
       "  display: inline-block;\n",
       "  vertical-align: middle;\n",
       "  width: 1em;\n",
       "  height: 1.5em !important;\n",
       "  stroke-width: 0;\n",
       "  stroke: currentColor;\n",
       "  fill: currentColor;\n",
       "}\n",
       "</style><pre class='xr-text-repr-fallback'>&lt;xarray.Dataset&gt; Size: 241MB\n",
       "Dimensions:      (x: 10980, y: 10980)\n",
       "Coordinates:\n",
       "  * x            (x) float64 88kB 6e+05 6e+05 6e+05 ... 7.098e+05 7.098e+05\n",
       "  * y            (y) float64 88kB 5.1e+06 5.1e+06 5.1e+06 ... 4.99e+06 4.99e+06\n",
       "    spatial_ref  int64 8B 0\n",
       "Data variables:\n",
       "    red          (y, x) uint16 241MB ...\n",
       "Attributes:\n",
       "    OVR_RESAMPLING_ALG:  AVERAGE\n",
       "    AREA_OR_POINT:       Area</pre><div class='xr-wrap' style='display:none'><div class='xr-header'><div class='xr-obj-type'>xarray.Dataset</div></div><ul class='xr-sections'><li class='xr-section-item'><input id='section-6a23f49d-9cbe-4763-91e8-317a63730702' class='xr-section-summary-in' type='checkbox' disabled ><label for='section-6a23f49d-9cbe-4763-91e8-317a63730702' class='xr-section-summary'  title='Expand/collapse section'>Dimensions:</label><div class='xr-section-inline-details'><ul class='xr-dim-list'><li><span class='xr-has-index'>x</span>: 10980</li><li><span class='xr-has-index'>y</span>: 10980</li></ul></div><div class='xr-section-details'></div></li><li class='xr-section-item'><input id='section-1a9b3c60-d923-4e57-bfbc-30b73ca71f90' class='xr-section-summary-in' type='checkbox'  checked><label for='section-1a9b3c60-d923-4e57-bfbc-30b73ca71f90' class='xr-section-summary' >Coordinates: <span>(3)</span></label><div class='xr-section-inline-details'></div><div class='xr-section-details'><ul class='xr-var-list'><li class='xr-var-item'><div class='xr-var-name'><span class='xr-has-index'>x</span></div><div class='xr-var-dims'>(x)</div><div class='xr-var-dtype'>float64</div><div class='xr-var-preview xr-preview'>6e+05 6e+05 ... 7.098e+05 7.098e+05</div><input id='attrs-ed2e49dc-8381-4444-8726-da2499a45fc8' class='xr-var-attrs-in' type='checkbox' disabled><label for='attrs-ed2e49dc-8381-4444-8726-da2499a45fc8' title='Show/Hide attributes'><svg class='icon xr-icon-file-text2'><use xlink:href='#icon-file-text2'></use></svg></label><input id='data-9da20b58-d577-4abd-acd5-ed42d0cc925a' class='xr-var-data-in' type='checkbox'><label for='data-9da20b58-d577-4abd-acd5-ed42d0cc925a' title='Show/Hide data repr'><svg class='icon xr-icon-database'><use xlink:href='#icon-database'></use></svg></label><div class='xr-var-attrs'><dl class='xr-attrs'></dl></div><div class='xr-var-data'><pre>array([600005., 600015., 600025., ..., 709775., 709785., 709795.],\n",
       "      shape=(10980,))</pre></div></li><li class='xr-var-item'><div class='xr-var-name'><span class='xr-has-index'>y</span></div><div class='xr-var-dims'>(y)</div><div class='xr-var-dtype'>float64</div><div class='xr-var-preview xr-preview'>5.1e+06 5.1e+06 ... 4.99e+06</div><input id='attrs-48d7da26-5460-4415-9140-027bb1135387' class='xr-var-attrs-in' type='checkbox' disabled><label for='attrs-48d7da26-5460-4415-9140-027bb1135387' title='Show/Hide attributes'><svg class='icon xr-icon-file-text2'><use xlink:href='#icon-file-text2'></use></svg></label><input id='data-f4d94a78-218d-4771-bab8-f5558f9fd47f' class='xr-var-data-in' type='checkbox'><label for='data-f4d94a78-218d-4771-bab8-f5558f9fd47f' title='Show/Hide data repr'><svg class='icon xr-icon-database'><use xlink:href='#icon-database'></use></svg></label><div class='xr-var-attrs'><dl class='xr-attrs'></dl></div><div class='xr-var-data'><pre>array([5099995., 5099985., 5099975., ..., 4990225., 4990215., 4990205.],\n",
       "      shape=(10980,))</pre></div></li><li class='xr-var-item'><div class='xr-var-name'><span>spatial_ref</span></div><div class='xr-var-dims'>()</div><div class='xr-var-dtype'>int64</div><div class='xr-var-preview xr-preview'>0</div><input id='attrs-adeea34b-70c2-4ae2-80e8-320c2fa5bc41' class='xr-var-attrs-in' type='checkbox' ><label for='attrs-adeea34b-70c2-4ae2-80e8-320c2fa5bc41' title='Show/Hide attributes'><svg class='icon xr-icon-file-text2'><use xlink:href='#icon-file-text2'></use></svg></label><input id='data-e4ef6c4f-2cef-4150-8e77-fb400d7e6287' class='xr-var-data-in' type='checkbox'><label for='data-e4ef6c4f-2cef-4150-8e77-fb400d7e6287' title='Show/Hide data repr'><svg class='icon xr-icon-database'><use xlink:href='#icon-database'></use></svg></label><div class='xr-var-attrs'><dl class='xr-attrs'><dt><span>crs_wkt :</span></dt><dd>PROJCS[&quot;WGS 84 / UTM zone 10N&quot;,GEOGCS[&quot;WGS 84&quot;,DATUM[&quot;WGS_1984&quot;,SPHEROID[&quot;WGS 84&quot;,6378137,298.257223563,AUTHORITY[&quot;EPSG&quot;,&quot;7030&quot;]],AUTHORITY[&quot;EPSG&quot;,&quot;6326&quot;]],PRIMEM[&quot;Greenwich&quot;,0,AUTHORITY[&quot;EPSG&quot;,&quot;8901&quot;]],UNIT[&quot;degree&quot;,0.0174532925199433,AUTHORITY[&quot;EPSG&quot;,&quot;9122&quot;]],AUTHORITY[&quot;EPSG&quot;,&quot;4326&quot;]],PROJECTION[&quot;Transverse_Mercator&quot;],PARAMETER[&quot;latitude_of_origin&quot;,0],PARAMETER[&quot;central_meridian&quot;,-123],PARAMETER[&quot;scale_factor&quot;,0.9996],PARAMETER[&quot;false_easting&quot;,500000],PARAMETER[&quot;false_northing&quot;,0],UNIT[&quot;metre&quot;,1,AUTHORITY[&quot;EPSG&quot;,&quot;9001&quot;]],AXIS[&quot;Easting&quot;,EAST],AXIS[&quot;Northing&quot;,NORTH],AUTHORITY[&quot;EPSG&quot;,&quot;32610&quot;]]</dd><dt><span>semi_major_axis :</span></dt><dd>6378137.0</dd><dt><span>semi_minor_axis :</span></dt><dd>6356752.314245179</dd><dt><span>inverse_flattening :</span></dt><dd>298.257223563</dd><dt><span>reference_ellipsoid_name :</span></dt><dd>WGS 84</dd><dt><span>longitude_of_prime_meridian :</span></dt><dd>0.0</dd><dt><span>prime_meridian_name :</span></dt><dd>Greenwich</dd><dt><span>geographic_crs_name :</span></dt><dd>WGS 84</dd><dt><span>horizontal_datum_name :</span></dt><dd>World Geodetic System 1984</dd><dt><span>projected_crs_name :</span></dt><dd>WGS 84 / UTM zone 10N</dd><dt><span>grid_mapping_name :</span></dt><dd>transverse_mercator</dd><dt><span>latitude_of_projection_origin :</span></dt><dd>0.0</dd><dt><span>longitude_of_central_meridian :</span></dt><dd>-123.0</dd><dt><span>false_easting :</span></dt><dd>500000.0</dd><dt><span>false_northing :</span></dt><dd>0.0</dd><dt><span>scale_factor_at_central_meridian :</span></dt><dd>0.9996</dd><dt><span>spatial_ref :</span></dt><dd>PROJCS[&quot;WGS 84 / UTM zone 10N&quot;,GEOGCS[&quot;WGS 84&quot;,DATUM[&quot;WGS_1984&quot;,SPHEROID[&quot;WGS 84&quot;,6378137,298.257223563,AUTHORITY[&quot;EPSG&quot;,&quot;7030&quot;]],AUTHORITY[&quot;EPSG&quot;,&quot;6326&quot;]],PRIMEM[&quot;Greenwich&quot;,0,AUTHORITY[&quot;EPSG&quot;,&quot;8901&quot;]],UNIT[&quot;degree&quot;,0.0174532925199433,AUTHORITY[&quot;EPSG&quot;,&quot;9122&quot;]],AUTHORITY[&quot;EPSG&quot;,&quot;4326&quot;]],PROJECTION[&quot;Transverse_Mercator&quot;],PARAMETER[&quot;latitude_of_origin&quot;,0],PARAMETER[&quot;central_meridian&quot;,-123],PARAMETER[&quot;scale_factor&quot;,0.9996],PARAMETER[&quot;false_easting&quot;,500000],PARAMETER[&quot;false_northing&quot;,0],UNIT[&quot;metre&quot;,1,AUTHORITY[&quot;EPSG&quot;,&quot;9001&quot;]],AXIS[&quot;Easting&quot;,EAST],AXIS[&quot;Northing&quot;,NORTH],AUTHORITY[&quot;EPSG&quot;,&quot;32610&quot;]]</dd><dt><span>GeoTransform :</span></dt><dd>600000.0 10.0 0.0 5100000.0 0.0 -10.0</dd></dl></div><div class='xr-var-data'><pre>array(0)</pre></div></li></ul></div></li><li class='xr-section-item'><input id='section-15249f5a-4434-48af-8b47-c88d7a940cdd' class='xr-section-summary-in' type='checkbox'  checked><label for='section-15249f5a-4434-48af-8b47-c88d7a940cdd' class='xr-section-summary' >Data variables: <span>(1)</span></label><div class='xr-section-inline-details'></div><div class='xr-section-details'><ul class='xr-var-list'><li class='xr-var-item'><div class='xr-var-name'><span>red</span></div><div class='xr-var-dims'>(y, x)</div><div class='xr-var-dtype'>uint16</div><div class='xr-var-preview xr-preview'>...</div><input id='attrs-4b64a1d8-a8f1-44d7-948c-33ba0e50f61e' class='xr-var-attrs-in' type='checkbox' ><label for='attrs-4b64a1d8-a8f1-44d7-948c-33ba0e50f61e' title='Show/Hide attributes'><svg class='icon xr-icon-file-text2'><use xlink:href='#icon-file-text2'></use></svg></label><input id='data-2831d99a-16b8-4dfb-b578-3efa3c699f97' class='xr-var-data-in' type='checkbox'><label for='data-2831d99a-16b8-4dfb-b578-3efa3c699f97' title='Show/Hide data repr'><svg class='icon xr-icon-database'><use xlink:href='#icon-database'></use></svg></label><div class='xr-var-attrs'><dl class='xr-attrs'><dt><span>STATISTICS_MAXIMUM :</span></dt><dd>17408</dd><dt><span>STATISTICS_MEAN :</span></dt><dd>1505.1947339533</dd><dt><span>STATISTICS_MINIMUM :</span></dt><dd>294</dd><dt><span>STATISTICS_STDDEV :</span></dt><dd>659.24503616433</dd><dt><span>STATISTICS_VALID_PERCENT :</span></dt><dd>99.999</dd><dt><span>_FillValue :</span></dt><dd>0</dd><dt><span>scale_factor :</span></dt><dd>0.0001</dd><dt><span>add_offset :</span></dt><dd>-0.1</dd></dl></div><div class='xr-var-data'><pre>[120560400 values with dtype=uint16]</pre></div></li></ul></div></li><li class='xr-section-item'><input id='section-817607c9-334a-4fe0-bf39-1ccf6d60a626' class='xr-section-summary-in' type='checkbox'  ><label for='section-817607c9-334a-4fe0-bf39-1ccf6d60a626' class='xr-section-summary' >Indexes: <span>(2)</span></label><div class='xr-section-inline-details'></div><div class='xr-section-details'><ul class='xr-var-list'><li class='xr-var-item'><div class='xr-index-name'><div>x</div></div><div class='xr-index-preview'>PandasIndex</div><input type='checkbox' disabled/><label></label><input id='index-73a249a1-2b2d-49a8-ad1d-41c99c8e77ae' class='xr-index-data-in' type='checkbox'/><label for='index-73a249a1-2b2d-49a8-ad1d-41c99c8e77ae' title='Show/Hide index repr'><svg class='icon xr-icon-database'><use xlink:href='#icon-database'></use></svg></label><div class='xr-index-data'><pre>PandasIndex(Index([600005.0, 600015.0, 600025.0, 600035.0, 600045.0, 600055.0, 600065.0,\n",
       "       600075.0, 600085.0, 600095.0,\n",
       "       ...\n",
       "       709705.0, 709715.0, 709725.0, 709735.0, 709745.0, 709755.0, 709765.0,\n",
       "       709775.0, 709785.0, 709795.0],\n",
       "      dtype=&#x27;float64&#x27;, name=&#x27;x&#x27;, length=10980))</pre></div></li><li class='xr-var-item'><div class='xr-index-name'><div>y</div></div><div class='xr-index-preview'>PandasIndex</div><input type='checkbox' disabled/><label></label><input id='index-f0f9dddb-50d2-4b1d-b8dd-d09d32d0ebe3' class='xr-index-data-in' type='checkbox'/><label for='index-f0f9dddb-50d2-4b1d-b8dd-d09d32d0ebe3' title='Show/Hide index repr'><svg class='icon xr-icon-database'><use xlink:href='#icon-database'></use></svg></label><div class='xr-index-data'><pre>PandasIndex(Index([5099995.0, 5099985.0, 5099975.0, 5099965.0, 5099955.0, 5099945.0,\n",
       "       5099935.0, 5099925.0, 5099915.0, 5099905.0,\n",
       "       ...\n",
       "       4990295.0, 4990285.0, 4990275.0, 4990265.0, 4990255.0, 4990245.0,\n",
       "       4990235.0, 4990225.0, 4990215.0, 4990205.0],\n",
       "      dtype=&#x27;float64&#x27;, name=&#x27;y&#x27;, length=10980))</pre></div></li></ul></div></li><li class='xr-section-item'><input id='section-26244aff-f74a-4ac2-9a27-5ed9b53c809e' class='xr-section-summary-in' type='checkbox'  checked><label for='section-26244aff-f74a-4ac2-9a27-5ed9b53c809e' class='xr-section-summary' >Attributes: <span>(2)</span></label><div class='xr-section-inline-details'></div><div class='xr-section-details'><dl class='xr-attrs'><dt><span>OVR_RESAMPLING_ALG :</span></dt><dd>AVERAGE</dd><dt><span>AREA_OR_POINT :</span></dt><dd>Area</dd></dl></div></li></ul></div></div>"
      ],
      "text/plain": [
       "<xarray.Dataset> Size: 241MB\n",
       "Dimensions:      (x: 10980, y: 10980)\n",
       "Coordinates:\n",
       "  * x            (x) float64 88kB 6e+05 6e+05 6e+05 ... 7.098e+05 7.098e+05\n",
       "  * y            (y) float64 88kB 5.1e+06 5.1e+06 5.1e+06 ... 4.99e+06 4.99e+06\n",
       "    spatial_ref  int64 8B 0\n",
       "Data variables:\n",
       "    red          (y, x) uint16 241MB ...\n",
       "Attributes:\n",
       "    OVR_RESAMPLING_ALG:  AVERAGE\n",
       "    AREA_OR_POINT:       Area"
      ]
     },
     "execution_count": 7,
     "metadata": {},
     "output_type": "execute_result"
    }
   ],
   "source": [
    "ds = rioxarray.open_rasterio(COG_FILE, band_as_variable=True).rename_vars(band_1=\"red\")\n",
    "ds"
   ]
  },
  {
   "cell_type": "markdown",
   "id": "72d2ca76-3b69-43e0-87d3-beb5bc7391e7",
   "metadata": {},
   "source": [
    "Notice that we have the same dimensions as we saw in the COG metadata! That's a good sign. Now let's try writing out our data as zarr v3 using the default settings. We can open it back up to see it is in fact a zarr, too."
   ]
  },
  {
   "cell_type": "code",
   "execution_count": 8,
   "id": "b9346332-b951-44cd-b736-0d81d19f853a",
   "metadata": {
    "execution": {
     "iopub.execute_input": "2025-05-08T14:32:04.484960Z",
     "iopub.status.busy": "2025-05-08T14:32:04.484763Z",
     "iopub.status.idle": "2025-05-08T14:32:06.709978Z",
     "shell.execute_reply": "2025-05-08T14:32:06.709520Z",
     "shell.execute_reply.started": "2025-05-08T14:32:04.484941Z"
    }
   },
   "outputs": [
    {
     "name": "stderr",
     "output_type": "stream",
     "text": [
      "/home/jsignell/micromamba/envs/cng-raster-format/lib/python3.13/site-packages/zarr/api/asynchronous.py:205: UserWarning: Consolidated metadata is currently not part in the Zarr format 3 specification. It may not be supported by other zarr implementations and may change in the future.\n",
      "  warnings.warn(\n"
     ]
    },
    {
     "data": {
      "text/html": [
       "<div><svg style=\"position: absolute; width: 0; height: 0; overflow: hidden\">\n",
       "<defs>\n",
       "<symbol id=\"icon-database\" viewBox=\"0 0 32 32\">\n",
       "<path d=\"M16 0c-8.837 0-16 2.239-16 5v4c0 2.761 7.163 5 16 5s16-2.239 16-5v-4c0-2.761-7.163-5-16-5z\"></path>\n",
       "<path d=\"M16 17c-8.837 0-16-2.239-16-5v6c0 2.761 7.163 5 16 5s16-2.239 16-5v-6c0 2.761-7.163 5-16 5z\"></path>\n",
       "<path d=\"M16 26c-8.837 0-16-2.239-16-5v6c0 2.761 7.163 5 16 5s16-2.239 16-5v-6c0 2.761-7.163 5-16 5z\"></path>\n",
       "</symbol>\n",
       "<symbol id=\"icon-file-text2\" viewBox=\"0 0 32 32\">\n",
       "<path d=\"M28.681 7.159c-0.694-0.947-1.662-2.053-2.724-3.116s-2.169-2.030-3.116-2.724c-1.612-1.182-2.393-1.319-2.841-1.319h-15.5c-1.378 0-2.5 1.121-2.5 2.5v27c0 1.378 1.122 2.5 2.5 2.5h23c1.378 0 2.5-1.122 2.5-2.5v-19.5c0-0.448-0.137-1.23-1.319-2.841zM24.543 5.457c0.959 0.959 1.712 1.825 2.268 2.543h-4.811v-4.811c0.718 0.556 1.584 1.309 2.543 2.268zM28 29.5c0 0.271-0.229 0.5-0.5 0.5h-23c-0.271 0-0.5-0.229-0.5-0.5v-27c0-0.271 0.229-0.5 0.5-0.5 0 0 15.499-0 15.5 0v7c0 0.552 0.448 1 1 1h7v19.5z\"></path>\n",
       "<path d=\"M23 26h-14c-0.552 0-1-0.448-1-1s0.448-1 1-1h14c0.552 0 1 0.448 1 1s-0.448 1-1 1z\"></path>\n",
       "<path d=\"M23 22h-14c-0.552 0-1-0.448-1-1s0.448-1 1-1h14c0.552 0 1 0.448 1 1s-0.448 1-1 1z\"></path>\n",
       "<path d=\"M23 18h-14c-0.552 0-1-0.448-1-1s0.448-1 1-1h14c0.552 0 1 0.448 1 1s-0.448 1-1 1z\"></path>\n",
       "</symbol>\n",
       "</defs>\n",
       "</svg>\n",
       "<style>/* CSS stylesheet for displaying xarray objects in jupyterlab.\n",
       " *\n",
       " */\n",
       "\n",
       ":root {\n",
       "  --xr-font-color0: var(--jp-content-font-color0, rgba(0, 0, 0, 1));\n",
       "  --xr-font-color2: var(--jp-content-font-color2, rgba(0, 0, 0, 0.54));\n",
       "  --xr-font-color3: var(--jp-content-font-color3, rgba(0, 0, 0, 0.38));\n",
       "  --xr-border-color: var(--jp-border-color2, #e0e0e0);\n",
       "  --xr-disabled-color: var(--jp-layout-color3, #bdbdbd);\n",
       "  --xr-background-color: var(--jp-layout-color0, white);\n",
       "  --xr-background-color-row-even: var(--jp-layout-color1, white);\n",
       "  --xr-background-color-row-odd: var(--jp-layout-color2, #eeeeee);\n",
       "}\n",
       "\n",
       "html[theme=\"dark\"],\n",
       "html[data-theme=\"dark\"],\n",
       "body[data-theme=\"dark\"],\n",
       "body.vscode-dark {\n",
       "  --xr-font-color0: rgba(255, 255, 255, 1);\n",
       "  --xr-font-color2: rgba(255, 255, 255, 0.54);\n",
       "  --xr-font-color3: rgba(255, 255, 255, 0.38);\n",
       "  --xr-border-color: #1f1f1f;\n",
       "  --xr-disabled-color: #515151;\n",
       "  --xr-background-color: #111111;\n",
       "  --xr-background-color-row-even: #111111;\n",
       "  --xr-background-color-row-odd: #313131;\n",
       "}\n",
       "\n",
       ".xr-wrap {\n",
       "  display: block !important;\n",
       "  min-width: 300px;\n",
       "  max-width: 700px;\n",
       "}\n",
       "\n",
       ".xr-text-repr-fallback {\n",
       "  /* fallback to plain text repr when CSS is not injected (untrusted notebook) */\n",
       "  display: none;\n",
       "}\n",
       "\n",
       ".xr-header {\n",
       "  padding-top: 6px;\n",
       "  padding-bottom: 6px;\n",
       "  margin-bottom: 4px;\n",
       "  border-bottom: solid 1px var(--xr-border-color);\n",
       "}\n",
       "\n",
       ".xr-header > div,\n",
       ".xr-header > ul {\n",
       "  display: inline;\n",
       "  margin-top: 0;\n",
       "  margin-bottom: 0;\n",
       "}\n",
       "\n",
       ".xr-obj-type,\n",
       ".xr-array-name {\n",
       "  margin-left: 2px;\n",
       "  margin-right: 10px;\n",
       "}\n",
       "\n",
       ".xr-obj-type {\n",
       "  color: var(--xr-font-color2);\n",
       "}\n",
       "\n",
       ".xr-sections {\n",
       "  padding-left: 0 !important;\n",
       "  display: grid;\n",
       "  grid-template-columns: 150px auto auto 1fr 0 20px 0 20px;\n",
       "}\n",
       "\n",
       ".xr-section-item {\n",
       "  display: contents;\n",
       "}\n",
       "\n",
       ".xr-section-item input {\n",
       "  display: inline-block;\n",
       "  opacity: 0;\n",
       "  height: 0;\n",
       "}\n",
       "\n",
       ".xr-section-item input + label {\n",
       "  color: var(--xr-disabled-color);\n",
       "}\n",
       "\n",
       ".xr-section-item input:enabled + label {\n",
       "  cursor: pointer;\n",
       "  color: var(--xr-font-color2);\n",
       "}\n",
       "\n",
       ".xr-section-item input:focus + label {\n",
       "  border: 2px solid var(--xr-font-color0);\n",
       "}\n",
       "\n",
       ".xr-section-item input:enabled + label:hover {\n",
       "  color: var(--xr-font-color0);\n",
       "}\n",
       "\n",
       ".xr-section-summary {\n",
       "  grid-column: 1;\n",
       "  color: var(--xr-font-color2);\n",
       "  font-weight: 500;\n",
       "}\n",
       "\n",
       ".xr-section-summary > span {\n",
       "  display: inline-block;\n",
       "  padding-left: 0.5em;\n",
       "}\n",
       "\n",
       ".xr-section-summary-in:disabled + label {\n",
       "  color: var(--xr-font-color2);\n",
       "}\n",
       "\n",
       ".xr-section-summary-in + label:before {\n",
       "  display: inline-block;\n",
       "  content: \"►\";\n",
       "  font-size: 11px;\n",
       "  width: 15px;\n",
       "  text-align: center;\n",
       "}\n",
       "\n",
       ".xr-section-summary-in:disabled + label:before {\n",
       "  color: var(--xr-disabled-color);\n",
       "}\n",
       "\n",
       ".xr-section-summary-in:checked + label:before {\n",
       "  content: \"▼\";\n",
       "}\n",
       "\n",
       ".xr-section-summary-in:checked + label > span {\n",
       "  display: none;\n",
       "}\n",
       "\n",
       ".xr-section-summary,\n",
       ".xr-section-inline-details {\n",
       "  padding-top: 4px;\n",
       "  padding-bottom: 4px;\n",
       "}\n",
       "\n",
       ".xr-section-inline-details {\n",
       "  grid-column: 2 / -1;\n",
       "}\n",
       "\n",
       ".xr-section-details {\n",
       "  display: none;\n",
       "  grid-column: 1 / -1;\n",
       "  margin-bottom: 5px;\n",
       "}\n",
       "\n",
       ".xr-section-summary-in:checked ~ .xr-section-details {\n",
       "  display: contents;\n",
       "}\n",
       "\n",
       ".xr-array-wrap {\n",
       "  grid-column: 1 / -1;\n",
       "  display: grid;\n",
       "  grid-template-columns: 20px auto;\n",
       "}\n",
       "\n",
       ".xr-array-wrap > label {\n",
       "  grid-column: 1;\n",
       "  vertical-align: top;\n",
       "}\n",
       "\n",
       ".xr-preview {\n",
       "  color: var(--xr-font-color3);\n",
       "}\n",
       "\n",
       ".xr-array-preview,\n",
       ".xr-array-data {\n",
       "  padding: 0 5px !important;\n",
       "  grid-column: 2;\n",
       "}\n",
       "\n",
       ".xr-array-data,\n",
       ".xr-array-in:checked ~ .xr-array-preview {\n",
       "  display: none;\n",
       "}\n",
       "\n",
       ".xr-array-in:checked ~ .xr-array-data,\n",
       ".xr-array-preview {\n",
       "  display: inline-block;\n",
       "}\n",
       "\n",
       ".xr-dim-list {\n",
       "  display: inline-block !important;\n",
       "  list-style: none;\n",
       "  padding: 0 !important;\n",
       "  margin: 0;\n",
       "}\n",
       "\n",
       ".xr-dim-list li {\n",
       "  display: inline-block;\n",
       "  padding: 0;\n",
       "  margin: 0;\n",
       "}\n",
       "\n",
       ".xr-dim-list:before {\n",
       "  content: \"(\";\n",
       "}\n",
       "\n",
       ".xr-dim-list:after {\n",
       "  content: \")\";\n",
       "}\n",
       "\n",
       ".xr-dim-list li:not(:last-child):after {\n",
       "  content: \",\";\n",
       "  padding-right: 5px;\n",
       "}\n",
       "\n",
       ".xr-has-index {\n",
       "  font-weight: bold;\n",
       "}\n",
       "\n",
       ".xr-var-list,\n",
       ".xr-var-item {\n",
       "  display: contents;\n",
       "}\n",
       "\n",
       ".xr-var-item > div,\n",
       ".xr-var-item label,\n",
       ".xr-var-item > .xr-var-name span {\n",
       "  background-color: var(--xr-background-color-row-even);\n",
       "  margin-bottom: 0;\n",
       "}\n",
       "\n",
       ".xr-var-item > .xr-var-name:hover span {\n",
       "  padding-right: 5px;\n",
       "}\n",
       "\n",
       ".xr-var-list > li:nth-child(odd) > div,\n",
       ".xr-var-list > li:nth-child(odd) > label,\n",
       ".xr-var-list > li:nth-child(odd) > .xr-var-name span {\n",
       "  background-color: var(--xr-background-color-row-odd);\n",
       "}\n",
       "\n",
       ".xr-var-name {\n",
       "  grid-column: 1;\n",
       "}\n",
       "\n",
       ".xr-var-dims {\n",
       "  grid-column: 2;\n",
       "}\n",
       "\n",
       ".xr-var-dtype {\n",
       "  grid-column: 3;\n",
       "  text-align: right;\n",
       "  color: var(--xr-font-color2);\n",
       "}\n",
       "\n",
       ".xr-var-preview {\n",
       "  grid-column: 4;\n",
       "}\n",
       "\n",
       ".xr-index-preview {\n",
       "  grid-column: 2 / 5;\n",
       "  color: var(--xr-font-color2);\n",
       "}\n",
       "\n",
       ".xr-var-name,\n",
       ".xr-var-dims,\n",
       ".xr-var-dtype,\n",
       ".xr-preview,\n",
       ".xr-attrs dt {\n",
       "  white-space: nowrap;\n",
       "  overflow: hidden;\n",
       "  text-overflow: ellipsis;\n",
       "  padding-right: 10px;\n",
       "}\n",
       "\n",
       ".xr-var-name:hover,\n",
       ".xr-var-dims:hover,\n",
       ".xr-var-dtype:hover,\n",
       ".xr-attrs dt:hover {\n",
       "  overflow: visible;\n",
       "  width: auto;\n",
       "  z-index: 1;\n",
       "}\n",
       "\n",
       ".xr-var-attrs,\n",
       ".xr-var-data,\n",
       ".xr-index-data {\n",
       "  display: none;\n",
       "  background-color: var(--xr-background-color) !important;\n",
       "  padding-bottom: 5px !important;\n",
       "}\n",
       "\n",
       ".xr-var-attrs-in:checked ~ .xr-var-attrs,\n",
       ".xr-var-data-in:checked ~ .xr-var-data,\n",
       ".xr-index-data-in:checked ~ .xr-index-data {\n",
       "  display: block;\n",
       "}\n",
       "\n",
       ".xr-var-data > table {\n",
       "  float: right;\n",
       "}\n",
       "\n",
       ".xr-var-name span,\n",
       ".xr-var-data,\n",
       ".xr-index-name div,\n",
       ".xr-index-data,\n",
       ".xr-attrs {\n",
       "  padding-left: 25px !important;\n",
       "}\n",
       "\n",
       ".xr-attrs,\n",
       ".xr-var-attrs,\n",
       ".xr-var-data,\n",
       ".xr-index-data {\n",
       "  grid-column: 1 / -1;\n",
       "}\n",
       "\n",
       "dl.xr-attrs {\n",
       "  padding: 0;\n",
       "  margin: 0;\n",
       "  display: grid;\n",
       "  grid-template-columns: 125px auto;\n",
       "}\n",
       "\n",
       ".xr-attrs dt,\n",
       ".xr-attrs dd {\n",
       "  padding: 0;\n",
       "  margin: 0;\n",
       "  float: left;\n",
       "  padding-right: 10px;\n",
       "  width: auto;\n",
       "}\n",
       "\n",
       ".xr-attrs dt {\n",
       "  font-weight: normal;\n",
       "  grid-column: 1;\n",
       "}\n",
       "\n",
       ".xr-attrs dt:hover span {\n",
       "  display: inline-block;\n",
       "  background: var(--xr-background-color);\n",
       "  padding-right: 10px;\n",
       "}\n",
       "\n",
       ".xr-attrs dd {\n",
       "  grid-column: 2;\n",
       "  white-space: pre-wrap;\n",
       "  word-break: break-all;\n",
       "}\n",
       "\n",
       ".xr-icon-database,\n",
       ".xr-icon-file-text2,\n",
       ".xr-no-icon {\n",
       "  display: inline-block;\n",
       "  vertical-align: middle;\n",
       "  width: 1em;\n",
       "  height: 1.5em !important;\n",
       "  stroke-width: 0;\n",
       "  stroke: currentColor;\n",
       "  fill: currentColor;\n",
       "}\n",
       "</style><pre class='xr-text-repr-fallback'>&lt;xarray.Dataset&gt; Size: 965MB\n",
       "Dimensions:      (y: 10980, x: 10980)\n",
       "Coordinates:\n",
       "  * x            (x) float64 88kB 6e+05 6e+05 6e+05 ... 7.098e+05 7.098e+05\n",
       "  * y            (y) float64 88kB 5.1e+06 5.1e+06 5.1e+06 ... 4.99e+06 4.99e+06\n",
       "Data variables:\n",
       "    spatial_ref  int64 8B ...\n",
       "    red          (y, x) float64 964MB ...\n",
       "Attributes:\n",
       "    OVR_RESAMPLING_ALG:  AVERAGE\n",
       "    AREA_OR_POINT:       Area</pre><div class='xr-wrap' style='display:none'><div class='xr-header'><div class='xr-obj-type'>xarray.Dataset</div></div><ul class='xr-sections'><li class='xr-section-item'><input id='section-8491f6f1-f124-4529-94f0-ef9af68a1f94' class='xr-section-summary-in' type='checkbox' disabled ><label for='section-8491f6f1-f124-4529-94f0-ef9af68a1f94' class='xr-section-summary'  title='Expand/collapse section'>Dimensions:</label><div class='xr-section-inline-details'><ul class='xr-dim-list'><li><span class='xr-has-index'>y</span>: 10980</li><li><span class='xr-has-index'>x</span>: 10980</li></ul></div><div class='xr-section-details'></div></li><li class='xr-section-item'><input id='section-b705f7e2-87ec-4f51-96c1-8f9675ab10ee' class='xr-section-summary-in' type='checkbox'  checked><label for='section-b705f7e2-87ec-4f51-96c1-8f9675ab10ee' class='xr-section-summary' >Coordinates: <span>(2)</span></label><div class='xr-section-inline-details'></div><div class='xr-section-details'><ul class='xr-var-list'><li class='xr-var-item'><div class='xr-var-name'><span class='xr-has-index'>x</span></div><div class='xr-var-dims'>(x)</div><div class='xr-var-dtype'>float64</div><div class='xr-var-preview xr-preview'>6e+05 6e+05 ... 7.098e+05 7.098e+05</div><input id='attrs-f911e38d-4504-43c8-a856-f9e452f9c5dd' class='xr-var-attrs-in' type='checkbox' disabled><label for='attrs-f911e38d-4504-43c8-a856-f9e452f9c5dd' title='Show/Hide attributes'><svg class='icon xr-icon-file-text2'><use xlink:href='#icon-file-text2'></use></svg></label><input id='data-2b996222-ba22-4c39-b54e-c5b1798e07ae' class='xr-var-data-in' type='checkbox'><label for='data-2b996222-ba22-4c39-b54e-c5b1798e07ae' title='Show/Hide data repr'><svg class='icon xr-icon-database'><use xlink:href='#icon-database'></use></svg></label><div class='xr-var-attrs'><dl class='xr-attrs'></dl></div><div class='xr-var-data'><pre>array([600005., 600015., 600025., ..., 709775., 709785., 709795.],\n",
       "      shape=(10980,))</pre></div></li><li class='xr-var-item'><div class='xr-var-name'><span class='xr-has-index'>y</span></div><div class='xr-var-dims'>(y)</div><div class='xr-var-dtype'>float64</div><div class='xr-var-preview xr-preview'>5.1e+06 5.1e+06 ... 4.99e+06</div><input id='attrs-ac9c8b6e-74b4-4832-8ed7-4d0a2322ef27' class='xr-var-attrs-in' type='checkbox' disabled><label for='attrs-ac9c8b6e-74b4-4832-8ed7-4d0a2322ef27' title='Show/Hide attributes'><svg class='icon xr-icon-file-text2'><use xlink:href='#icon-file-text2'></use></svg></label><input id='data-1b9b4215-aaf6-4b07-83ce-ab25376daa24' class='xr-var-data-in' type='checkbox'><label for='data-1b9b4215-aaf6-4b07-83ce-ab25376daa24' title='Show/Hide data repr'><svg class='icon xr-icon-database'><use xlink:href='#icon-database'></use></svg></label><div class='xr-var-attrs'><dl class='xr-attrs'></dl></div><div class='xr-var-data'><pre>array([5099995., 5099985., 5099975., ..., 4990225., 4990215., 4990205.],\n",
       "      shape=(10980,))</pre></div></li></ul></div></li><li class='xr-section-item'><input id='section-5792b98f-a924-4649-9b3b-4201e2838e91' class='xr-section-summary-in' type='checkbox'  checked><label for='section-5792b98f-a924-4649-9b3b-4201e2838e91' class='xr-section-summary' >Data variables: <span>(2)</span></label><div class='xr-section-inline-details'></div><div class='xr-section-details'><ul class='xr-var-list'><li class='xr-var-item'><div class='xr-var-name'><span>spatial_ref</span></div><div class='xr-var-dims'>()</div><div class='xr-var-dtype'>int64</div><div class='xr-var-preview xr-preview'>...</div><input id='attrs-1fa33c24-1671-4e9a-a4a8-d5bb17ce1e55' class='xr-var-attrs-in' type='checkbox' ><label for='attrs-1fa33c24-1671-4e9a-a4a8-d5bb17ce1e55' title='Show/Hide attributes'><svg class='icon xr-icon-file-text2'><use xlink:href='#icon-file-text2'></use></svg></label><input id='data-96bd83c7-5da9-468e-9099-23ce2487aca7' class='xr-var-data-in' type='checkbox'><label for='data-96bd83c7-5da9-468e-9099-23ce2487aca7' title='Show/Hide data repr'><svg class='icon xr-icon-database'><use xlink:href='#icon-database'></use></svg></label><div class='xr-var-attrs'><dl class='xr-attrs'><dt><span>crs_wkt :</span></dt><dd>PROJCS[&quot;WGS 84 / UTM zone 10N&quot;,GEOGCS[&quot;WGS 84&quot;,DATUM[&quot;WGS_1984&quot;,SPHEROID[&quot;WGS 84&quot;,6378137,298.257223563,AUTHORITY[&quot;EPSG&quot;,&quot;7030&quot;]],AUTHORITY[&quot;EPSG&quot;,&quot;6326&quot;]],PRIMEM[&quot;Greenwich&quot;,0,AUTHORITY[&quot;EPSG&quot;,&quot;8901&quot;]],UNIT[&quot;degree&quot;,0.0174532925199433,AUTHORITY[&quot;EPSG&quot;,&quot;9122&quot;]],AUTHORITY[&quot;EPSG&quot;,&quot;4326&quot;]],PROJECTION[&quot;Transverse_Mercator&quot;],PARAMETER[&quot;latitude_of_origin&quot;,0],PARAMETER[&quot;central_meridian&quot;,-123],PARAMETER[&quot;scale_factor&quot;,0.9996],PARAMETER[&quot;false_easting&quot;,500000],PARAMETER[&quot;false_northing&quot;,0],UNIT[&quot;metre&quot;,1,AUTHORITY[&quot;EPSG&quot;,&quot;9001&quot;]],AXIS[&quot;Easting&quot;,EAST],AXIS[&quot;Northing&quot;,NORTH],AUTHORITY[&quot;EPSG&quot;,&quot;32610&quot;]]</dd><dt><span>semi_major_axis :</span></dt><dd>6378137.0</dd><dt><span>semi_minor_axis :</span></dt><dd>6356752.314245179</dd><dt><span>inverse_flattening :</span></dt><dd>298.257223563</dd><dt><span>reference_ellipsoid_name :</span></dt><dd>WGS 84</dd><dt><span>longitude_of_prime_meridian :</span></dt><dd>0.0</dd><dt><span>prime_meridian_name :</span></dt><dd>Greenwich</dd><dt><span>geographic_crs_name :</span></dt><dd>WGS 84</dd><dt><span>horizontal_datum_name :</span></dt><dd>World Geodetic System 1984</dd><dt><span>projected_crs_name :</span></dt><dd>WGS 84 / UTM zone 10N</dd><dt><span>grid_mapping_name :</span></dt><dd>transverse_mercator</dd><dt><span>latitude_of_projection_origin :</span></dt><dd>0.0</dd><dt><span>longitude_of_central_meridian :</span></dt><dd>-123.0</dd><dt><span>false_easting :</span></dt><dd>500000.0</dd><dt><span>false_northing :</span></dt><dd>0.0</dd><dt><span>scale_factor_at_central_meridian :</span></dt><dd>0.9996</dd><dt><span>spatial_ref :</span></dt><dd>PROJCS[&quot;WGS 84 / UTM zone 10N&quot;,GEOGCS[&quot;WGS 84&quot;,DATUM[&quot;WGS_1984&quot;,SPHEROID[&quot;WGS 84&quot;,6378137,298.257223563,AUTHORITY[&quot;EPSG&quot;,&quot;7030&quot;]],AUTHORITY[&quot;EPSG&quot;,&quot;6326&quot;]],PRIMEM[&quot;Greenwich&quot;,0,AUTHORITY[&quot;EPSG&quot;,&quot;8901&quot;]],UNIT[&quot;degree&quot;,0.0174532925199433,AUTHORITY[&quot;EPSG&quot;,&quot;9122&quot;]],AUTHORITY[&quot;EPSG&quot;,&quot;4326&quot;]],PROJECTION[&quot;Transverse_Mercator&quot;],PARAMETER[&quot;latitude_of_origin&quot;,0],PARAMETER[&quot;central_meridian&quot;,-123],PARAMETER[&quot;scale_factor&quot;,0.9996],PARAMETER[&quot;false_easting&quot;,500000],PARAMETER[&quot;false_northing&quot;,0],UNIT[&quot;metre&quot;,1,AUTHORITY[&quot;EPSG&quot;,&quot;9001&quot;]],AXIS[&quot;Easting&quot;,EAST],AXIS[&quot;Northing&quot;,NORTH],AUTHORITY[&quot;EPSG&quot;,&quot;32610&quot;]]</dd><dt><span>GeoTransform :</span></dt><dd>600000.0 10.0 0.0 5100000.0 0.0 -10.0</dd></dl></div><div class='xr-var-data'><pre>[1 values with dtype=int64]</pre></div></li><li class='xr-var-item'><div class='xr-var-name'><span>red</span></div><div class='xr-var-dims'>(y, x)</div><div class='xr-var-dtype'>float64</div><div class='xr-var-preview xr-preview'>...</div><input id='attrs-ba2cd512-755d-415a-b969-2cce6cb460f7' class='xr-var-attrs-in' type='checkbox' ><label for='attrs-ba2cd512-755d-415a-b969-2cce6cb460f7' title='Show/Hide attributes'><svg class='icon xr-icon-file-text2'><use xlink:href='#icon-file-text2'></use></svg></label><input id='data-3bc8cd00-4214-4f52-8922-03a7cee073a0' class='xr-var-data-in' type='checkbox'><label for='data-3bc8cd00-4214-4f52-8922-03a7cee073a0' title='Show/Hide data repr'><svg class='icon xr-icon-database'><use xlink:href='#icon-database'></use></svg></label><div class='xr-var-attrs'><dl class='xr-attrs'><dt><span>STATISTICS_MAXIMUM :</span></dt><dd>17408</dd><dt><span>STATISTICS_MEAN :</span></dt><dd>1505.1947339533</dd><dt><span>STATISTICS_MINIMUM :</span></dt><dd>294</dd><dt><span>STATISTICS_STDDEV :</span></dt><dd>659.24503616433</dd><dt><span>STATISTICS_VALID_PERCENT :</span></dt><dd>99.999</dd><dt><span>grid_mapping :</span></dt><dd>spatial_ref</dd></dl></div><div class='xr-var-data'><pre>[120560400 values with dtype=float64]</pre></div></li></ul></div></li><li class='xr-section-item'><input id='section-e0276a1c-f157-4c03-a4c1-8c67a6c64aad' class='xr-section-summary-in' type='checkbox'  ><label for='section-e0276a1c-f157-4c03-a4c1-8c67a6c64aad' class='xr-section-summary' >Indexes: <span>(2)</span></label><div class='xr-section-inline-details'></div><div class='xr-section-details'><ul class='xr-var-list'><li class='xr-var-item'><div class='xr-index-name'><div>x</div></div><div class='xr-index-preview'>PandasIndex</div><input type='checkbox' disabled/><label></label><input id='index-7859e72f-2881-466d-acb7-8f60eb9bfbe9' class='xr-index-data-in' type='checkbox'/><label for='index-7859e72f-2881-466d-acb7-8f60eb9bfbe9' title='Show/Hide index repr'><svg class='icon xr-icon-database'><use xlink:href='#icon-database'></use></svg></label><div class='xr-index-data'><pre>PandasIndex(Index([600005.0, 600015.0, 600025.0, 600035.0, 600045.0, 600055.0, 600065.0,\n",
       "       600075.0, 600085.0, 600095.0,\n",
       "       ...\n",
       "       709705.0, 709715.0, 709725.0, 709735.0, 709745.0, 709755.0, 709765.0,\n",
       "       709775.0, 709785.0, 709795.0],\n",
       "      dtype=&#x27;float64&#x27;, name=&#x27;x&#x27;, length=10980))</pre></div></li><li class='xr-var-item'><div class='xr-index-name'><div>y</div></div><div class='xr-index-preview'>PandasIndex</div><input type='checkbox' disabled/><label></label><input id='index-20137edd-300f-4daf-9ac6-710f3c0fc238' class='xr-index-data-in' type='checkbox'/><label for='index-20137edd-300f-4daf-9ac6-710f3c0fc238' title='Show/Hide index repr'><svg class='icon xr-icon-database'><use xlink:href='#icon-database'></use></svg></label><div class='xr-index-data'><pre>PandasIndex(Index([5099995.0, 5099985.0, 5099975.0, 5099965.0, 5099955.0, 5099945.0,\n",
       "       5099935.0, 5099925.0, 5099915.0, 5099905.0,\n",
       "       ...\n",
       "       4990295.0, 4990285.0, 4990275.0, 4990265.0, 4990255.0, 4990245.0,\n",
       "       4990235.0, 4990225.0, 4990215.0, 4990205.0],\n",
       "      dtype=&#x27;float64&#x27;, name=&#x27;y&#x27;, length=10980))</pre></div></li></ul></div></li><li class='xr-section-item'><input id='section-b7250052-428e-45ec-b92b-d7c7c0f3fe2f' class='xr-section-summary-in' type='checkbox'  checked><label for='section-b7250052-428e-45ec-b92b-d7c7c0f3fe2f' class='xr-section-summary' >Attributes: <span>(2)</span></label><div class='xr-section-inline-details'></div><div class='xr-section-details'><dl class='xr-attrs'><dt><span>OVR_RESAMPLING_ALG :</span></dt><dd>AVERAGE</dd><dt><span>AREA_OR_POINT :</span></dt><dd>Area</dd></dl></div></li></ul></div></div>"
      ],
      "text/plain": [
       "<xarray.Dataset> Size: 965MB\n",
       "Dimensions:      (y: 10980, x: 10980)\n",
       "Coordinates:\n",
       "  * x            (x) float64 88kB 6e+05 6e+05 6e+05 ... 7.098e+05 7.098e+05\n",
       "  * y            (y) float64 88kB 5.1e+06 5.1e+06 5.1e+06 ... 4.99e+06 4.99e+06\n",
       "Data variables:\n",
       "    spatial_ref  int64 8B ...\n",
       "    red          (y, x) float64 964MB ...\n",
       "Attributes:\n",
       "    OVR_RESAMPLING_ALG:  AVERAGE\n",
       "    AREA_OR_POINT:       Area"
      ]
     },
     "execution_count": 8,
     "metadata": {},
     "output_type": "execute_result"
    }
   ],
   "source": [
    "ZARR_DEFAULTS = OUTDIR / 'defaults.zarr'\n",
    "\n",
    "# just in case we've run this before\n",
    "if ZARR_DEFAULTS.exists():\n",
    "    shutil.rmtree(ZARR_DEFAULTS)\n",
    "\n",
    "ds.to_zarr(\n",
    "    ZARR_DEFAULTS,\n",
    "    zarr_format=3,\n",
    ")\n",
    "xarray.open_dataset(ZARR_DEFAULTS, engine='zarr')"
   ]
  },
  {
   "cell_type": "markdown",
   "id": "d736ec5a-e3e2-4b93-8967-522eb72b3020",
   "metadata": {},
   "source": [
    "### Reading the zarr metadata\n",
    "\n",
    "The metadata for zarr is a bit of a contentious topic due to consolidated metadata vs not--we're going to sidestep an opinion in that discussion for the moment and just say that our relevant metadata in this v3 store is stored in the file `red/zarr.json`. Let's open that up and dump its contents to compare with our TIFF tag metadata."
   ]
  },
  {
   "cell_type": "code",
   "execution_count": 9,
   "id": "698dbfe7-5272-416e-9f4c-bee53ed520b0",
   "metadata": {
    "execution": {
     "iopub.execute_input": "2025-05-08T14:32:06.711101Z",
     "iopub.status.busy": "2025-05-08T14:32:06.710599Z",
     "iopub.status.idle": "2025-05-08T14:32:06.714467Z",
     "shell.execute_reply": "2025-05-08T14:32:06.714092Z",
     "shell.execute_reply.started": "2025-05-08T14:32:06.711080Z"
    }
   },
   "outputs": [
    {
     "data": {
      "application/json": {
       "attributes": {
        "STATISTICS_MAXIMUM": 17408,
        "STATISTICS_MEAN": 1505.1947339533,
        "STATISTICS_MINIMUM": 294,
        "STATISTICS_STDDEV": 659.24503616433,
        "STATISTICS_VALID_PERCENT": 99.999,
        "_FillValue": 0,
        "add_offset": -0.1,
        "grid_mapping": "spatial_ref",
        "scale_factor": 0.0001
       },
       "chunk_grid": {
        "configuration": {
         "chunk_shape": [
          687,
          1373
         ]
        },
        "name": "regular"
       },
       "chunk_key_encoding": {
        "configuration": {
         "separator": "/"
        },
        "name": "default"
       },
       "codecs": [
        {
         "configuration": {
          "endian": "little"
         },
         "name": "bytes"
        },
        {
         "configuration": {
          "checksum": false,
          "level": 0
         },
         "name": "zstd"
        }
       ],
       "data_type": "uint16",
       "dimension_names": [
        "y",
        "x"
       ],
       "fill_value": 0,
       "node_type": "array",
       "shape": [
        10980,
        10980
       ],
       "storage_transformers": [],
       "zarr_format": 3
      },
      "text/plain": [
       "<IPython.core.display.JSON object>"
      ]
     },
     "execution_count": 9,
     "metadata": {
      "application/json": {
       "expanded": true,
       "root": "Default Zarr (zstd)"
      }
     },
     "output_type": "execute_result"
    }
   ],
   "source": [
    "JSON(filename=(ZARR_DEFAULTS / 'red' / 'zarr.json'), root=\"Default Zarr (zstd)\", expanded=True)"
   ]
  },
  {
   "cell_type": "markdown",
   "id": "1955c1d5-8c4c-4db6-8c39-730a56de05b4",
   "metadata": {},
   "source": [
    "Wow, for the most part that looks kinda similar. It is missing spatial reference information directly, which is an important note. But probably the first thing that looks like a problem is the chunk size.\n",
    "\n",
    "Zarr stores data very similarly to COG in that it spilts the data up into smaller pieces. Zarr terms these \"chunks\", as opposed to the COG nomenclature of \"tiles\", but they are functionally equivalent. Here we see that the default chunk size used is 687 x 1373, not 1024 x 1024. To ensure we can effectively compare the data in a zarr chunk to one of our COG tiles we should make these match in size."
   ]
  },
  {
   "cell_type": "markdown",
   "id": "a24144fd-5f7c-4ffc-a8ba-d5573af1e720",
   "metadata": {},
   "source": [
    "## Writing zarr with a specific chunk size\n",
    "\n",
    "Turns out we can use the `encoding` argument of `to_zarr` to specify the chunk size we want to use. We have to do that on a per-data-variable-basis, so we have to nest our encoding settings within a dictionary keyed off the name of our data variable, which we previously specified was `red`."
   ]
  },
  {
   "cell_type": "code",
   "execution_count": 10,
   "id": "eb17b5cb-1698-44cc-b71e-d6d37d6d2c43",
   "metadata": {
    "execution": {
     "iopub.execute_input": "2025-05-08T14:32:06.715154Z",
     "iopub.status.busy": "2025-05-08T14:32:06.714961Z",
     "iopub.status.idle": "2025-05-08T14:32:07.297023Z",
     "shell.execute_reply": "2025-05-08T14:32:07.296330Z",
     "shell.execute_reply.started": "2025-05-08T14:32:06.715136Z"
    }
   },
   "outputs": [
    {
     "name": "stderr",
     "output_type": "stream",
     "text": [
      "/home/jsignell/micromamba/envs/cng-raster-format/lib/python3.13/site-packages/zarr/api/asynchronous.py:205: UserWarning: Consolidated metadata is currently not part in the Zarr format 3 specification. It may not be supported by other zarr implementations and may change in the future.\n",
      "  warnings.warn(\n"
     ]
    },
    {
     "data": {
      "text/plain": [
       "<xarray.backends.zarr.ZarrStore at 0x78d98c997c70>"
      ]
     },
     "execution_count": 10,
     "metadata": {},
     "output_type": "execute_result"
    }
   ],
   "source": [
    "ZARR_TILED = OUTDIR / 'tiled.zarr'\n",
    "\n",
    "# just in case we've run this before\n",
    "if ZARR_TILED.exists():\n",
    "    shutil.rmtree(ZARR_TILED)\n",
    "\n",
    "ds.to_zarr(\n",
    "    ZARR_TILED,\n",
    "    zarr_format=3,\n",
    "    encoding={\n",
    "        'red': {\n",
    "            \"chunks\": (1024, 1024),\n",
    "        },\n",
    "    },\n",
    ")"
   ]
  },
  {
   "cell_type": "markdown",
   "id": "a28f28f8-e433-4b9f-a436-7095dd4a8d6b",
   "metadata": {},
   "source": [
    "The metadata is in the same file within this new zarr store, so we can read it out the same as before to see if that looks any better."
   ]
  },
  {
   "cell_type": "code",
   "execution_count": 11,
   "id": "19c0f3af-acb7-49a0-9396-98762c8f3d5d",
   "metadata": {
    "execution": {
     "iopub.execute_input": "2025-05-08T14:32:07.297952Z",
     "iopub.status.busy": "2025-05-08T14:32:07.297702Z",
     "iopub.status.idle": "2025-05-08T14:32:07.302310Z",
     "shell.execute_reply": "2025-05-08T14:32:07.301971Z",
     "shell.execute_reply.started": "2025-05-08T14:32:07.297934Z"
    }
   },
   "outputs": [
    {
     "data": {
      "application/json": {
       "attributes": {
        "STATISTICS_MAXIMUM": 17408,
        "STATISTICS_MEAN": 1505.1947339533,
        "STATISTICS_MINIMUM": 294,
        "STATISTICS_STDDEV": 659.24503616433,
        "STATISTICS_VALID_PERCENT": 99.999,
        "_FillValue": 0,
        "add_offset": -0.1,
        "scale_factor": 0.0001
       },
       "chunk_grid": {
        "configuration": {
         "chunk_shape": [
          1024,
          1024
         ]
        },
        "name": "regular"
       },
       "chunk_key_encoding": {
        "configuration": {
         "separator": "/"
        },
        "name": "default"
       },
       "codecs": [
        {
         "configuration": {
          "endian": "little"
         },
         "name": "bytes"
        },
        {
         "configuration": {
          "checksum": false,
          "level": 0
         },
         "name": "zstd"
        }
       ],
       "data_type": "uint16",
       "dimension_names": [
        "y",
        "x"
       ],
       "fill_value": 0,
       "node_type": "array",
       "shape": [
        10980,
        10980
       ],
       "storage_transformers": [],
       "zarr_format": 3
      },
      "text/plain": [
       "<IPython.core.display.JSON object>"
      ]
     },
     "execution_count": 11,
     "metadata": {
      "application/json": {
       "expanded": true,
       "root": "Tiled Zarr"
      }
     },
     "output_type": "execute_result"
    }
   ],
   "source": [
    "JSON(filename=(ZARR_TILED / 'red' / 'zarr.json'), root=\"Tiled Zarr\", expanded=True)"
   ]
  },
  {
   "cell_type": "markdown",
   "id": "946f54a6-d765-4fde-910d-0b0579948f02",
   "metadata": {},
   "source": [
    "Indeed it does! Now that we have the same tile/chunk sizing between our COG and our zarr, how do the bytes compare between the two?\n",
    "\n",
    "### Reading a zarr chunk\n",
    "\n",
    "Unlike COG, where everything is stored within a single file, by default zarr uses a separate file for metadata, as we have seen, as well as a separate file per chunk. Navigate through the zarr directory tree, and notice that we have a directory tree like `red/c/[0..10]/[0..10]`, as we have 11 chunks in each spatial dimension x and y. This breaks down such that the data for our tile (0,0) is located at the path `red/c/0/0` within the store. We can open that up, read its bytes, and find its length and hash to compare to our COG tile (0,0)."
   ]
  },
  {
   "cell_type": "code",
   "execution_count": 12,
   "id": "ffb1bc11-9d0c-4085-ac39-112d44fac7a6",
   "metadata": {
    "execution": {
     "iopub.execute_input": "2025-05-08T14:32:07.303533Z",
     "iopub.status.busy": "2025-05-08T14:32:07.303305Z",
     "iopub.status.idle": "2025-05-08T14:32:07.308495Z",
     "shell.execute_reply": "2025-05-08T14:32:07.308069Z",
     "shell.execute_reply.started": "2025-05-08T14:32:07.303517Z"
    }
   },
   "outputs": [
    {
     "name": "stdout",
     "output_type": "stream",
     "text": [
      "size: 1.387 MiB | shasum: 6bad8a3594bbdf9300c7f823a5969ece06d6f596d9139908c2f01de51e564af8\n",
      "size: 1.381 MiB | shasum: 2c02e7e60074d6767ccb4c44de2da249d331fd82e107431e41cfe4069bae0d62\n"
     ]
    }
   ],
   "source": [
    "zarr_tile_bytes = (ZARR_TILED / 'red' / 'c' / '0' / '0').read_bytes()\n",
    "\n",
    "describe_bytes(zarr_tile_bytes)\n",
    "describe_bytes(cog_tile_bytes)"
   ]
  },
  {
   "cell_type": "markdown",
   "id": "69670a14-36c0-4016-a102-7c3e5eb1e76b",
   "metadata": {},
   "source": [
    "Hmm, those are close lengths, but the bytes are not the same. Should they be?\n",
    "\n",
    "## Compression codecs\n",
    "\n",
    "Turns out, maybe! But to understand better why that could maybe be true we need to look more at the COG and zarr metadata to see what other differences we can spot beyond the original tile/chunk size difference.\n",
    "\n",
    "Notice in the tiff tags we see `Compression` has the value 8. Similarly, we see in the zarr metadata under the `codecs` that `zstd` is specified. Both of these bits of metadata are indicating how the tiles/chunks are compressed. In the case of the COG, the value of the `Compression` tag requires we have an external lookup table to interpret. [Wikipedia has a great lookup table](https://en.wikipedia.org/wiki/TIFF#TIFF_Compression_Tag) we can use to see what this value of 8 indicates--turns out it means the tiles are each individually compressed using the `DEFLATE` algorithm.\n",
    "\n",
    "On the zarr side, the metadata is more verbose and is self documenting: `zstd` is a different compression algorithm. So we see that using the zarr defaults we did not end up using the same compression that our COG uses. If we correct that mismatch will our tile bytes be the same?\n",
    "\n",
    "### Predictors\n",
    "\n",
    "Before we waste too much time trying out `DEFLATE` on our zarr just to find another difference, let me shortcut this process by pointing out one more difference. Our COG metadata indicates a `Predictor` of 2. What is this?\n",
    "\n",
    "Predictors are filters that can be run on the data prior to compression to increase the compressibility of the data. The TIFF specification has support for a few different predictors, but the main three values are as follows:\n",
    "\n",
    "* 1: no predictor used prior to compression\n",
    "* 2: delta predictor; this calculates the horizontal difference between cells in each tile row, only useful for integer data\n",
    "* 3: [floating point byte reordering](http://chriscox.org/TIFFTN3d1.pdf), only useful for floating point data\n",
    "\n",
    "Zarr also supports predictors, but does so via the more flexible paradigm of \"filters\". Filters can be used for any data transformations that need to happen prior to compressing data, or be reversed after decompressing data. Predictors are just one type of a filter; another example could be like scaling, offsetting, and casting values to allow transforming floats and/or signed values into smaller, less complicated unsigned integers (and in fact our COG has scaled/offset values, with no standard way (as in, within the TIFF specification) to apply those transformations).\n",
    "\n",
    "So putting all this together, we need to change our zarr configuration to use `DEFLATE` compression and a predictor to see if we can match our COG data. Let's try it out!"
   ]
  },
  {
   "cell_type": "code",
   "execution_count": 13,
   "id": "d082aa1b-5791-4fb0-81c3-905884d799ac",
   "metadata": {
    "execution": {
     "iopub.execute_input": "2025-05-08T14:32:07.308963Z",
     "iopub.status.busy": "2025-05-08T14:32:07.308858Z",
     "iopub.status.idle": "2025-05-08T14:32:09.966344Z",
     "shell.execute_reply": "2025-05-08T14:32:09.965906Z",
     "shell.execute_reply.started": "2025-05-08T14:32:07.308953Z"
    }
   },
   "outputs": [
    {
     "name": "stderr",
     "output_type": "stream",
     "text": [
      "/home/jsignell/micromamba/envs/cng-raster-format/lib/python3.13/site-packages/numcodecs/zarr3.py:155: UserWarning: Numcodecs codecs are not in the Zarr version 3 specification and may not be supported by other zarr implementations.\n",
      "  super().__init__(**codec_config)\n",
      "/home/jsignell/micromamba/envs/cng-raster-format/lib/python3.13/site-packages/numcodecs/zarr3.py:133: UserWarning: Numcodecs codecs are not in the Zarr version 3 specification and may not be supported by other zarr implementations.\n",
      "  super().__init__(**codec_config)\n",
      "/home/jsignell/micromamba/envs/cng-raster-format/lib/python3.13/site-packages/numcodecs/zarr3.py:155: UserWarning: Numcodecs codecs are not in the Zarr version 3 specification and may not be supported by other zarr implementations.\n",
      "  super().__init__(**codec_config)\n",
      "/home/jsignell/micromamba/envs/cng-raster-format/lib/python3.13/site-packages/numcodecs/zarr3.py:133: UserWarning: Numcodecs codecs are not in the Zarr version 3 specification and may not be supported by other zarr implementations.\n",
      "  super().__init__(**codec_config)\n",
      "/home/jsignell/micromamba/envs/cng-raster-format/lib/python3.13/site-packages/zarr/api/asynchronous.py:205: UserWarning: Consolidated metadata is currently not part in the Zarr format 3 specification. It may not be supported by other zarr implementations and may change in the future.\n",
      "  warnings.warn(\n"
     ]
    },
    {
     "data": {
      "text/plain": [
       "<xarray.backends.zarr.ZarrStore at 0x78d97ff6edd0>"
      ]
     },
     "execution_count": 13,
     "metadata": {},
     "output_type": "execute_result"
    }
   ],
   "source": [
    "ZARR_DEFLATE = OUTDIR / 'deflate.zarr'\n",
    "\n",
    "# just in case we've run this before\n",
    "if ZARR_DEFLATE.exists():\n",
    "    shutil.rmtree(ZARR_DEFLATE)\n",
    "\n",
    "ds.to_zarr(\n",
    "    ZARR_DEFLATE,\n",
    "    zarr_format=3,\n",
    "    encoding={\n",
    "        'red': {\n",
    "            'filters': [Delta(dtype='uint16', astype='uint16')],\n",
    "            # We just happen to know the compression level on Earth Search is max\n",
    "            'compressors': [Zlib(level=9)],\n",
    "            'chunks': (1024, 1024),\n",
    "        },\n",
    "    },\n",
    "    safe_chunks=False,\n",
    ")"
   ]
  },
  {
   "cell_type": "markdown",
   "id": "e7583511-0162-44a3-8d7d-b1c773422e21",
   "metadata": {},
   "source": [
    "Cool! Let's see how our new chunk bytes compare to our COG."
   ]
  },
  {
   "cell_type": "code",
   "execution_count": 14,
   "id": "c99e946d-b6aa-4327-bd50-3b1eaed5d88c",
   "metadata": {
    "execution": {
     "iopub.execute_input": "2025-05-08T14:32:09.966702Z",
     "iopub.status.busy": "2025-05-08T14:32:09.966600Z",
     "iopub.status.idle": "2025-05-08T14:32:09.971200Z",
     "shell.execute_reply": "2025-05-08T14:32:09.970741Z",
     "shell.execute_reply.started": "2025-05-08T14:32:09.966692Z"
    }
   },
   "outputs": [
    {
     "name": "stdout",
     "output_type": "stream",
     "text": [
      "size: 1.381 MiB | shasum: 90426e3d6b12faa3813fad720b7537ab329873d97893c019a8b6f6cc78ceae14\n",
      "size: 1.381 MiB | shasum: 2c02e7e60074d6767ccb4c44de2da249d331fd82e107431e41cfe4069bae0d62\n"
     ]
    }
   ],
   "source": [
    "zarr_deflate_tile_bytes = (ZARR_DEFLATE / 'red' / 'c' / '0' / '0').read_bytes()\n",
    "\n",
    "describe_bytes(zarr_deflate_tile_bytes)\n",
    "describe_bytes(cog_tile_bytes)"
   ]
  },
  {
   "cell_type": "markdown",
   "id": "b4f97e12-e465-4045-b605-b831e4778f41",
   "metadata": {},
   "source": [
    "Hmm, well, the bytes still don't match. Again, should they???\n",
    "\n",
    "It turns out they should. Except we're still running into a difference, one that is not captured in the metadata of either file. The COG files served by Earth Search are written using a GDAL binary built against [libdeflate](https://github.com/ebiggers/libdeflate), a more modern and optimized `DEFLATE` implementation than the zlib library used by the standard library, wrapped here by the zarr `Zlib` codec class. As difference algorithms are responsible for writing the compressed data in each case, we're inevitablely going to have differences in our output.\n",
    "\n",
    "The incessant differences betwene the two software stacks is disappointing when I am trying to show to you, dear reader, that COG and zarr data bytes should be identical, assuming equal compression, tile size, etc. But this is still a good lesson: even when the software stacks seem like they are doing the same thing, it's always possible for variablities at a lower layer to lead to unanticipated differences in performance or outputs. Note that we also tried going the other way, recompressing the full COG with zstd, and we ran into the same small differences in file bytes.\n",
    "\n",
    "Remember this lesson when hearing others talk about the performance of COG vs zarr. Drawing accurate and universal conclusions from such a comparison is fraught due to many subtle difference between software stacks. Really, the conclusion of any differences in performance between file formats with the same data encoding can only be considered a test of the software stacks and their differences. Any performance benefit one direction or the other could be resolved in the next software release.\n",
    "\n",
    "### Are we sure the bytes really should be the same?\n",
    "\n",
    "Yes, and we can try to prove it. If we extract the COG bytes into a numpy array and do the same with the zarr bytes, we should be able to compare the two for equality and see they are the same."
   ]
  },
  {
   "cell_type": "code",
   "execution_count": 15,
   "id": "f3104baf-8ad1-4c47-a6a1-62a3d9edd6d4",
   "metadata": {
    "execution": {
     "iopub.execute_input": "2025-05-08T14:32:09.971691Z",
     "iopub.status.busy": "2025-05-08T14:32:09.971567Z",
     "iopub.status.idle": "2025-05-08T14:32:10.001012Z",
     "shell.execute_reply": "2025-05-08T14:32:10.000541Z",
     "shell.execute_reply.started": "2025-05-08T14:32:09.971680Z"
    }
   },
   "outputs": [
    {
     "name": "stdout",
     "output_type": "stream",
     "text": [
      "It is True that the arrays are equal\n"
     ]
    }
   ],
   "source": [
    "# extract the COG bytes\n",
    "cog_tile_bytes_extracted = zlib.decompress(cog_tile_bytes, 0)\n",
    "\n",
    "# make an array\n",
    "cog_tile_array = np.frombuffer(cog_tile_bytes_extracted, dtype=np.uint16).reshape(cog_tags['TileLength'], cog_tags['TileWidth'])\n",
    "\n",
    "# also need to reverse predictor\n",
    "cog_tile_array = np.cumsum(cog_tile_array, axis=1, dtype=np.uint16)\n",
    "\n",
    "# extract our original zstd zarr bytes and make an array\n",
    "zstd = Zstd()\n",
    "zarr_bytes_extracted = zstd.decode(zarr_tile_bytes)\n",
    "zarr_chunk_array = np.frombuffer(zarr_bytes_extracted, dtype=np.uint16).reshape(cog_tags['TileLength'], cog_tags['TileWidth'])\n",
    "\n",
    "# compare\n",
    "print(f'It is {bool((cog_tile_array == zarr_chunk_array).all())} that the arrays are equal')"
   ]
  },
  {
   "cell_type": "markdown",
   "id": "d5fd6b1a-10f6-4613-be75-19d7f5c786bf",
   "metadata": {},
   "source": [
    "Maybe you still don't believe me that these bytes can be stored the same in each format. To help make the point a different way, we can compress the COG tile bytes using the same zstd codec that zarr uses and compare the compressed bytes."
   ]
  },
  {
   "cell_type": "code",
   "execution_count": 16,
   "id": "5bb4dbc5-6977-484e-9f32-b55f8c2ddfa9",
   "metadata": {
    "execution": {
     "iopub.execute_input": "2025-05-08T14:32:10.001437Z",
     "iopub.status.busy": "2025-05-08T14:32:10.001314Z",
     "iopub.status.idle": "2025-05-08T14:32:10.020364Z",
     "shell.execute_reply": "2025-05-08T14:32:10.019920Z",
     "shell.execute_reply.started": "2025-05-08T14:32:10.001425Z"
    }
   },
   "outputs": [
    {
     "name": "stdout",
     "output_type": "stream",
     "text": [
      "size: 1.387 MiB | shasum: 6bad8a3594bbdf9300c7f823a5969ece06d6f596d9139908c2f01de51e564af8\n",
      "size: 1.387 MiB | shasum: 6bad8a3594bbdf9300c7f823a5969ece06d6f596d9139908c2f01de51e564af8\n"
     ]
    }
   ],
   "source": [
    "cog_bytes_zstd = zstd.encode(cog_tile_array.tobytes())\n",
    "\n",
    "describe_bytes(cog_bytes_zstd)\n",
    "describe_bytes(zarr_tile_bytes)"
   ]
  },
  {
   "cell_type": "markdown",
   "id": "9788c7c0-3809-495d-b304-109909443890",
   "metadata": {},
   "source": [
    "## Okay, for reals, let's make the COG and zarr match\n",
    "\n",
    "The problems we've seen so far trying to demonstrate that the data is the same between COG and zarr has come down to differences in compression. So what happens if we remove compression? Let's try rewriting our COG without compression, and writing _another_ zarr from the original COG without compression. If the hypothesis is right and the data is the same, then this test should prove it.\n",
    "\n",
    "### Rewriting our COG\n",
    "\n",
    "We can leverage the GDAL/rasterio wrapper `rio-cogeo` to easily rewrite our COG file. Let's do that, then use `tifffile` again to grab its metadata."
   ]
  },
  {
   "cell_type": "code",
   "execution_count": 17,
   "id": "dc9543ac-e26a-40ca-ab5d-85cc8d498ff9",
   "metadata": {
    "execution": {
     "iopub.execute_input": "2025-05-08T14:32:10.020838Z",
     "iopub.status.busy": "2025-05-08T14:32:10.020727Z",
     "iopub.status.idle": "2025-05-08T14:32:13.520755Z",
     "shell.execute_reply": "2025-05-08T14:32:13.520255Z",
     "shell.execute_reply.started": "2025-05-08T14:32:10.020827Z"
    }
   },
   "outputs": [
    {
     "name": "stderr",
     "output_type": "stream",
     "text": [
      "Reading input: test_data/red.tif\n",
      "\n",
      "Adding overviews...\n",
      "Updating dataset tags...\n",
      "Writing output to: test_data/red_raw.tif\n"
     ]
    },
    {
     "data": {
      "application/json": {
       "BitsPerSample": 16,
       "Compression": 1,
       "GDAL_METADATA": "<GDALMetadata>\n  <Item name=\"OVR_RESAMPLING_ALG\">NEAREST</Item>\n  <Item name=\"OFFSET\" sample=\"0\" role=\"offset\">-0.100000000000000006</Item>\n  <Item name=\"SCALE\" sample=\"0\" role=\"scale\">0.000100000000000000005</Item>\n</GDALMetadata>",
       "GDAL_NODATA": "0",
       "GeoAsciiParamsTag": "WGS 84 / UTM zone 10N|WGS 84|",
       "GeoKeyDirectoryTag": [
        1,
        1,
        0,
        7,
        1024,
        0,
        1,
        1,
        1025,
        0,
        1,
        1,
        1026,
        34737,
        22,
        0,
        2049,
        34737,
        7,
        22,
        2054,
        0,
        1,
        9102,
        3072,
        0,
        1,
        32610,
        3076,
        0,
        1,
        9001
       ],
       "ImageLength": 10980,
       "ImageWidth": 10980,
       "ModelPixelScaleTag": [
        10,
        10,
        0
       ],
       "ModelTiepointTag": [
        0,
        0,
        0,
        600000,
        5100000,
        0
       ],
       "PhotometricInterpretation": 1,
       "PlanarConfiguration": 1,
       "SampleFormat": 1,
       "SamplesPerPixel": 1,
       "TileByteCounts": [
        2097152,
        2097152,
        2097152,
        2097152,
        2097152,
        2097152,
        2097152,
        2097152,
        2097152,
        2097152,
        2097152,
        2097152,
        2097152,
        2097152,
        2097152,
        2097152,
        2097152,
        2097152,
        2097152,
        2097152,
        2097152,
        2097152,
        2097152,
        2097152,
        2097152,
        2097152,
        2097152,
        2097152,
        2097152,
        2097152,
        2097152,
        2097152,
        2097152,
        2097152,
        2097152,
        2097152,
        2097152,
        2097152,
        2097152,
        2097152,
        2097152,
        2097152,
        2097152,
        2097152,
        2097152,
        2097152,
        2097152,
        2097152,
        2097152,
        2097152,
        2097152,
        2097152,
        2097152,
        2097152,
        2097152,
        2097152,
        2097152,
        2097152,
        2097152,
        2097152,
        2097152,
        2097152,
        2097152,
        2097152,
        2097152,
        2097152,
        2097152,
        2097152,
        2097152,
        2097152,
        2097152,
        2097152,
        2097152,
        2097152,
        2097152,
        2097152,
        2097152,
        2097152,
        2097152,
        2097152,
        2097152,
        2097152,
        2097152,
        2097152,
        2097152,
        2097152,
        2097152,
        2097152,
        2097152,
        2097152,
        2097152,
        2097152,
        2097152,
        2097152,
        2097152,
        2097152,
        2097152,
        2097152,
        2097152,
        2097152,
        2097152,
        2097152,
        2097152,
        2097152,
        2097152,
        2097152,
        2097152,
        2097152,
        2097152,
        2097152,
        2097152,
        2097152,
        2097152,
        2097152,
        2097152,
        2097152,
        2097152,
        2097152,
        2097152,
        2097152,
        2097152
       ],
       "TileLength": 1024,
       "TileOffsets": [
        104860874,
        106958034,
        109055194,
        111152354,
        113249514,
        115346674,
        117443834,
        119540994,
        121638154,
        123735314,
        125832474,
        127929634,
        130026794,
        132123954,
        134221114,
        136318274,
        138415434,
        140512594,
        142609754,
        144706914,
        146804074,
        148901234,
        150998394,
        153095554,
        155192714,
        157289874,
        159387034,
        161484194,
        163581354,
        165678514,
        167775674,
        169872834,
        171969994,
        174067154,
        176164314,
        178261474,
        180358634,
        182455794,
        184552954,
        186650114,
        188747274,
        190844434,
        192941594,
        195038754,
        197135914,
        199233074,
        201330234,
        203427394,
        205524554,
        207621714,
        209718874,
        211816034,
        213913194,
        216010354,
        218107514,
        220204674,
        222301834,
        224398994,
        226496154,
        228593314,
        230690474,
        232787634,
        234884794,
        236981954,
        239079114,
        241176274,
        243273434,
        245370594,
        247467754,
        249564914,
        251662074,
        253759234,
        255856394,
        257953554,
        260050714,
        262147874,
        264245034,
        266342194,
        268439354,
        270536514,
        272633674,
        274730834,
        276827994,
        278925154,
        281022314,
        283119474,
        285216634,
        287313794,
        289410954,
        291508114,
        293605274,
        295702434,
        297799594,
        299896754,
        301993914,
        304091074,
        306188234,
        308285394,
        310382554,
        312479714,
        314576874,
        316674034,
        318771194,
        320868354,
        322965514,
        325062674,
        327159834,
        329256994,
        331354154,
        333451314,
        335548474,
        337645634,
        339742794,
        341839954,
        343937114,
        346034274,
        348131434,
        350228594,
        352325754,
        354422914,
        356520074
       ],
       "TileWidth": 1024
      },
      "text/plain": [
       "<IPython.core.display.JSON object>"
      ]
     },
     "execution_count": 17,
     "metadata": {
      "application/json": {
       "expanded": false,
       "root": "Raw COG"
      }
     },
     "output_type": "execute_result"
    }
   ],
   "source": [
    "COG_RAW = OUTDIR / 'red_raw.tif'\n",
    "\n",
    "profile = cog_profiles.get('raw')\n",
    "profile.update({\n",
    "    'blockxsize': 1024,\n",
    "    'blockysize': 1024,\n",
    "})\n",
    "\n",
    "cog_translate(COG_FILE, COG_RAW, profile)\n",
    "\n",
    "raw_tags = {}\n",
    "with TiffFile(COG_RAW) as tif:\n",
    "    for tag in tif.pages[0].tags:\n",
    "        tag_name, tag_value = tag.name, tag.value\n",
    "        raw_tags[tag_name] = tag_value\n",
    "JSON(raw_tags, root=\"Raw COG\")"
   ]
  },
  {
   "cell_type": "markdown",
   "id": "99e01026-2bba-4d6c-99c3-37738f2c2938",
   "metadata": {},
   "source": [
    "We now see the `Compression` tag has a value of 1, which indicates no compression. We also don't see the `Predictor` anymore; as `Predictor` is only relevant with compression, it is omitted from the tags now.\n",
    "\n",
    "### Writing an uncompressed zarr\n",
    "\n",
    "We'll continue to use our dataset `ds`, opened from the original COG file, to write out a zarr store. To have the data be uncompressed we can specify `compressors` like we did before, except this time we'll simply leave the list empty."
   ]
  },
  {
   "cell_type": "code",
   "execution_count": 18,
   "id": "050dd1a9-997a-4b23-ae77-229050f7da56",
   "metadata": {
    "execution": {
     "iopub.execute_input": "2025-05-08T14:32:13.521243Z",
     "iopub.status.busy": "2025-05-08T14:32:13.521134Z",
     "iopub.status.idle": "2025-05-08T14:32:13.949572Z",
     "shell.execute_reply": "2025-05-08T14:32:13.949277Z",
     "shell.execute_reply.started": "2025-05-08T14:32:13.521233Z"
    }
   },
   "outputs": [
    {
     "name": "stderr",
     "output_type": "stream",
     "text": [
      "/home/jsignell/micromamba/envs/cng-raster-format/lib/python3.13/site-packages/zarr/api/asynchronous.py:205: UserWarning: Consolidated metadata is currently not part in the Zarr format 3 specification. It may not be supported by other zarr implementations and may change in the future.\n",
      "  warnings.warn(\n"
     ]
    },
    {
     "data": {
      "text/plain": [
       "<xarray.backends.zarr.ZarrStore at 0x78d97ff6c670>"
      ]
     },
     "execution_count": 18,
     "metadata": {},
     "output_type": "execute_result"
    }
   ],
   "source": [
    "ZARR_RAW = OUTDIR / 'raw.zarr'\n",
    "\n",
    "# just in case we've run this before\n",
    "if ZARR_RAW.exists():\n",
    "    shutil.rmtree(ZARR_RAW)\n",
    "\n",
    "ds.to_zarr(\n",
    "    ZARR_RAW,\n",
    "    zarr_format=3,\n",
    "    encoding={\n",
    "        'red': {\n",
    "            \"chunks\": (1024, 1024),\n",
    "            \"compressors\": [],\n",
    "        },\n",
    "    },\n",
    ")"
   ]
  },
  {
   "cell_type": "markdown",
   "id": "343a5d00-7a84-49ce-8e55-2bf2dc099d1e",
   "metadata": {},
   "source": [
    "Once more, let's check the metadata to confirm we don't have any compression in use: "
   ]
  },
  {
   "cell_type": "code",
   "execution_count": 19,
   "id": "885aa511-10da-4638-9119-f032b04e7694",
   "metadata": {
    "execution": {
     "iopub.execute_input": "2025-05-08T14:32:13.950170Z",
     "iopub.status.busy": "2025-05-08T14:32:13.949963Z",
     "iopub.status.idle": "2025-05-08T14:32:13.953293Z",
     "shell.execute_reply": "2025-05-08T14:32:13.952928Z",
     "shell.execute_reply.started": "2025-05-08T14:32:13.950155Z"
    }
   },
   "outputs": [
    {
     "data": {
      "application/json": {
       "attributes": {
        "STATISTICS_MAXIMUM": 17408,
        "STATISTICS_MEAN": 1505.1947339533,
        "STATISTICS_MINIMUM": 294,
        "STATISTICS_STDDEV": 659.24503616433,
        "STATISTICS_VALID_PERCENT": 99.999,
        "_FillValue": 0,
        "add_offset": -0.1,
        "scale_factor": 0.0001
       },
       "chunk_grid": {
        "configuration": {
         "chunk_shape": [
          1024,
          1024
         ]
        },
        "name": "regular"
       },
       "chunk_key_encoding": {
        "configuration": {
         "separator": "/"
        },
        "name": "default"
       },
       "codecs": [
        {
         "configuration": {
          "endian": "little"
         },
         "name": "bytes"
        }
       ],
       "data_type": "uint16",
       "dimension_names": [
        "y",
        "x"
       ],
       "fill_value": 0,
       "node_type": "array",
       "shape": [
        10980,
        10980
       ],
       "storage_transformers": [],
       "zarr_format": 3
      },
      "text/plain": [
       "<IPython.core.display.JSON object>"
      ]
     },
     "execution_count": 19,
     "metadata": {
      "application/json": {
       "expanded": true,
       "root": "Raw Zarr"
      }
     },
     "output_type": "execute_result"
    }
   ],
   "source": [
    "JSON(filename=(ZARR_RAW / 'red' / 'zarr.json'), root=\"Raw Zarr\", expanded=True)"
   ]
  },
  {
   "cell_type": "markdown",
   "id": "a38249c7-6720-4daf-8a0d-064a398f8ec4",
   "metadata": {},
   "source": [
    "Indeed, we see under `codecs` only one listed, `\"bytes\"`. No compression!\n",
    "\n",
    "### Comparing our data bytes\n",
    "\n",
    "We already know how to grab a tile from a COG, and a chunk from a zarr. Let's get the first COG tile and zarr chunk from our uncompressed versions of each and compare them."
   ]
  },
  {
   "cell_type": "code",
   "execution_count": 20,
   "id": "356889b3-8ac7-4d73-b444-03f96d3107dd",
   "metadata": {
    "execution": {
     "iopub.execute_input": "2025-05-08T14:32:13.953785Z",
     "iopub.status.busy": "2025-05-08T14:32:13.953665Z",
     "iopub.status.idle": "2025-05-08T14:32:13.960836Z",
     "shell.execute_reply": "2025-05-08T14:32:13.959806Z",
     "shell.execute_reply.started": "2025-05-08T14:32:13.953774Z"
    }
   },
   "outputs": [
    {
     "name": "stdout",
     "output_type": "stream",
     "text": [
      "size: 2.000 MiB | shasum: 793e95ed73d0ac5170a5960a6e25e49045353c3d2cd59dd8781a820cc9b23cd0\n",
      "size: 2.000 MiB | shasum: 793e95ed73d0ac5170a5960a6e25e49045353c3d2cd59dd8781a820cc9b23cd0\n"
     ]
    }
   ],
   "source": [
    "with (COG_RAW).open('rb') as tif:\n",
    "    tif.seek(raw_tags['TileOffsets'][0])\n",
    "    cog_raw_tile_bytes = tif.read(raw_tags['TileByteCounts'][0])\n",
    "\n",
    "zarr_raw_tile_bytes = (ZARR_RAW / 'red' / 'c' / '0' / '0').read_bytes()\n",
    "\n",
    "describe_bytes(zarr_raw_tile_bytes)\n",
    "describe_bytes(cog_raw_tile_bytes)"
   ]
  },
  {
   "cell_type": "markdown",
   "id": "08664990-0b22-4d23-9ecd-b0601a602816",
   "metadata": {},
   "source": [
    "Look at that! The bytes match. This proves that the bytes representing the data stored in a zarr chunk are _exactly the same_ as the bytes in the portion of a COG file storing the same data, when controling for variables like compression and other filters.\n",
    "\n",
    "## What does this mean?\n",
    "\n",
    "Wait, if this is the same data...\n",
    "\n",
    "Zarr v3 introduced a concept called \"shards\". The idea with shards is to take some number of an array's chunks and write them into a single file on disk. Why? Shards have some distinct advantages at scale, such as reducing the number of files that need to be managed within the store, and by allowing for more efficient reads when needing consecutive chunks.\n",
    "\n",
    "But if shards are just chunks put into the same file, what is the difference between a COG and a shard, aside from the COG storing its metadata in the file as well? Turns out, maybe nothing.\n",
    "\n",
    "### We can build a COG that is a zarr that is a COG!\n",
    "\n",
    "We're going to need to do some hacking. First, let's build a metadata config for a sharded zarr array for our image data, where all the chunks are stored in a single shard."
   ]
  },
  {
   "cell_type": "code",
   "execution_count": 21,
   "id": "82dfb6c8-171b-4175-9711-78bfa4206f13",
   "metadata": {
    "execution": {
     "iopub.execute_input": "2025-05-08T14:32:13.962732Z",
     "iopub.status.busy": "2025-05-08T14:32:13.962536Z",
     "iopub.status.idle": "2025-05-08T14:32:13.967804Z",
     "shell.execute_reply": "2025-05-08T14:32:13.967342Z",
     "shell.execute_reply.started": "2025-05-08T14:32:13.962720Z"
    }
   },
   "outputs": [],
   "source": [
    "DEFLATE_SHARDED_ZARR_CONF = {\n",
    "    \"shape\": [\n",
    "        10980,\n",
    "        10980\n",
    "    ],\n",
    "    \"data_type\": \"uint16\",\n",
    "    \"chunk_grid\": {\n",
    "        \"name\": \"regular\",\n",
    "        \"configuration\": {\n",
    "            \"chunk_shape\": [\n",
    "                11264,\n",
    "                11264\n",
    "            ]\n",
    "        }\n",
    "    },\n",
    "    \"chunk_key_encoding\": {\n",
    "        \"name\": \"default\",\n",
    "        \"configuration\": {\n",
    "            \"separator\": \"/\"\n",
    "        }\n",
    "    },\n",
    "    \"fill_value\": 0,\n",
    "    \"codecs\": [\n",
    "        {\n",
    "            \"name\": \"sharding_indexed\",\n",
    "            \"configuration\": {\n",
    "                \"chunk_shape\": [\n",
    "                    1024,\n",
    "                    1024\n",
    "                ],\n",
    "                \"codecs\": [\n",
    "                    {\n",
    "                        \"name\": \"numcodecs.delta\",\n",
    "                        \"configuration\": {\n",
    "                            \"dtype\": \"uint16\",\n",
    "                            \"astype\": \"uint16\"\n",
    "                        }\n",
    "                    },\n",
    "                    {\n",
    "                        \"name\": \"bytes\",\n",
    "                        \"configuration\": {\n",
    "                            \"endian\": \"little\"\n",
    "                        }\n",
    "                    },\n",
    "                    {\n",
    "                        \"name\": \"numcodecs.zlib\",\n",
    "                        \"configuration\": {\n",
    "                            \"level\": 9\n",
    "                        }\n",
    "                    }\n",
    "                ],\n",
    "                \"index_codecs\": [\n",
    "                    {\n",
    "                        \"name\": \"bytes\",\n",
    "                        \"configuration\": {\n",
    "                            \"endian\": \"little\"\n",
    "                        }\n",
    "                    },\n",
    "                    {\n",
    "                        \"name\": \"crc32c\"\n",
    "                    }\n",
    "                ],\n",
    "                \"index_location\": \"end\"\n",
    "            }\n",
    "        }\n",
    "    ],\n",
    "    \"attributes\": {\n",
    "        \"OVR_RESAMPLING_ALG\": \"AVERAGE\",\n",
    "        \"AREA_OR_POINT\": \"Area\",\n",
    "        \"STATISTICS_MAXIMUM\": 17408,\n",
    "        \"STATISTICS_MEAN\": 1505.1947339533,\n",
    "        \"STATISTICS_MINIMUM\": 294,\n",
    "        \"STATISTICS_STDDEV\": 659.24503616433,\n",
    "        \"STATISTICS_VALID_PERCENT\": 99.999,\n",
    "        \"scale_factor\": 0.0001,\n",
    "        \"add_offset\": -0.1,\n",
    "        \"_FillValue\": 0\n",
    "    },\n",
    "    \"dimension_names\": [\n",
    "        \"y\",\n",
    "        \"x\"\n",
    "    ],\n",
    "    \"zarr_format\": 3,\n",
    "    \"node_type\": \"array\",\n",
    "    \"storage_transformers\": []\n",
    "}\n",
    "\n",
    "RAW_SHARDED_ZARR_CONF = {\n",
    "    \"shape\": [\n",
    "        10980,\n",
    "        10980\n",
    "    ],\n",
    "    \"data_type\": \"uint16\",\n",
    "    \"chunk_grid\": {\n",
    "        \"name\": \"regular\",\n",
    "        \"configuration\": {\n",
    "            \"chunk_shape\": [\n",
    "                11264,\n",
    "                11264\n",
    "            ]\n",
    "        }\n",
    "    },\n",
    "    \"chunk_key_encoding\": {\n",
    "        \"name\": \"default\",\n",
    "        \"configuration\": {\n",
    "            \"separator\": \"/\"\n",
    "        }\n",
    "    },\n",
    "    \"fill_value\": 0,\n",
    "    \"codecs\": [\n",
    "        {\n",
    "            \"name\": \"sharding_indexed\",\n",
    "            \"configuration\": {\n",
    "                \"chunk_shape\": [\n",
    "                    1024,\n",
    "                    1024\n",
    "                ],\n",
    "                \"codecs\": [\n",
    "                    {\n",
    "                        \"name\": \"bytes\",\n",
    "                        \"configuration\": {\n",
    "                            \"endian\": \"little\"\n",
    "                        }\n",
    "                    },\n",
    "                ],\n",
    "                \"index_codecs\": [\n",
    "                    {\n",
    "                        \"name\": \"bytes\",\n",
    "                        \"configuration\": {\n",
    "                            \"endian\": \"little\"\n",
    "                        }\n",
    "                    },\n",
    "                    {\n",
    "                        \"name\": \"crc32c\"\n",
    "                    }\n",
    "                ],\n",
    "                \"index_location\": \"end\"\n",
    "            }\n",
    "        }\n",
    "    ],\n",
    "    \"attributes\": {\n",
    "        \"OVR_RESAMPLING_ALG\": \"AVERAGE\",\n",
    "        \"AREA_OR_POINT\": \"Area\",\n",
    "        \"STATISTICS_MAXIMUM\": 17408,\n",
    "        \"STATISTICS_MEAN\": 1505.1947339533,\n",
    "        \"STATISTICS_MINIMUM\": 294,\n",
    "        \"STATISTICS_STDDEV\": 659.24503616433,\n",
    "        \"STATISTICS_VALID_PERCENT\": 99.999,\n",
    "        \"scale_factor\": 0.0001,\n",
    "        \"add_offset\": -0.1,\n",
    "        \"_FillValue\": 0\n",
    "    },\n",
    "    \"dimension_names\": [\n",
    "        \"y\",\n",
    "        \"x\"\n",
    "    ],\n",
    "    \"zarr_format\": 3,\n",
    "    \"node_type\": \"array\",\n",
    "    \"storage_transformers\": []\n",
    "}"
   ]
  },
  {
   "cell_type": "markdown",
   "id": "db9e5ce6-8202-4dee-bd82-6ec9fe069381",
   "metadata": {},
   "source": [
    "Now, we're going to do some frankenstein operations, starting by copying our uncompressed (raw) zarr to a new directory tree--so creatively called `zog`. Then we are going to remove all our `red` data chunks, and instead copy in our COG file as the shard at the path of `red/c/0/0`. With all this in place we'll overwrite our `red` metadata, both in its `zarr.json` and in the consolidated metadata in the top-level `zarr.json`.\n",
    "\n",
    "After all that we're still not done. See, zarr expects to find a shard index within the shard. Looking at the metadata we constructed above, we see the `index_location` is at the end of the shard file. So we need to construct that index and write it to the end of the file.\n",
    "\n",
    "The format of that index is rather interesting. It is itself an array, with the dimensions of our shard plus an extra dimension on the end. That is, our shard is shape (11, 11), and our index must be (11, 11, 2). This is because we need two values per chunk in the shard, the byte offset of the start of the chunk and its length in bytes. Just like we already have in our COG tags, just paired up and stored in a multidimensional array.\n",
    "\n",
    "The array we can cast to bytes so we can append it to the end of our COG. Except we have to do one more thing. Notice in the `index_codecs` in the metadata above we have a codec listed as `crc32c`. This is actually optional, and we could have omitted it here, but it is best practice to include it, so for completeness we will include it. This is a checksum of the index, and helps us verify its integrity. We can calculate it on the bytes from our array; the output is a 32-bit unsigned int, so we can use `struct.pack` to take the Python int value and encode it as a 32-bit unsigned int in bytes, and append that to our index bytes.\n",
    "\n",
    "Now our index bytes are ready, so we'll write them to the end of our COG."
   ]
  },
  {
   "cell_type": "code",
   "execution_count": 22,
   "id": "22a5e2bf-b10b-46e1-9eb8-944465e4efde",
   "metadata": {
    "execution": {
     "iopub.execute_input": "2025-05-08T14:32:13.968440Z",
     "iopub.status.busy": "2025-05-08T14:32:13.968288Z",
     "iopub.status.idle": "2025-05-08T14:32:14.265703Z",
     "shell.execute_reply": "2025-05-08T14:32:14.265021Z",
     "shell.execute_reply.started": "2025-05-08T14:32:13.968426Z"
    }
   },
   "outputs": [],
   "source": [
    "ZOG = OUTDIR / 'zog'\n",
    "COG_SHARD = (ZOG / 'red' / 'c' / '0' / '0')\n",
    "\n",
    "# just in case we've run this before\n",
    "if ZOG.exists():\n",
    "    shutil.rmtree(ZOG)\n",
    "\n",
    "shutil.copytree(ZARR_RAW, ZOG)\n",
    "shutil.rmtree(COG_SHARD.parent.parent)\n",
    "COG_SHARD.parent.parent.mkdir()\n",
    "COG_SHARD.parent.mkdir()\n",
    "shutil.copy(COG_RAW, COG_SHARD)\n",
    "(ZOG / 'red' / 'zarr.json').write_text(json.dumps(RAW_SHARDED_ZARR_CONF, indent=4))\n",
    "consolidated = json.loads((ZOG / 'zarr.json').read_text())\n",
    "consolidated['consolidated_metadata']['metadata']['red'] = RAW_SHARDED_ZARR_CONF\n",
    "(ZOG / 'zarr.json').write_text(json.dumps(consolidated, indent=4))\n",
    "\n",
    "index_bytes = np.array(list(zip(raw_tags['TileOffsets'], raw_tags['TileByteCounts']))).reshape((11, 11, 2)).tobytes()\n",
    "index_bytes += struct.pack('I', crc32c(index_bytes))\n",
    "\n",
    "with COG_SHARD.open('ab') as fh:\n",
    "    fh.write(index_bytes)"
   ]
  },
  {
   "cell_type": "markdown",
   "id": "7151cdb5-a030-448f-b673-154390e8bb0f",
   "metadata": {},
   "source": [
    "Phew, that was a lot. Let's try this out and see what we get if we read a slice of values from the file. We'll compare this to the original zarr we created back at the beginning to verify the values look correct. To ensure we have our index correct beyond the first tile, let's take a slice on a tile corner to have to load four chunks."
   ]
  },
  {
   "cell_type": "code",
   "execution_count": 23,
   "id": "e477783f-ce33-4c9b-9a84-ba93f2d46f51",
   "metadata": {
    "execution": {
     "iopub.execute_input": "2025-05-08T14:32:14.266604Z",
     "iopub.status.busy": "2025-05-08T14:32:14.266372Z",
     "iopub.status.idle": "2025-05-08T14:32:14.322568Z",
     "shell.execute_reply": "2025-05-08T14:32:14.322246Z",
     "shell.execute_reply.started": "2025-05-08T14:32:14.266586Z"
    }
   },
   "outputs": [
    {
     "data": {
      "text/plain": [
       "array([[-0.0029,  0.0003, -0.0015, -0.0017, -0.0003, -0.0053, -0.007 ,\n",
       "        -0.0085, -0.0038, -0.0017],\n",
       "       [ 0.0026,  0.0019, -0.0013, -0.0041, -0.0043, -0.0066, -0.0073,\n",
       "        -0.0081, -0.0037, -0.0016],\n",
       "       [ 0.0036, -0.0009, -0.0037, -0.006 , -0.007 , -0.0043, -0.0018,\n",
       "        -0.0039, -0.0051, -0.0004],\n",
       "       [-0.0042, -0.0041, -0.0055, -0.0053, -0.0088, -0.0071, -0.0021,\n",
       "        -0.0034, -0.003 ,  0.0005],\n",
       "       [ 0.0025,  0.0026, -0.0013,  0.0004, -0.0077, -0.0045, -0.0018,\n",
       "        -0.0039, -0.0023,  0.0009],\n",
       "       [-0.0056, -0.0044, -0.0044, -0.0044, -0.0028, -0.0013, -0.0023,\n",
       "        -0.0007,  0.0027,  0.0005],\n",
       "       [-0.013 , -0.0137, -0.0072, -0.0032, -0.0018, -0.0022, -0.003 ,\n",
       "         0.0001,  0.0031, -0.0028],\n",
       "       [-0.0108, -0.0101, -0.0144, -0.009 , -0.0042, -0.0016, -0.0058,\n",
       "        -0.0079, -0.0035, -0.0069],\n",
       "       [-0.0078, -0.0051, -0.0088, -0.0113, -0.0075, -0.003 , -0.0046,\n",
       "        -0.0028, -0.0068, -0.0051],\n",
       "       [-0.0083, -0.0041, -0.0047, -0.0089, -0.0052, -0.0057, -0.0035,\n",
       "         0.0003, -0.0054, -0.0007]])"
      ]
     },
     "execution_count": 23,
     "metadata": {},
     "output_type": "execute_result"
    }
   ],
   "source": [
    "ds_zog = xarray.open_dataset(ZOG, engine='zarr')\n",
    "ds_zog['red'][1020:1030,1020:1030].values"
   ]
  },
  {
   "cell_type": "code",
   "execution_count": 24,
   "id": "ef487c39-a85b-4591-bd95-977e28227620",
   "metadata": {
    "execution": {
     "iopub.execute_input": "2025-05-08T14:32:14.323092Z",
     "iopub.status.busy": "2025-05-08T14:32:14.322929Z",
     "iopub.status.idle": "2025-05-08T14:32:14.332874Z",
     "shell.execute_reply": "2025-05-08T14:32:14.332445Z",
     "shell.execute_reply.started": "2025-05-08T14:32:14.323081Z"
    }
   },
   "outputs": [
    {
     "data": {
      "text/plain": [
       "array([0.0246, 0.035 , 0.0271, ..., 0.0027, 0.0046, 0.0041], shape=(1024,))"
      ]
     },
     "execution_count": 24,
     "metadata": {},
     "output_type": "execute_result"
    }
   ],
   "source": [
    "ds_zog = xarray.open_dataset(ZOG, engine='zarr')\n",
    "ds_zog['red'][1,:1024].values"
   ]
  },
  {
   "cell_type": "code",
   "execution_count": 25,
   "id": "6a8c09ef-d76e-4694-b41d-0df8302261b1",
   "metadata": {
    "execution": {
     "iopub.execute_input": "2025-05-08T14:32:14.333340Z",
     "iopub.status.busy": "2025-05-08T14:32:14.333230Z",
     "iopub.status.idle": "2025-05-08T14:32:14.345363Z",
     "shell.execute_reply": "2025-05-08T14:32:14.345029Z",
     "shell.execute_reply.started": "2025-05-08T14:32:14.333329Z"
    }
   },
   "outputs": [
    {
     "data": {
      "text/plain": [
       "array([0.0246, 0.035 , 0.0271, ..., 0.0027, 0.0046, 0.0041], shape=(1024,))"
      ]
     },
     "execution_count": 25,
     "metadata": {},
     "output_type": "execute_result"
    }
   ],
   "source": [
    "ds_zarr = xarray.open_dataset(ZARR_DEFAULTS, engine='zarr')\n",
    "ds_zarr['red'][1,:1024].values"
   ]
  },
  {
   "cell_type": "markdown",
   "id": "852dc5c6-e84a-4870-b397-52b7cbe5f404",
   "metadata": {},
   "source": [
    "Wow! It worked. There you have it, you can use a COG as a shard in a zarr array. Here we didn't use any compression, but we could have compressed the COG as long as we had used a zarr-compatible codec."
   ]
  }
 ],
 "metadata": {
  "kernelspec": {
   "display_name": "Python 3 (ipykernel)",
   "language": "python",
   "name": "python3"
  },
  "language_info": {
   "codemirror_mode": {
    "name": "ipython",
    "version": 3
   },
   "file_extension": ".py",
   "mimetype": "text/x-python",
   "name": "python",
   "nbconvert_exporter": "python",
   "pygments_lexer": "ipython3",
   "version": "3.13.3"
  }
 },
 "nbformat": 4,
 "nbformat_minor": 5
}
