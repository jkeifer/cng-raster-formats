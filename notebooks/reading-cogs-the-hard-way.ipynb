{
 "cells": [
  {
   "cell_type": "markdown",
   "id": "637a32af-0f84-465b-be1d-f14347c6fe3f",
   "metadata": {},
   "source": [
    "# Reading Cloud-Optimized GeoTIFFs the Hard Way\n",
    "\n",
    "In this notebook we will explore how one can read Cloud-Optimized GeoTIFFs (COGs) the hard way, i.e., by requesting and parsing byte ranges by hand. We'll query "
   ]
  },
  {
   "cell_type": "code",
   "execution_count": 350,
   "id": "7903800b-3eff-49c6-9ef2-6502b3afd9f5",
   "metadata": {},
   "outputs": [],
   "source": [
    "from __future__ import annotations\n",
    "\n",
    "import dataclasses\n",
    "import enum\n",
    "import itertools\n",
    "import struct\n",
    "import urllib.request\n",
    "\n",
    "from glob import glob\n",
    "from pathlib import Path\n",
    "from pprint import pprint\n",
    "from typing import Any, Iterator, Literal, Self\n",
    "\n",
    "import folium\n",
    "import numpy as np\n",
    "import shapely\n",
    "\n",
    "from pystac_client import Client"
   ]
  },
  {
   "cell_type": "code",
   "execution_count": 230,
   "id": "9753dde6-9fe9-4f24-80f1-3f30cec89c8f",
   "metadata": {},
   "outputs": [],
   "source": [
    "# This is a mapping of the TIFF data types to the struct package's format charaters\n",
    "# see https://docs.python.org/3/library/struct.html#format-characters\n",
    "\n",
    "DATA_TYPES = {\n",
    "    1: '1B',  # BYTE (uint8)\n",
    "    2: '1s',  # ASCII (char[1])\n",
    "    3: '1H',  # SHORT (uint16)\n",
    "    4: '1I',  # LONG (uint32)\n",
    "    5: '2I',  # RATIONAL (uint32[2])\n",
    "    6: '1b',  # SBYTE (int8)\n",
    "    7: '1B',  # UNDEFINED (uint8)\n",
    "    8: '1h',  # SSHORT (int16)\n",
    "    9: '1i',  # SLONG (int32)\n",
    "    10: '2i',  # SRATIONAL (int32[2])\n",
    "    11: '1f',  # FLOAT (float32)\n",
    "    12: '1d',  # DOUBLE (float64)\n",
    "    13: '1I',  # SUBIFD (uint32)\n",
    "    # 14: '',\n",
    "    # 15: '',\n",
    "    16: '1Q',  # ? (uint64)\n",
    "    17: '1q',  # ? (int64)\n",
    "    18: '1Q',  # ? (uint64)\n",
    "}"
   ]
  },
  {
   "cell_type": "code",
   "execution_count": 341,
   "id": "1df1a58a-7ad4-4434-b956-0c4e9ca066d3",
   "metadata": {},
   "outputs": [],
   "source": [
    "ENDIANNESS = {\n",
    "    b'MM': '>',  # big endian\n",
    "    b'II': '<',  # little endian\n",
    "}"
   ]
  },
  {
   "cell_type": "code",
   "execution_count": 154,
   "id": "3bbd5fab-c199-4f89-9c5f-76e1a767c330",
   "metadata": {},
   "outputs": [],
   "source": [
    "def get_tag_size(magic_number: int) -> Literal[12, 20]:\n",
    "    match magic_number:\n",
    "        case 42:  # TIFF\n",
    "            return 12\n",
    "        case 43:  # BigTIFF\n",
    "            return 20\n",
    "        case _:\n",
    "            raise TypeError(f\"Unsupported file type: magic number {magic_number}\")  \n",
    "\n",
    "\n",
    "def url_read_bytes(url: str, start: int, end: int) -> bytes:\n",
    "    request = urllib.request.Request(\n",
    "        url,\n",
    "        headers={'Range': f'bytes={start}-{end-1}'},\n",
    "    )\n",
    "    with urllib.request.urlopen(request) as response:\n",
    "        return response.read()"
   ]
  },
  {
   "cell_type": "code",
   "execution_count": 251,
   "id": "3c0c0b27-514d-408a-acd1-9b1b2652301d",
   "metadata": {},
   "outputs": [],
   "source": [
    "# Point of Interest\n",
    "poi = shapely.Point(-121.695833, 45.373611)"
   ]
  },
  {
   "cell_type": "code",
   "execution_count": 252,
   "id": "70a33a2d-546b-4a9d-aedd-71fee5486767",
   "metadata": {},
   "outputs": [
    {
     "data": {
      "text/html": [
       "<div style=\"width:100%;\"><div style=\"position:relative;width:100%;height:0;padding-bottom:60%;\"><span style=\"color:#565656\">Make this Notebook Trusted to load map: File -> Trust Notebook</span><iframe srcdoc=\"&lt;!DOCTYPE html&gt;\n",
       "&lt;html&gt;\n",
       "&lt;head&gt;\n",
       "    \n",
       "    &lt;meta http-equiv=&quot;content-type&quot; content=&quot;text/html; charset=UTF-8&quot; /&gt;\n",
       "    \n",
       "        &lt;script&gt;\n",
       "            L_NO_TOUCH = false;\n",
       "            L_DISABLE_3D = false;\n",
       "        &lt;/script&gt;\n",
       "    \n",
       "    &lt;style&gt;html, body {width: 100%;height: 100%;margin: 0;padding: 0;}&lt;/style&gt;\n",
       "    &lt;style&gt;#map {position:absolute;top:0;bottom:0;right:0;left:0;}&lt;/style&gt;\n",
       "    &lt;script src=&quot;https://cdn.jsdelivr.net/npm/leaflet@1.9.3/dist/leaflet.js&quot;&gt;&lt;/script&gt;\n",
       "    &lt;script src=&quot;https://code.jquery.com/jquery-3.7.1.min.js&quot;&gt;&lt;/script&gt;\n",
       "    &lt;script src=&quot;https://cdn.jsdelivr.net/npm/bootstrap@5.2.2/dist/js/bootstrap.bundle.min.js&quot;&gt;&lt;/script&gt;\n",
       "    &lt;script src=&quot;https://cdnjs.cloudflare.com/ajax/libs/Leaflet.awesome-markers/2.0.2/leaflet.awesome-markers.js&quot;&gt;&lt;/script&gt;\n",
       "    &lt;link rel=&quot;stylesheet&quot; href=&quot;https://cdn.jsdelivr.net/npm/leaflet@1.9.3/dist/leaflet.css&quot;/&gt;\n",
       "    &lt;link rel=&quot;stylesheet&quot; href=&quot;https://cdn.jsdelivr.net/npm/bootstrap@5.2.2/dist/css/bootstrap.min.css&quot;/&gt;\n",
       "    &lt;link rel=&quot;stylesheet&quot; href=&quot;https://netdna.bootstrapcdn.com/bootstrap/3.0.0/css/bootstrap-glyphicons.css&quot;/&gt;\n",
       "    &lt;link rel=&quot;stylesheet&quot; href=&quot;https://cdn.jsdelivr.net/npm/@fortawesome/fontawesome-free@6.2.0/css/all.min.css&quot;/&gt;\n",
       "    &lt;link rel=&quot;stylesheet&quot; href=&quot;https://cdnjs.cloudflare.com/ajax/libs/Leaflet.awesome-markers/2.0.2/leaflet.awesome-markers.css&quot;/&gt;\n",
       "    &lt;link rel=&quot;stylesheet&quot; href=&quot;https://cdn.jsdelivr.net/gh/python-visualization/folium/folium/templates/leaflet.awesome.rotate.min.css&quot;/&gt;\n",
       "    \n",
       "            &lt;meta name=&quot;viewport&quot; content=&quot;width=device-width,\n",
       "                initial-scale=1.0, maximum-scale=1.0, user-scalable=no&quot; /&gt;\n",
       "            &lt;style&gt;\n",
       "                #map_363194c6f02447aeec50728e46931c29 {\n",
       "                    position: relative;\n",
       "                    width: 100.0%;\n",
       "                    height: 100.0%;\n",
       "                    left: 0.0%;\n",
       "                    top: 0.0%;\n",
       "                }\n",
       "                .leaflet-container { font-size: 1rem; }\n",
       "            &lt;/style&gt;\n",
       "        \n",
       "&lt;/head&gt;\n",
       "&lt;body&gt;\n",
       "    \n",
       "    \n",
       "            &lt;div class=&quot;folium-map&quot; id=&quot;map_363194c6f02447aeec50728e46931c29&quot; &gt;&lt;/div&gt;\n",
       "        \n",
       "&lt;/body&gt;\n",
       "&lt;script&gt;\n",
       "    \n",
       "    \n",
       "            var map_363194c6f02447aeec50728e46931c29 = L.map(\n",
       "                &quot;map_363194c6f02447aeec50728e46931c29&quot;,\n",
       "                {\n",
       "                    center: [45.373611, -121.695833],\n",
       "                    crs: L.CRS.EPSG3857,\n",
       "                    zoom: 10,\n",
       "                    zoomControl: true,\n",
       "                    preferCanvas: false,\n",
       "                }\n",
       "            );\n",
       "\n",
       "            \n",
       "\n",
       "        \n",
       "    \n",
       "            var tile_layer_c4ce6bc23066c140431610c806f8c722 = L.tileLayer(\n",
       "                &quot;https://{s}.basemaps.cartocdn.com/light_all/{z}/{x}/{y}{r}.png&quot;,\n",
       "                {&quot;attribution&quot;: &quot;\\u0026copy; \\u003ca href=\\&quot;https://www.openstreetmap.org/copyright\\&quot;\\u003eOpenStreetMap\\u003c/a\\u003e contributors \\u0026copy; \\u003ca href=\\&quot;https://carto.com/attributions\\&quot;\\u003eCARTO\\u003c/a\\u003e&quot;, &quot;detectRetina&quot;: false, &quot;maxNativeZoom&quot;: 20, &quot;maxZoom&quot;: 20, &quot;minZoom&quot;: 0, &quot;noWrap&quot;: false, &quot;opacity&quot;: 1, &quot;subdomains&quot;: &quot;abcd&quot;, &quot;tms&quot;: false}\n",
       "            );\n",
       "        \n",
       "    \n",
       "            tile_layer_c4ce6bc23066c140431610c806f8c722.addTo(map_363194c6f02447aeec50728e46931c29);\n",
       "        \n",
       "    \n",
       "            var circle_marker_c341112ae7926ea5079e3093c40d41be = L.circleMarker(\n",
       "                [45.373611, -121.695833],\n",
       "                {&quot;bubblingMouseEvents&quot;: true, &quot;color&quot;: &quot;#3388ff&quot;, &quot;dashArray&quot;: null, &quot;dashOffset&quot;: null, &quot;fill&quot;: true, &quot;fillColor&quot;: &quot;#3388ff&quot;, &quot;fillOpacity&quot;: 0.6, &quot;fillRule&quot;: &quot;evenodd&quot;, &quot;lineCap&quot;: &quot;round&quot;, &quot;lineJoin&quot;: &quot;round&quot;, &quot;opacity&quot;: 1.0, &quot;radius&quot;: 10, &quot;stroke&quot;: true, &quot;weight&quot;: 3}\n",
       "            ).addTo(map_363194c6f02447aeec50728e46931c29);\n",
       "        \n",
       "&lt;/script&gt;\n",
       "&lt;/html&gt;\" style=\"position:absolute;width:100%;height:100%;left:0;top:0;border:none !important;\" allowfullscreen webkitallowfullscreen mozallowfullscreen></iframe></div></div>"
      ],
      "text/plain": [
       "<folium.folium.Map at 0xffff75353440>"
      ]
     },
     "execution_count": 252,
     "metadata": {},
     "output_type": "execute_result"
    }
   ],
   "source": [
    "# use folium to display vectors\n",
    "# Several folium basemap tiles are available:\n",
    "#   - OpenStreetMap\n",
    "#   - Stamen Terrain\n",
    "#   - Stamen Toner\n",
    "#   - Stamen Watercolor\n",
    "#   - CartoDB positron\n",
    "#   - CartoDB dark_matter\n",
    "\n",
    "location = (poi.coords[0][1], poi.coords[0][0])\n",
    "\n",
    "map = folium.Map(\n",
    "    location=location,\n",
    "    tiles=\"Cartodb Positron\",\n",
    ")\n",
    "\n",
    "folium.CircleMarker(\n",
    "    location=location,\n",
    "    fill=True,\n",
    "    fill_opacity=0.6,\n",
    ").add_to(map)\n",
    "\n",
    "map"
   ]
  },
  {
   "cell_type": "code",
   "execution_count": 283,
   "id": "6a4cc9c6-ac20-4d7c-a098-bc234b9a3858",
   "metadata": {},
   "outputs": [
    {
     "name": "stdout",
     "output_type": "stream",
     "text": [
      "{'assets': {'aot': {'file:checksum': '1220acf5f2c6389f16bdd5ccc980ece525d8bf58a7bc4cc94cd94db2208b5b064e07',\n",
      "                    'file:size': 2163428,\n",
      "                    'gsd': 20,\n",
      "                    'href': 'https://e84-earth-search-sentinel-data.s3.us-west-2.amazonaws.com/sentinel-2-c1-l2a/10/T/FR/2023/12/S2B_T10TFR_20231223T190950_L2A/AOT.tif',\n",
      "                    'proj:shape': [5490, 5490],\n",
      "                    'proj:transform': [20, 0, 600000, 0, -20, 5100000],\n",
      "                    'raster:bands': [{'data_type': 'uint16',\n",
      "                                      'nodata': 0,\n",
      "                                      'offset': 0,\n",
      "                                      'scale': 0.001,\n",
      "                                      'spatial_resolution': 20}],\n",
      "                    'roles': ['data'],\n",
      "                    'title': 'Aerosol optical thickness (AOT)',\n",
      "                    'type': 'image/tiff; application=geotiff; '\n",
      "                            'profile=cloud-optimized'},\n",
      "            'blue': {'eo:bands': [{'center_wavelength': 0.49,\n",
      "                                   'common_name': 'blue',\n",
      "                                   'full_width_half_max': 0.098,\n",
      "                                   'name': 'B02'}],\n",
      "                     'file:checksum': '12200e61d651cee6f2579084f5a233531458c4c66d0bc2f5a2645e087bad36ebdcd6',\n",
      "                     'file:size': 214310547,\n",
      "                     'gsd': 10,\n",
      "                     'href': 'https://e84-earth-search-sentinel-data.s3.us-west-2.amazonaws.com/sentinel-2-c1-l2a/10/T/FR/2023/12/S2B_T10TFR_20231223T190950_L2A/B02.tif',\n",
      "                     'proj:shape': [10980, 10980],\n",
      "                     'proj:transform': [10, 0, 600000, 0, -10, 5100000],\n",
      "                     'raster:bands': [{'data_type': 'uint16',\n",
      "                                       'nodata': 0,\n",
      "                                       'offset': -0.1,\n",
      "                                       'scale': 0.0001,\n",
      "                                       'spatial_resolution': 10}],\n",
      "                     'roles': ['data', 'reflectance'],\n",
      "                     'title': 'Blue - 10m',\n",
      "                     'type': 'image/tiff; application=geotiff; '\n",
      "                             'profile=cloud-optimized'},\n",
      "            'cloud': {'file:checksum': '12208e662320e5fb7ef4674fce5b11e0b00e88edf1f1e8da529996452de739551639',\n",
      "                      'file:size': 872631,\n",
      "                      'gsd': 20,\n",
      "                      'href': 'https://e84-earth-search-sentinel-data.s3.us-west-2.amazonaws.com/sentinel-2-c1-l2a/10/T/FR/2023/12/S2B_T10TFR_20231223T190950_L2A/CLD_20m.tif',\n",
      "                      'proj:shape': [5490, 5490],\n",
      "                      'proj:transform': [20, 0, 600000, 0, -20, 5100000],\n",
      "                      'raster:bands': [{'data_type': 'uint8',\n",
      "                                        'nodata': 0,\n",
      "                                        'spatial_resolution': 20}],\n",
      "                      'roles': ['data', 'cloud'],\n",
      "                      'title': 'Cloud Probabilities',\n",
      "                      'type': 'image/tiff; application=geotiff; '\n",
      "                              'profile=cloud-optimized'},\n",
      "            'coastal': {'eo:bands': [{'center_wavelength': 0.443,\n",
      "                                      'common_name': 'coastal',\n",
      "                                      'full_width_half_max': 0.027,\n",
      "                                      'name': 'B01'}],\n",
      "                        'file:checksum': '1220235609894d755c3b8b75001589e26c727c311021f46005292239d13b5121a1bf',\n",
      "                        'file:size': 5879279,\n",
      "                        'gsd': 60,\n",
      "                        'href': 'https://e84-earth-search-sentinel-data.s3.us-west-2.amazonaws.com/sentinel-2-c1-l2a/10/T/FR/2023/12/S2B_T10TFR_20231223T190950_L2A/B01.tif',\n",
      "                        'proj:shape': [1830, 1830],\n",
      "                        'proj:transform': [60, 0, 600000, 0, -60, 5100000],\n",
      "                        'raster:bands': [{'data_type': 'uint16',\n",
      "                                          'nodata': 0,\n",
      "                                          'offset': -0.1,\n",
      "                                          'scale': 0.0001,\n",
      "                                          'spatial_resolution': 60}],\n",
      "                        'roles': ['data', 'reflectance'],\n",
      "                        'title': 'Coastal - 60m',\n",
      "                        'type': 'image/tiff; application=geotiff; '\n",
      "                                'profile=cloud-optimized'},\n",
      "            'granule_metadata': {'file:checksum': '1220b7ae2954a28bbffa515bdc1ef564d2746f8b66815f0f6d82b3f8b625f20ad276',\n",
      "                                 'file:size': 547816,\n",
      "                                 'href': 'https://e84-earth-search-sentinel-data.s3.us-west-2.amazonaws.com/sentinel-2-c1-l2a/10/T/FR/2023/12/S2B_T10TFR_20231223T190950_L2A/metadata.xml',\n",
      "                                 'roles': ['metadata'],\n",
      "                                 'type': 'application/xml'},\n",
      "            'green': {'eo:bands': [{'center_wavelength': 0.56,\n",
      "                                    'common_name': 'green',\n",
      "                                    'full_width_half_max': 0.045,\n",
      "                                    'name': 'B03'}],\n",
      "                      'file:checksum': '1220eb02f96cf6abc20b50d99c7cbcddb1c405c74dea2cf9cf5231c7c3dc4eed565b',\n",
      "                      'file:size': 218672752,\n",
      "                      'gsd': 10,\n",
      "                      'href': 'https://e84-earth-search-sentinel-data.s3.us-west-2.amazonaws.com/sentinel-2-c1-l2a/10/T/FR/2023/12/S2B_T10TFR_20231223T190950_L2A/B03.tif',\n",
      "                      'proj:shape': [10980, 10980],\n",
      "                      'proj:transform': [10, 0, 600000, 0, -10, 5100000],\n",
      "                      'raster:bands': [{'data_type': 'uint16',\n",
      "                                        'nodata': 0,\n",
      "                                        'offset': -0.1,\n",
      "                                        'scale': 0.0001,\n",
      "                                        'spatial_resolution': 10}],\n",
      "                      'roles': ['data', 'reflectance'],\n",
      "                      'title': 'Green - 10m',\n",
      "                      'type': 'image/tiff; application=geotiff; '\n",
      "                              'profile=cloud-optimized'},\n",
      "            'nir': {'eo:bands': [{'center_wavelength': 0.842,\n",
      "                                  'common_name': 'nir',\n",
      "                                  'full_width_half_max': 0.145,\n",
      "                                  'name': 'B08'}],\n",
      "                    'file:checksum': '12207f653b35b428798d247b984ba8b922e11f2f04836c9c483945c6f61a26b1cb85',\n",
      "                    'file:size': 242246558,\n",
      "                    'gsd': 10,\n",
      "                    'href': 'https://e84-earth-search-sentinel-data.s3.us-west-2.amazonaws.com/sentinel-2-c1-l2a/10/T/FR/2023/12/S2B_T10TFR_20231223T190950_L2A/B08.tif',\n",
      "                    'proj:shape': [10980, 10980],\n",
      "                    'proj:transform': [10, 0, 600000, 0, -10, 5100000],\n",
      "                    'raster:bands': [{'data_type': 'uint16',\n",
      "                                      'nodata': 0,\n",
      "                                      'offset': -0.1,\n",
      "                                      'scale': 0.0001,\n",
      "                                      'spatial_resolution': 10}],\n",
      "                    'roles': ['data', 'reflectance'],\n",
      "                    'title': 'NIR 1 - 10m',\n",
      "                    'type': 'image/tiff; application=geotiff; '\n",
      "                            'profile=cloud-optimized'},\n",
      "            'nir08': {'eo:bands': [{'center_wavelength': 0.865,\n",
      "                                    'common_name': 'nir08',\n",
      "                                    'full_width_half_max': 0.033,\n",
      "                                    'name': 'B8A'}],\n",
      "                      'file:checksum': '122066ef5acd140ee62ceceb60f238443c3ad4004f911e119ba0054ed40cdc7e749d',\n",
      "                      'file:size': 61449571,\n",
      "                      'gsd': 20,\n",
      "                      'href': 'https://e84-earth-search-sentinel-data.s3.us-west-2.amazonaws.com/sentinel-2-c1-l2a/10/T/FR/2023/12/S2B_T10TFR_20231223T190950_L2A/B8A.tif',\n",
      "                      'proj:shape': [5490, 5490],\n",
      "                      'proj:transform': [20, 0, 600000, 0, -20, 5100000],\n",
      "                      'raster:bands': [{'data_type': 'uint16',\n",
      "                                        'nodata': 0,\n",
      "                                        'offset': -0.1,\n",
      "                                        'scale': 0.0001,\n",
      "                                        'spatial_resolution': 20}],\n",
      "                      'roles': ['data', 'reflectance'],\n",
      "                      'title': 'NIR 2 - 20m',\n",
      "                      'type': 'image/tiff; application=geotiff; '\n",
      "                              'profile=cloud-optimized'},\n",
      "            'nir09': {'eo:bands': [{'center_wavelength': 0.945,\n",
      "                                    'common_name': 'nir09',\n",
      "                                    'full_width_half_max': 0.026,\n",
      "                                    'name': 'B09'}],\n",
      "                      'file:checksum': '1220892c9102b207f77fcb9cbe974fb50ace65826ba7f60f753994f5126f8f37d75a',\n",
      "                      'file:size': 6838745,\n",
      "                      'gsd': 60,\n",
      "                      'href': 'https://e84-earth-search-sentinel-data.s3.us-west-2.amazonaws.com/sentinel-2-c1-l2a/10/T/FR/2023/12/S2B_T10TFR_20231223T190950_L2A/B09.tif',\n",
      "                      'proj:shape': [1830, 1830],\n",
      "                      'proj:transform': [60, 0, 600000, 0, -60, 5100000],\n",
      "                      'raster:bands': [{'data_type': 'uint16',\n",
      "                                        'nodata': 0,\n",
      "                                        'offset': -0.1,\n",
      "                                        'scale': 0.0001,\n",
      "                                        'spatial_resolution': 60}],\n",
      "                      'roles': ['data', 'reflectance'],\n",
      "                      'title': 'NIR 3 - 60m',\n",
      "                      'type': 'image/tiff; application=geotiff; '\n",
      "                              'profile=cloud-optimized'},\n",
      "            'preview': {'eo:bands': [{'center_wavelength': 0.665,\n",
      "                                      'common_name': 'red',\n",
      "                                      'full_width_half_max': 0.038,\n",
      "                                      'name': 'B04'},\n",
      "                                     {'center_wavelength': 0.56,\n",
      "                                      'common_name': 'green',\n",
      "                                      'full_width_half_max': 0.045,\n",
      "                                      'name': 'B03'},\n",
      "                                     {'center_wavelength': 0.49,\n",
      "                                      'common_name': 'blue',\n",
      "                                      'full_width_half_max': 0.098,\n",
      "                                      'name': 'B02'}],\n",
      "                        'file:checksum': '122063502344e46d049a7e61a70d2f8c9390b301f02288c63e63076df5360cf878c1',\n",
      "                        'file:size': 191129,\n",
      "                        'href': 'https://e84-earth-search-sentinel-data.s3.us-west-2.amazonaws.com/sentinel-2-c1-l2a/10/T/FR/2023/12/S2B_T10TFR_20231223T190950_L2A/L2A_PVI.tif',\n",
      "                        'roles': ['overview'],\n",
      "                        'title': 'True color preview',\n",
      "                        'type': 'image/tiff; application=geotiff; '\n",
      "                                'profile=cloud-optimized'},\n",
      "            'product_metadata': {'file:checksum': '12201f00075ad881aa17ac94bf8f9eebee078ffa22853f4aa0781ff6375d0decd2b6',\n",
      "                                 'file:size': 54358,\n",
      "                                 'href': 'https://e84-earth-search-sentinel-data.s3.us-west-2.amazonaws.com/sentinel-2-c1-l2a/10/T/FR/2023/12/S2B_T10TFR_20231223T190950_L2A/product_metadata.xml',\n",
      "                                 'roles': ['metadata'],\n",
      "                                 'type': 'application/xml'},\n",
      "            'red': {'eo:bands': [{'center_wavelength': 0.665,\n",
      "                                  'common_name': 'red',\n",
      "                                  'full_width_half_max': 0.038,\n",
      "                                  'name': 'B04'}],\n",
      "                    'file:checksum': '12206ff19969cfb660ae0a68694c14330db2b8a221d2a7298a9857432dc71838a9a0',\n",
      "                    'file:size': 218693282,\n",
      "                    'gsd': 10,\n",
      "                    'href': 'https://e84-earth-search-sentinel-data.s3.us-west-2.amazonaws.com/sentinel-2-c1-l2a/10/T/FR/2023/12/S2B_T10TFR_20231223T190950_L2A/B04.tif',\n",
      "                    'proj:shape': [10980, 10980],\n",
      "                    'proj:transform': [10, 0, 600000, 0, -10, 5100000],\n",
      "                    'raster:bands': [{'data_type': 'uint16',\n",
      "                                      'nodata': 0,\n",
      "                                      'offset': -0.1,\n",
      "                                      'scale': 0.0001,\n",
      "                                      'spatial_resolution': 10}],\n",
      "                    'roles': ['data', 'reflectance'],\n",
      "                    'title': 'Red - 10m',\n",
      "                    'type': 'image/tiff; application=geotiff; '\n",
      "                            'profile=cloud-optimized'},\n",
      "            'rededge1': {'eo:bands': [{'center_wavelength': 0.704,\n",
      "                                       'common_name': 'rededge',\n",
      "                                       'full_width_half_max': 0.019,\n",
      "                                       'name': 'B05'}],\n",
      "                         'file:checksum': '122010bd22786fa55a62a47f035810be40c4a03edbcf05b0699565ec10fbe0abf52c',\n",
      "                         'file:size': 57731634,\n",
      "                         'gsd': 20,\n",
      "                         'href': 'https://e84-earth-search-sentinel-data.s3.us-west-2.amazonaws.com/sentinel-2-c1-l2a/10/T/FR/2023/12/S2B_T10TFR_20231223T190950_L2A/B05.tif',\n",
      "                         'proj:shape': [5490, 5490],\n",
      "                         'proj:transform': [20, 0, 600000, 0, -20, 5100000],\n",
      "                         'raster:bands': [{'data_type': 'uint16',\n",
      "                                           'nodata': 0,\n",
      "                                           'offset': -0.1,\n",
      "                                           'scale': 0.0001,\n",
      "                                           'spatial_resolution': 20}],\n",
      "                         'roles': ['data', 'reflectance'],\n",
      "                         'title': 'Red Edge 1 - 20m',\n",
      "                         'type': 'image/tiff; application=geotiff; '\n",
      "                                 'profile=cloud-optimized'},\n",
      "            'rededge2': {'eo:bands': [{'center_wavelength': 0.74,\n",
      "                                       'common_name': 'rededge',\n",
      "                                       'full_width_half_max': 0.018,\n",
      "                                       'name': 'B06'}],\n",
      "                         'file:checksum': '12204588ab518e3f33756d62b81e7232bc0294e23ced2f2865c759e24478475f1efd',\n",
      "                         'file:size': 60681238,\n",
      "                         'gsd': 20,\n",
      "                         'href': 'https://e84-earth-search-sentinel-data.s3.us-west-2.amazonaws.com/sentinel-2-c1-l2a/10/T/FR/2023/12/S2B_T10TFR_20231223T190950_L2A/B06.tif',\n",
      "                         'proj:shape': [5490, 5490],\n",
      "                         'proj:transform': [20, 0, 600000, 0, -20, 5100000],\n",
      "                         'raster:bands': [{'data_type': 'uint16',\n",
      "                                           'nodata': 0,\n",
      "                                           'offset': -0.1,\n",
      "                                           'scale': 0.0001,\n",
      "                                           'spatial_resolution': 20}],\n",
      "                         'roles': ['data', 'reflectance'],\n",
      "                         'title': 'Red Edge 2 - 20m',\n",
      "                         'type': 'image/tiff; application=geotiff; '\n",
      "                                 'profile=cloud-optimized'},\n",
      "            'rededge3': {'eo:bands': [{'center_wavelength': 0.783,\n",
      "                                       'common_name': 'rededge',\n",
      "                                       'full_width_half_max': 0.028,\n",
      "                                       'name': 'B07'}],\n",
      "                         'file:checksum': '12202399c1e130b10b135508165585d7427bd4fa974c286e8a50e234a32c4621893f',\n",
      "                         'file:size': 61207030,\n",
      "                         'gsd': 20,\n",
      "                         'href': 'https://e84-earth-search-sentinel-data.s3.us-west-2.amazonaws.com/sentinel-2-c1-l2a/10/T/FR/2023/12/S2B_T10TFR_20231223T190950_L2A/B07.tif',\n",
      "                         'proj:shape': [5490, 5490],\n",
      "                         'proj:transform': [20, 0, 600000, 0, -20, 5100000],\n",
      "                         'raster:bands': [{'data_type': 'uint16',\n",
      "                                           'nodata': 0,\n",
      "                                           'offset': -0.1,\n",
      "                                           'scale': 0.0001,\n",
      "                                           'spatial_resolution': 20}],\n",
      "                         'roles': ['data', 'reflectance'],\n",
      "                         'title': 'Red Edge 3 - 20m',\n",
      "                         'type': 'image/tiff; application=geotiff; '\n",
      "                                 'profile=cloud-optimized'},\n",
      "            'scl': {'file:checksum': '1220cd640365c593f744eeb7b0a8a5b7f66157d06e43cb4f80cbdf39f9507915a8cb',\n",
      "                    'file:size': 3077167,\n",
      "                    'gsd': 20,\n",
      "                    'href': 'https://e84-earth-search-sentinel-data.s3.us-west-2.amazonaws.com/sentinel-2-c1-l2a/10/T/FR/2023/12/S2B_T10TFR_20231223T190950_L2A/SCL.tif',\n",
      "                    'proj:shape': [5490, 5490],\n",
      "                    'proj:transform': [20, 0, 600000, 0, -20, 5100000],\n",
      "                    'raster:bands': [{'data_type': 'uint8',\n",
      "                                      'nodata': 0,\n",
      "                                      'spatial_resolution': 20}],\n",
      "                    'roles': ['data'],\n",
      "                    'title': 'Scene classification map (SCL)',\n",
      "                    'type': 'image/tiff; application=geotiff; '\n",
      "                            'profile=cloud-optimized'},\n",
      "            'snow': {'file:checksum': '1220b233cda3f099e0d0eb80477a647d207d1e577ad82064b6cfe61c7f284c234569',\n",
      "                     'file:size': 392369,\n",
      "                     'href': 'https://e84-earth-search-sentinel-data.s3.us-west-2.amazonaws.com/sentinel-2-c1-l2a/10/T/FR/2023/12/S2B_T10TFR_20231223T190950_L2A/SNW_20m.tif',\n",
      "                     'proj:shape': [5490, 5490],\n",
      "                     'proj:transform': [20, 0, 600000, 0, -20, 5100000],\n",
      "                     'raster:bands': [{'data_type': 'uint8',\n",
      "                                       'nodata': 0,\n",
      "                                       'spatial_resolution': 20}],\n",
      "                     'roles': ['data', 'snow-ice'],\n",
      "                     'title': 'Snow Probabilities',\n",
      "                     'type': 'image/tiff; application=geotiff; '\n",
      "                             'profile=cloud-optimized'},\n",
      "            'swir16': {'eo:bands': [{'center_wavelength': 1.61,\n",
      "                                     'common_name': 'swir16',\n",
      "                                     'full_width_half_max': 0.143,\n",
      "                                     'name': 'B11'}],\n",
      "                       'file:checksum': '1220fcbb9b8c12dd5971f3582ec56637fcb35613063569c73ce430bd3915fd22c6c4',\n",
      "                       'file:size': 58467077,\n",
      "                       'gsd': 20,\n",
      "                       'href': 'https://e84-earth-search-sentinel-data.s3.us-west-2.amazonaws.com/sentinel-2-c1-l2a/10/T/FR/2023/12/S2B_T10TFR_20231223T190950_L2A/B11.tif',\n",
      "                       'proj:shape': [5490, 5490],\n",
      "                       'proj:transform': [20, 0, 600000, 0, -20, 5100000],\n",
      "                       'raster:bands': [{'data_type': 'uint16',\n",
      "                                         'nodata': 0,\n",
      "                                         'offset': -0.1,\n",
      "                                         'scale': 0.0001,\n",
      "                                         'spatial_resolution': 20}],\n",
      "                       'roles': ['data', 'reflectance'],\n",
      "                       'title': 'SWIR 1.6μm - 20m',\n",
      "                       'type': 'image/tiff; application=geotiff; '\n",
      "                               'profile=cloud-optimized'},\n",
      "            'swir22': {'eo:bands': [{'center_wavelength': 2.19,\n",
      "                                     'common_name': 'swir22',\n",
      "                                     'full_width_half_max': 0.242,\n",
      "                                     'name': 'B12'}],\n",
      "                       'file:checksum': '12204e5d21ead018558aa353637832c6df02503a8d1012611129b80a153c4dc8a2a8',\n",
      "                       'file:size': 56587139,\n",
      "                       'gsd': 20,\n",
      "                       'href': 'https://e84-earth-search-sentinel-data.s3.us-west-2.amazonaws.com/sentinel-2-c1-l2a/10/T/FR/2023/12/S2B_T10TFR_20231223T190950_L2A/B12.tif',\n",
      "                       'proj:shape': [5490, 5490],\n",
      "                       'proj:transform': [20, 0, 600000, 0, -20, 5100000],\n",
      "                       'raster:bands': [{'data_type': 'uint16',\n",
      "                                         'nodata': 0,\n",
      "                                         'offset': -0.1,\n",
      "                                         'scale': 0.0001,\n",
      "                                         'spatial_resolution': 20}],\n",
      "                       'roles': ['data', 'reflectance'],\n",
      "                       'title': 'SWIR 2.2μm - 20m',\n",
      "                       'type': 'image/tiff; application=geotiff; '\n",
      "                               'profile=cloud-optimized'},\n",
      "            'thumbnail': {'file:checksum': '12204d938f82ec2857e97d640cee094ca54a4ef10b901cbf6c7a6ae91d7b147183b6',\n",
      "                          'file:size': 30299,\n",
      "                          'href': 'https://e84-earth-search-sentinel-data.s3.us-west-2.amazonaws.com/sentinel-2-c1-l2a/10/T/FR/2023/12/S2B_T10TFR_20231223T190950_L2A/L2A_PVI.jpg',\n",
      "                          'roles': ['thumbnail'],\n",
      "                          'title': 'Thumbnail of preview image',\n",
      "                          'type': 'image/jpeg'},\n",
      "            'tileinfo_metadata': {'file:checksum': '1220d3b6ba8fce5983fb4b720f44ea206434629d376f980b8c8e32e984b649acf95d',\n",
      "                                  'file:size': 1494,\n",
      "                                  'href': 'https://e84-earth-search-sentinel-data.s3.us-west-2.amazonaws.com/sentinel-2-c1-l2a/10/T/FR/2023/12/S2B_T10TFR_20231223T190950_L2A/tileInfo.json',\n",
      "                                  'roles': ['metadata'],\n",
      "                                  'type': 'application/json'},\n",
      "            'visual': {'eo:bands': [{'center_wavelength': 0.665,\n",
      "                                     'common_name': 'red',\n",
      "                                     'full_width_half_max': 0.038,\n",
      "                                     'name': 'B04'},\n",
      "                                    {'center_wavelength': 0.56,\n",
      "                                     'common_name': 'green',\n",
      "                                     'full_width_half_max': 0.045,\n",
      "                                     'name': 'B03'},\n",
      "                                    {'center_wavelength': 0.49,\n",
      "                                     'common_name': 'blue',\n",
      "                                     'full_width_half_max': 0.098,\n",
      "                                     'name': 'B02'}],\n",
      "                       'file:checksum': '12202131da98887d4009bee379988d5b285e71740f7220e21104886976f74cbc1a09',\n",
      "                       'file:size': 303733095,\n",
      "                       'gsd': 10,\n",
      "                       'href': 'https://e84-earth-search-sentinel-data.s3.us-west-2.amazonaws.com/sentinel-2-c1-l2a/10/T/FR/2023/12/S2B_T10TFR_20231223T190950_L2A/TCI.tif',\n",
      "                       'proj:shape': [10980, 10980],\n",
      "                       'proj:transform': [10, 0, 600000, 0, -10, 5100000],\n",
      "                       'roles': ['visual'],\n",
      "                       'title': 'True color image',\n",
      "                       'type': 'image/tiff; application=geotiff; '\n",
      "                               'profile=cloud-optimized'},\n",
      "            'wvp': {'file:checksum': '1220a32e784638b2b53bcf7f64b161b162afd0a85397991f48f434711af3dc1a8f5d',\n",
      "                    'file:size': 42558253,\n",
      "                    'gsd': 20,\n",
      "                    'href': 'https://e84-earth-search-sentinel-data.s3.us-west-2.amazonaws.com/sentinel-2-c1-l2a/10/T/FR/2023/12/S2B_T10TFR_20231223T190950_L2A/WVP.tif',\n",
      "                    'proj:shape': [5490, 5490],\n",
      "                    'proj:transform': [20, 0, 600000, 0, -20, 5100000],\n",
      "                    'raster:bands': [{'data_type': 'uint16',\n",
      "                                      'nodata': 0,\n",
      "                                      'offset': 0,\n",
      "                                      'scale': 0.001,\n",
      "                                      'spatial_resolution': 20,\n",
      "                                      'unit': 'cm'}],\n",
      "                    'roles': ['data'],\n",
      "                    'title': 'Water Vapour (WVP)',\n",
      "                    'type': 'image/tiff; application=geotiff; '\n",
      "                            'profile=cloud-optimized'}},\n",
      " 'bbox': [-121.729911, 45.034199, -120.289469, 46.046256],\n",
      " 'collection': 'sentinel-2-c1-l2a',\n",
      " 'geometry': {'coordinates': [[[-121.70745525207822, 46.046256311703836],\n",
      "                               [-121.7299114313325, 45.05820617850736],\n",
      "                               [-120.33650805653772, 45.03419942789321],\n",
      "                               [-120.28946919707845, 46.02141305809806],\n",
      "                               [-121.70745525207822, 46.046256311703836]]],\n",
      "              'type': 'Polygon'},\n",
      " 'id': 'S2B_T10TFR_20231223T190950_L2A',\n",
      " 'links': [{'href': 'https://earth-search.aws.element84.com/v1/collections/sentinel-2-c1-l2a/items/S2B_T10TFR_20231223T190950_L2A',\n",
      "            'rel': 'self',\n",
      "            'type': 'application/geo+json'},\n",
      "           {'href': 's3://e84-earth-search-sentinel-data/sentinel-2-c1-l2a/10/T/FR/2023/12/S2B_T10TFR_20231223T190950_L2A/S2B_T10TFR_20231223T190950_L2A.json',\n",
      "            'rel': 'canonical',\n",
      "            'type': 'application/json'},\n",
      "           {'href': 's3://sentinel-s2-l2a/tiles/10/T/FR/2023/12/23/0/metadata.xml',\n",
      "            'rel': 'via',\n",
      "            'title': 'Granule Metadata in Sinergize RODA Archive',\n",
      "            'type': 'application/xml'},\n",
      "           {'href': 'https://earth-search.aws.element84.com/v1/collections/sentinel-2-c1-l2a',\n",
      "            'rel': 'parent',\n",
      "            'type': 'application/json'},\n",
      "           {'href': 'https://earth-search.aws.element84.com/v1/collections/sentinel-2-c1-l2a',\n",
      "            'rel': 'collection',\n",
      "            'type': 'application/json'},\n",
      "           {'href': 'https://earth-search.aws.element84.com/v1',\n",
      "            'rel': 'root',\n",
      "            'title': 'Earth Search by Element 84',\n",
      "            'type': 'application/json'},\n",
      "           {'href': 'https://earth-search.aws.element84.com/v1/collections/sentinel-2-c1-l2a/items/S2B_T10TFR_20231223T190950_L2A/thumbnail',\n",
      "            'rel': 'thumbnail'}],\n",
      " 'properties': {'constellation': 'sentinel-2',\n",
      "                'created': '2024-01-05T19:36:39.226Z',\n",
      "                'datetime': '2023-12-23T19:11:53.327000Z',\n",
      "                'earthsearch:payload_id': 'roda-sentinel-2-c1-l2a/workflow-sentinel-2-c1-l2a-to-stac/e33d540896e8b5309c6425442562899c',\n",
      "                'eo:cloud_cover': 1.251174,\n",
      "                'grid:code': 'MGRS-10TFR',\n",
      "                'instruments': ['msi'],\n",
      "                'mgrs:grid_square': 'FR',\n",
      "                'mgrs:latitude_band': 'T',\n",
      "                'mgrs:utm_zone': 10,\n",
      "                'platform': 'sentinel-2b',\n",
      "                'processing:software': {'sentinel-2-c1-l2a-to-stac': 'v2023.12.01'},\n",
      "                'proj:centroid': {'lat': 45.54146, 'lon': -121.01583},\n",
      "                'proj:epsg': 32610,\n",
      "                's2:cloud_shadow_percentage': 0.218994,\n",
      "                's2:dark_features_percentage': 14.411107,\n",
      "                's2:datastrip_id': 'S2B_OPER_MSI_L2A_DS_2BPS_20231223T212404_S20231223T190950_N05.10',\n",
      "                's2:datatake_id': 'GS2B_20231223T190819_035503_N05.10',\n",
      "                's2:datatake_type': 'INS-NOBS',\n",
      "                's2:degraded_msi_data_percentage': 0.01,\n",
      "                's2:generation_time': '2023-12-23T21:24:04.000000Z',\n",
      "                's2:high_proba_clouds_percentage': 0.056529,\n",
      "                's2:medium_proba_clouds_percentage': 0.102591,\n",
      "                's2:nodata_pixel_percentage': 3e-06,\n",
      "                's2:not_vegetated_percentage': 53.845996,\n",
      "                's2:processing_baseline': '05.10',\n",
      "                's2:product_type': 'S2MSI2A',\n",
      "                's2:product_uri': 'S2B_MSIL2A_20231223T190819_N0510_R013_T10TFR_20231223T212404.SAFE',\n",
      "                's2:reflectance_conversion_factor': 1.03315307963847,\n",
      "                's2:saturated_defective_pixel_percentage': 0,\n",
      "                's2:snow_ice_percentage': 1.3148,\n",
      "                's2:thin_cirrus_percentage': 1.092053,\n",
      "                's2:tile_id': 'S2B_OPER_MSI_L2A_TL_2BPS_20231223T212404_A035503_T10TFR_N05.10',\n",
      "                's2:unclassified_percentage': 0.01936,\n",
      "                's2:vegetation_percentage': 27.606273,\n",
      "                's2:water_percentage': 1.332295,\n",
      "                'storage:platform': 'AWS',\n",
      "                'storage:region': 'us-west-2',\n",
      "                'storage:requester_pays': False,\n",
      "                'updated': '2024-01-05T19:36:39.226Z',\n",
      "                'view:azimuth': 261.58446495525544,\n",
      "                'view:incidence_angle': 4.470565438518265,\n",
      "                'view:sun_azimuth': 167.494432114129,\n",
      "                'view:sun_elevation': 20.050386200648404},\n",
      " 'stac_extensions': ['https://stac-extensions.github.io/eo/v1.1.0/schema.json',\n",
      "                     'https://stac-extensions.github.io/file/v2.1.0/schema.json',\n",
      "                     'https://stac-extensions.github.io/grid/v1.1.0/schema.json',\n",
      "                     'https://stac-extensions.github.io/mgrs/v1.0.0/schema.json',\n",
      "                     'https://stac-extensions.github.io/processing/v1.1.0/schema.json',\n",
      "                     'https://stac-extensions.github.io/projection/v1.1.0/schema.json',\n",
      "                     'https://stac-extensions.github.io/raster/v1.1.0/schema.json',\n",
      "                     'https://stac-extensions.github.io/sentinel-2/v1.0.0/schema.json',\n",
      "                     'https://stac-extensions.github.io/storage/v1.0.0/schema.json',\n",
      "                     'https://stac-extensions.github.io/view/v1.0.0/schema.json'],\n",
      " 'stac_version': '1.0.0',\n",
      " 'type': 'Feature'}\n"
     ]
    }
   ],
   "source": [
    "client = Client.open(\"https://earth-search.aws.element84.com/v1\")\n",
    "\n",
    "search = client.search(\n",
    "    max_items=1,\n",
    "    collections=['sentinel-2-c1-l2a'],\n",
    "    intersects=poi,\n",
    "    datetime='2023/2023',\n",
    "    query=['eo:cloud_cover<10'],\n",
    "    sortby=[{\"direction\": \"desc\", \"field\": \"properties.datetime\"}],\n",
    ")\n",
    "item = next(search.items())\n",
    "pprint(item.to_dict())"
   ]
  },
  {
   "cell_type": "code",
   "execution_count": 256,
   "id": "54f51ae6-22cd-4812-a9a7-d08398fb9b76",
   "metadata": {},
   "outputs": [
    {
     "data": {
      "text/html": [
       "<div style=\"width:100%;\"><div style=\"position:relative;width:100%;height:0;padding-bottom:60%;\"><span style=\"color:#565656\">Make this Notebook Trusted to load map: File -> Trust Notebook</span><iframe srcdoc=\"&lt;!DOCTYPE html&gt;\n",
       "&lt;html&gt;\n",
       "&lt;head&gt;\n",
       "    \n",
       "    &lt;meta http-equiv=&quot;content-type&quot; content=&quot;text/html; charset=UTF-8&quot; /&gt;\n",
       "    \n",
       "        &lt;script&gt;\n",
       "            L_NO_TOUCH = false;\n",
       "            L_DISABLE_3D = false;\n",
       "        &lt;/script&gt;\n",
       "    \n",
       "    &lt;style&gt;html, body {width: 100%;height: 100%;margin: 0;padding: 0;}&lt;/style&gt;\n",
       "    &lt;style&gt;#map {position:absolute;top:0;bottom:0;right:0;left:0;}&lt;/style&gt;\n",
       "    &lt;script src=&quot;https://cdn.jsdelivr.net/npm/leaflet@1.9.3/dist/leaflet.js&quot;&gt;&lt;/script&gt;\n",
       "    &lt;script src=&quot;https://code.jquery.com/jquery-3.7.1.min.js&quot;&gt;&lt;/script&gt;\n",
       "    &lt;script src=&quot;https://cdn.jsdelivr.net/npm/bootstrap@5.2.2/dist/js/bootstrap.bundle.min.js&quot;&gt;&lt;/script&gt;\n",
       "    &lt;script src=&quot;https://cdnjs.cloudflare.com/ajax/libs/Leaflet.awesome-markers/2.0.2/leaflet.awesome-markers.js&quot;&gt;&lt;/script&gt;\n",
       "    &lt;link rel=&quot;stylesheet&quot; href=&quot;https://cdn.jsdelivr.net/npm/leaflet@1.9.3/dist/leaflet.css&quot;/&gt;\n",
       "    &lt;link rel=&quot;stylesheet&quot; href=&quot;https://cdn.jsdelivr.net/npm/bootstrap@5.2.2/dist/css/bootstrap.min.css&quot;/&gt;\n",
       "    &lt;link rel=&quot;stylesheet&quot; href=&quot;https://netdna.bootstrapcdn.com/bootstrap/3.0.0/css/bootstrap-glyphicons.css&quot;/&gt;\n",
       "    &lt;link rel=&quot;stylesheet&quot; href=&quot;https://cdn.jsdelivr.net/npm/@fortawesome/fontawesome-free@6.2.0/css/all.min.css&quot;/&gt;\n",
       "    &lt;link rel=&quot;stylesheet&quot; href=&quot;https://cdnjs.cloudflare.com/ajax/libs/Leaflet.awesome-markers/2.0.2/leaflet.awesome-markers.css&quot;/&gt;\n",
       "    &lt;link rel=&quot;stylesheet&quot; href=&quot;https://cdn.jsdelivr.net/gh/python-visualization/folium/folium/templates/leaflet.awesome.rotate.min.css&quot;/&gt;\n",
       "    \n",
       "            &lt;meta name=&quot;viewport&quot; content=&quot;width=device-width,\n",
       "                initial-scale=1.0, maximum-scale=1.0, user-scalable=no&quot; /&gt;\n",
       "            &lt;style&gt;\n",
       "                #map_363194c6f02447aeec50728e46931c29 {\n",
       "                    position: relative;\n",
       "                    width: 100.0%;\n",
       "                    height: 100.0%;\n",
       "                    left: 0.0%;\n",
       "                    top: 0.0%;\n",
       "                }\n",
       "                .leaflet-container { font-size: 1rem; }\n",
       "            &lt;/style&gt;\n",
       "        \n",
       "&lt;/head&gt;\n",
       "&lt;body&gt;\n",
       "    \n",
       "    \n",
       "            &lt;div class=&quot;folium-map&quot; id=&quot;map_363194c6f02447aeec50728e46931c29&quot; &gt;&lt;/div&gt;\n",
       "        \n",
       "&lt;/body&gt;\n",
       "&lt;script&gt;\n",
       "    \n",
       "    \n",
       "            var map_363194c6f02447aeec50728e46931c29 = L.map(\n",
       "                &quot;map_363194c6f02447aeec50728e46931c29&quot;,\n",
       "                {\n",
       "                    center: [45.373611, -121.695833],\n",
       "                    crs: L.CRS.EPSG3857,\n",
       "                    zoom: 10,\n",
       "                    zoomControl: true,\n",
       "                    preferCanvas: false,\n",
       "                }\n",
       "            );\n",
       "\n",
       "            \n",
       "\n",
       "        \n",
       "    \n",
       "            var tile_layer_c4ce6bc23066c140431610c806f8c722 = L.tileLayer(\n",
       "                &quot;https://{s}.basemaps.cartocdn.com/light_all/{z}/{x}/{y}{r}.png&quot;,\n",
       "                {&quot;attribution&quot;: &quot;\\u0026copy; \\u003ca href=\\&quot;https://www.openstreetmap.org/copyright\\&quot;\\u003eOpenStreetMap\\u003c/a\\u003e contributors \\u0026copy; \\u003ca href=\\&quot;https://carto.com/attributions\\&quot;\\u003eCARTO\\u003c/a\\u003e&quot;, &quot;detectRetina&quot;: false, &quot;maxNativeZoom&quot;: 20, &quot;maxZoom&quot;: 20, &quot;minZoom&quot;: 0, &quot;noWrap&quot;: false, &quot;opacity&quot;: 1, &quot;subdomains&quot;: &quot;abcd&quot;, &quot;tms&quot;: false}\n",
       "            );\n",
       "        \n",
       "    \n",
       "            tile_layer_c4ce6bc23066c140431610c806f8c722.addTo(map_363194c6f02447aeec50728e46931c29);\n",
       "        \n",
       "    \n",
       "            var circle_marker_c341112ae7926ea5079e3093c40d41be = L.circleMarker(\n",
       "                [45.373611, -121.695833],\n",
       "                {&quot;bubblingMouseEvents&quot;: true, &quot;color&quot;: &quot;#3388ff&quot;, &quot;dashArray&quot;: null, &quot;dashOffset&quot;: null, &quot;fill&quot;: true, &quot;fillColor&quot;: &quot;#3388ff&quot;, &quot;fillOpacity&quot;: 0.6, &quot;fillRule&quot;: &quot;evenodd&quot;, &quot;lineCap&quot;: &quot;round&quot;, &quot;lineJoin&quot;: &quot;round&quot;, &quot;opacity&quot;: 1.0, &quot;radius&quot;: 10, &quot;stroke&quot;: true, &quot;weight&quot;: 3}\n",
       "            ).addTo(map_363194c6f02447aeec50728e46931c29);\n",
       "        \n",
       "    \n",
       "            tile_layer_c4ce6bc23066c140431610c806f8c722.addTo(map_363194c6f02447aeec50728e46931c29);\n",
       "        \n",
       "    \n",
       "\n",
       "        function geo_json_42ad79fa18b08cdef3d4681f05fb3b7c_onEachFeature(feature, layer) {\n",
       "            layer.on({\n",
       "            });\n",
       "        };\n",
       "        var geo_json_42ad79fa18b08cdef3d4681f05fb3b7c = L.geoJson(null, {\n",
       "                onEachFeature: geo_json_42ad79fa18b08cdef3d4681f05fb3b7c_onEachFeature,\n",
       "            \n",
       "        });\n",
       "\n",
       "        function geo_json_42ad79fa18b08cdef3d4681f05fb3b7c_add (data) {\n",
       "            geo_json_42ad79fa18b08cdef3d4681f05fb3b7c\n",
       "                .addData(data);\n",
       "        }\n",
       "            geo_json_42ad79fa18b08cdef3d4681f05fb3b7c_add({&quot;assets&quot;: {&quot;aot&quot;: {&quot;file:checksum&quot;: &quot;1220acf5f2c6389f16bdd5ccc980ece525d8bf58a7bc4cc94cd94db2208b5b064e07&quot;, &quot;file:size&quot;: 2163428, &quot;gsd&quot;: 20, &quot;href&quot;: &quot;https://e84-earth-search-sentinel-data.s3.us-west-2.amazonaws.com/sentinel-2-c1-l2a/10/T/FR/2023/12/S2B_T10TFR_20231223T190950_L2A/AOT.tif&quot;, &quot;proj:shape&quot;: [5490, 5490], &quot;proj:transform&quot;: [20, 0, 600000, 0, -20, 5100000], &quot;raster:bands&quot;: [{&quot;data_type&quot;: &quot;uint16&quot;, &quot;nodata&quot;: 0, &quot;offset&quot;: 0, &quot;scale&quot;: 0.001, &quot;spatial_resolution&quot;: 20}], &quot;roles&quot;: [&quot;data&quot;], &quot;title&quot;: &quot;Aerosol optical thickness (AOT)&quot;, &quot;type&quot;: &quot;image/tiff; application=geotiff; profile=cloud-optimized&quot;}, &quot;blue&quot;: {&quot;eo:bands&quot;: [{&quot;center_wavelength&quot;: 0.49, &quot;common_name&quot;: &quot;blue&quot;, &quot;full_width_half_max&quot;: 0.098, &quot;name&quot;: &quot;B02&quot;}], &quot;file:checksum&quot;: &quot;12200e61d651cee6f2579084f5a233531458c4c66d0bc2f5a2645e087bad36ebdcd6&quot;, &quot;file:size&quot;: 214310547, &quot;gsd&quot;: 10, &quot;href&quot;: &quot;https://e84-earth-search-sentinel-data.s3.us-west-2.amazonaws.com/sentinel-2-c1-l2a/10/T/FR/2023/12/S2B_T10TFR_20231223T190950_L2A/B02.tif&quot;, &quot;proj:shape&quot;: [10980, 10980], &quot;proj:transform&quot;: [10, 0, 600000, 0, -10, 5100000], &quot;raster:bands&quot;: [{&quot;data_type&quot;: &quot;uint16&quot;, &quot;nodata&quot;: 0, &quot;offset&quot;: -0.1, &quot;scale&quot;: 0.0001, &quot;spatial_resolution&quot;: 10}], &quot;roles&quot;: [&quot;data&quot;, &quot;reflectance&quot;], &quot;title&quot;: &quot;Blue - 10m&quot;, &quot;type&quot;: &quot;image/tiff; application=geotiff; profile=cloud-optimized&quot;}, &quot;cloud&quot;: {&quot;file:checksum&quot;: &quot;12208e662320e5fb7ef4674fce5b11e0b00e88edf1f1e8da529996452de739551639&quot;, &quot;file:size&quot;: 872631, &quot;gsd&quot;: 20, &quot;href&quot;: &quot;https://e84-earth-search-sentinel-data.s3.us-west-2.amazonaws.com/sentinel-2-c1-l2a/10/T/FR/2023/12/S2B_T10TFR_20231223T190950_L2A/CLD_20m.tif&quot;, &quot;proj:shape&quot;: [5490, 5490], &quot;proj:transform&quot;: [20, 0, 600000, 0, -20, 5100000], &quot;raster:bands&quot;: [{&quot;data_type&quot;: &quot;uint8&quot;, &quot;nodata&quot;: 0, &quot;spatial_resolution&quot;: 20}], &quot;roles&quot;: [&quot;data&quot;, &quot;cloud&quot;], &quot;title&quot;: &quot;Cloud Probabilities&quot;, &quot;type&quot;: &quot;image/tiff; application=geotiff; profile=cloud-optimized&quot;}, &quot;coastal&quot;: {&quot;eo:bands&quot;: [{&quot;center_wavelength&quot;: 0.443, &quot;common_name&quot;: &quot;coastal&quot;, &quot;full_width_half_max&quot;: 0.027, &quot;name&quot;: &quot;B01&quot;}], &quot;file:checksum&quot;: &quot;1220235609894d755c3b8b75001589e26c727c311021f46005292239d13b5121a1bf&quot;, &quot;file:size&quot;: 5879279, &quot;gsd&quot;: 60, &quot;href&quot;: &quot;https://e84-earth-search-sentinel-data.s3.us-west-2.amazonaws.com/sentinel-2-c1-l2a/10/T/FR/2023/12/S2B_T10TFR_20231223T190950_L2A/B01.tif&quot;, &quot;proj:shape&quot;: [1830, 1830], &quot;proj:transform&quot;: [60, 0, 600000, 0, -60, 5100000], &quot;raster:bands&quot;: [{&quot;data_type&quot;: &quot;uint16&quot;, &quot;nodata&quot;: 0, &quot;offset&quot;: -0.1, &quot;scale&quot;: 0.0001, &quot;spatial_resolution&quot;: 60}], &quot;roles&quot;: [&quot;data&quot;, &quot;reflectance&quot;], &quot;title&quot;: &quot;Coastal - 60m&quot;, &quot;type&quot;: &quot;image/tiff; application=geotiff; profile=cloud-optimized&quot;}, &quot;granule_metadata&quot;: {&quot;file:checksum&quot;: &quot;1220b7ae2954a28bbffa515bdc1ef564d2746f8b66815f0f6d82b3f8b625f20ad276&quot;, &quot;file:size&quot;: 547816, &quot;href&quot;: &quot;https://e84-earth-search-sentinel-data.s3.us-west-2.amazonaws.com/sentinel-2-c1-l2a/10/T/FR/2023/12/S2B_T10TFR_20231223T190950_L2A/metadata.xml&quot;, &quot;roles&quot;: [&quot;metadata&quot;], &quot;type&quot;: &quot;application/xml&quot;}, &quot;green&quot;: {&quot;eo:bands&quot;: [{&quot;center_wavelength&quot;: 0.56, &quot;common_name&quot;: &quot;green&quot;, &quot;full_width_half_max&quot;: 0.045, &quot;name&quot;: &quot;B03&quot;}], &quot;file:checksum&quot;: &quot;1220eb02f96cf6abc20b50d99c7cbcddb1c405c74dea2cf9cf5231c7c3dc4eed565b&quot;, &quot;file:size&quot;: 218672752, &quot;gsd&quot;: 10, &quot;href&quot;: &quot;https://e84-earth-search-sentinel-data.s3.us-west-2.amazonaws.com/sentinel-2-c1-l2a/10/T/FR/2023/12/S2B_T10TFR_20231223T190950_L2A/B03.tif&quot;, &quot;proj:shape&quot;: [10980, 10980], &quot;proj:transform&quot;: [10, 0, 600000, 0, -10, 5100000], &quot;raster:bands&quot;: [{&quot;data_type&quot;: &quot;uint16&quot;, &quot;nodata&quot;: 0, &quot;offset&quot;: -0.1, &quot;scale&quot;: 0.0001, &quot;spatial_resolution&quot;: 10}], &quot;roles&quot;: [&quot;data&quot;, &quot;reflectance&quot;], &quot;title&quot;: &quot;Green - 10m&quot;, &quot;type&quot;: &quot;image/tiff; application=geotiff; profile=cloud-optimized&quot;}, &quot;nir&quot;: {&quot;eo:bands&quot;: [{&quot;center_wavelength&quot;: 0.842, &quot;common_name&quot;: &quot;nir&quot;, &quot;full_width_half_max&quot;: 0.145, &quot;name&quot;: &quot;B08&quot;}], &quot;file:checksum&quot;: &quot;12207f653b35b428798d247b984ba8b922e11f2f04836c9c483945c6f61a26b1cb85&quot;, &quot;file:size&quot;: 242246558, &quot;gsd&quot;: 10, &quot;href&quot;: &quot;https://e84-earth-search-sentinel-data.s3.us-west-2.amazonaws.com/sentinel-2-c1-l2a/10/T/FR/2023/12/S2B_T10TFR_20231223T190950_L2A/B08.tif&quot;, &quot;proj:shape&quot;: [10980, 10980], &quot;proj:transform&quot;: [10, 0, 600000, 0, -10, 5100000], &quot;raster:bands&quot;: [{&quot;data_type&quot;: &quot;uint16&quot;, &quot;nodata&quot;: 0, &quot;offset&quot;: -0.1, &quot;scale&quot;: 0.0001, &quot;spatial_resolution&quot;: 10}], &quot;roles&quot;: [&quot;data&quot;, &quot;reflectance&quot;], &quot;title&quot;: &quot;NIR 1 - 10m&quot;, &quot;type&quot;: &quot;image/tiff; application=geotiff; profile=cloud-optimized&quot;}, &quot;nir08&quot;: {&quot;eo:bands&quot;: [{&quot;center_wavelength&quot;: 0.865, &quot;common_name&quot;: &quot;nir08&quot;, &quot;full_width_half_max&quot;: 0.033, &quot;name&quot;: &quot;B8A&quot;}], &quot;file:checksum&quot;: &quot;122066ef5acd140ee62ceceb60f238443c3ad4004f911e119ba0054ed40cdc7e749d&quot;, &quot;file:size&quot;: 61449571, &quot;gsd&quot;: 20, &quot;href&quot;: &quot;https://e84-earth-search-sentinel-data.s3.us-west-2.amazonaws.com/sentinel-2-c1-l2a/10/T/FR/2023/12/S2B_T10TFR_20231223T190950_L2A/B8A.tif&quot;, &quot;proj:shape&quot;: [5490, 5490], &quot;proj:transform&quot;: [20, 0, 600000, 0, -20, 5100000], &quot;raster:bands&quot;: [{&quot;data_type&quot;: &quot;uint16&quot;, &quot;nodata&quot;: 0, &quot;offset&quot;: -0.1, &quot;scale&quot;: 0.0001, &quot;spatial_resolution&quot;: 20}], &quot;roles&quot;: [&quot;data&quot;, &quot;reflectance&quot;], &quot;title&quot;: &quot;NIR 2 - 20m&quot;, &quot;type&quot;: &quot;image/tiff; application=geotiff; profile=cloud-optimized&quot;}, &quot;nir09&quot;: {&quot;eo:bands&quot;: [{&quot;center_wavelength&quot;: 0.945, &quot;common_name&quot;: &quot;nir09&quot;, &quot;full_width_half_max&quot;: 0.026, &quot;name&quot;: &quot;B09&quot;}], &quot;file:checksum&quot;: &quot;1220892c9102b207f77fcb9cbe974fb50ace65826ba7f60f753994f5126f8f37d75a&quot;, &quot;file:size&quot;: 6838745, &quot;gsd&quot;: 60, &quot;href&quot;: &quot;https://e84-earth-search-sentinel-data.s3.us-west-2.amazonaws.com/sentinel-2-c1-l2a/10/T/FR/2023/12/S2B_T10TFR_20231223T190950_L2A/B09.tif&quot;, &quot;proj:shape&quot;: [1830, 1830], &quot;proj:transform&quot;: [60, 0, 600000, 0, -60, 5100000], &quot;raster:bands&quot;: [{&quot;data_type&quot;: &quot;uint16&quot;, &quot;nodata&quot;: 0, &quot;offset&quot;: -0.1, &quot;scale&quot;: 0.0001, &quot;spatial_resolution&quot;: 60}], &quot;roles&quot;: [&quot;data&quot;, &quot;reflectance&quot;], &quot;title&quot;: &quot;NIR 3 - 60m&quot;, &quot;type&quot;: &quot;image/tiff; application=geotiff; profile=cloud-optimized&quot;}, &quot;preview&quot;: {&quot;eo:bands&quot;: [{&quot;center_wavelength&quot;: 0.665, &quot;common_name&quot;: &quot;red&quot;, &quot;full_width_half_max&quot;: 0.038, &quot;name&quot;: &quot;B04&quot;}, {&quot;center_wavelength&quot;: 0.56, &quot;common_name&quot;: &quot;green&quot;, &quot;full_width_half_max&quot;: 0.045, &quot;name&quot;: &quot;B03&quot;}, {&quot;center_wavelength&quot;: 0.49, &quot;common_name&quot;: &quot;blue&quot;, &quot;full_width_half_max&quot;: 0.098, &quot;name&quot;: &quot;B02&quot;}], &quot;file:checksum&quot;: &quot;122063502344e46d049a7e61a70d2f8c9390b301f02288c63e63076df5360cf878c1&quot;, &quot;file:size&quot;: 191129, &quot;href&quot;: &quot;https://e84-earth-search-sentinel-data.s3.us-west-2.amazonaws.com/sentinel-2-c1-l2a/10/T/FR/2023/12/S2B_T10TFR_20231223T190950_L2A/L2A_PVI.tif&quot;, &quot;roles&quot;: [&quot;overview&quot;], &quot;title&quot;: &quot;True color preview&quot;, &quot;type&quot;: &quot;image/tiff; application=geotiff; profile=cloud-optimized&quot;}, &quot;product_metadata&quot;: {&quot;file:checksum&quot;: &quot;12201f00075ad881aa17ac94bf8f9eebee078ffa22853f4aa0781ff6375d0decd2b6&quot;, &quot;file:size&quot;: 54358, &quot;href&quot;: &quot;https://e84-earth-search-sentinel-data.s3.us-west-2.amazonaws.com/sentinel-2-c1-l2a/10/T/FR/2023/12/S2B_T10TFR_20231223T190950_L2A/product_metadata.xml&quot;, &quot;roles&quot;: [&quot;metadata&quot;], &quot;type&quot;: &quot;application/xml&quot;}, &quot;red&quot;: {&quot;eo:bands&quot;: [{&quot;center_wavelength&quot;: 0.665, &quot;common_name&quot;: &quot;red&quot;, &quot;full_width_half_max&quot;: 0.038, &quot;name&quot;: &quot;B04&quot;}], &quot;file:checksum&quot;: &quot;12206ff19969cfb660ae0a68694c14330db2b8a221d2a7298a9857432dc71838a9a0&quot;, &quot;file:size&quot;: 218693282, &quot;gsd&quot;: 10, &quot;href&quot;: &quot;https://e84-earth-search-sentinel-data.s3.us-west-2.amazonaws.com/sentinel-2-c1-l2a/10/T/FR/2023/12/S2B_T10TFR_20231223T190950_L2A/B04.tif&quot;, &quot;proj:shape&quot;: [10980, 10980], &quot;proj:transform&quot;: [10, 0, 600000, 0, -10, 5100000], &quot;raster:bands&quot;: [{&quot;data_type&quot;: &quot;uint16&quot;, &quot;nodata&quot;: 0, &quot;offset&quot;: -0.1, &quot;scale&quot;: 0.0001, &quot;spatial_resolution&quot;: 10}], &quot;roles&quot;: [&quot;data&quot;, &quot;reflectance&quot;], &quot;title&quot;: &quot;Red - 10m&quot;, &quot;type&quot;: &quot;image/tiff; application=geotiff; profile=cloud-optimized&quot;}, &quot;rededge1&quot;: {&quot;eo:bands&quot;: [{&quot;center_wavelength&quot;: 0.704, &quot;common_name&quot;: &quot;rededge&quot;, &quot;full_width_half_max&quot;: 0.019, &quot;name&quot;: &quot;B05&quot;}], &quot;file:checksum&quot;: &quot;122010bd22786fa55a62a47f035810be40c4a03edbcf05b0699565ec10fbe0abf52c&quot;, &quot;file:size&quot;: 57731634, &quot;gsd&quot;: 20, &quot;href&quot;: &quot;https://e84-earth-search-sentinel-data.s3.us-west-2.amazonaws.com/sentinel-2-c1-l2a/10/T/FR/2023/12/S2B_T10TFR_20231223T190950_L2A/B05.tif&quot;, &quot;proj:shape&quot;: [5490, 5490], &quot;proj:transform&quot;: [20, 0, 600000, 0, -20, 5100000], &quot;raster:bands&quot;: [{&quot;data_type&quot;: &quot;uint16&quot;, &quot;nodata&quot;: 0, &quot;offset&quot;: -0.1, &quot;scale&quot;: 0.0001, &quot;spatial_resolution&quot;: 20}], &quot;roles&quot;: [&quot;data&quot;, &quot;reflectance&quot;], &quot;title&quot;: &quot;Red Edge 1 - 20m&quot;, &quot;type&quot;: &quot;image/tiff; application=geotiff; profile=cloud-optimized&quot;}, &quot;rededge2&quot;: {&quot;eo:bands&quot;: [{&quot;center_wavelength&quot;: 0.74, &quot;common_name&quot;: &quot;rededge&quot;, &quot;full_width_half_max&quot;: 0.018, &quot;name&quot;: &quot;B06&quot;}], &quot;file:checksum&quot;: &quot;12204588ab518e3f33756d62b81e7232bc0294e23ced2f2865c759e24478475f1efd&quot;, &quot;file:size&quot;: 60681238, &quot;gsd&quot;: 20, &quot;href&quot;: &quot;https://e84-earth-search-sentinel-data.s3.us-west-2.amazonaws.com/sentinel-2-c1-l2a/10/T/FR/2023/12/S2B_T10TFR_20231223T190950_L2A/B06.tif&quot;, &quot;proj:shape&quot;: [5490, 5490], &quot;proj:transform&quot;: [20, 0, 600000, 0, -20, 5100000], &quot;raster:bands&quot;: [{&quot;data_type&quot;: &quot;uint16&quot;, &quot;nodata&quot;: 0, &quot;offset&quot;: -0.1, &quot;scale&quot;: 0.0001, &quot;spatial_resolution&quot;: 20}], &quot;roles&quot;: [&quot;data&quot;, &quot;reflectance&quot;], &quot;title&quot;: &quot;Red Edge 2 - 20m&quot;, &quot;type&quot;: &quot;image/tiff; application=geotiff; profile=cloud-optimized&quot;}, &quot;rededge3&quot;: {&quot;eo:bands&quot;: [{&quot;center_wavelength&quot;: 0.783, &quot;common_name&quot;: &quot;rededge&quot;, &quot;full_width_half_max&quot;: 0.028, &quot;name&quot;: &quot;B07&quot;}], &quot;file:checksum&quot;: &quot;12202399c1e130b10b135508165585d7427bd4fa974c286e8a50e234a32c4621893f&quot;, &quot;file:size&quot;: 61207030, &quot;gsd&quot;: 20, &quot;href&quot;: &quot;https://e84-earth-search-sentinel-data.s3.us-west-2.amazonaws.com/sentinel-2-c1-l2a/10/T/FR/2023/12/S2B_T10TFR_20231223T190950_L2A/B07.tif&quot;, &quot;proj:shape&quot;: [5490, 5490], &quot;proj:transform&quot;: [20, 0, 600000, 0, -20, 5100000], &quot;raster:bands&quot;: [{&quot;data_type&quot;: &quot;uint16&quot;, &quot;nodata&quot;: 0, &quot;offset&quot;: -0.1, &quot;scale&quot;: 0.0001, &quot;spatial_resolution&quot;: 20}], &quot;roles&quot;: [&quot;data&quot;, &quot;reflectance&quot;], &quot;title&quot;: &quot;Red Edge 3 - 20m&quot;, &quot;type&quot;: &quot;image/tiff; application=geotiff; profile=cloud-optimized&quot;}, &quot;scl&quot;: {&quot;file:checksum&quot;: &quot;1220cd640365c593f744eeb7b0a8a5b7f66157d06e43cb4f80cbdf39f9507915a8cb&quot;, &quot;file:size&quot;: 3077167, &quot;gsd&quot;: 20, &quot;href&quot;: &quot;https://e84-earth-search-sentinel-data.s3.us-west-2.amazonaws.com/sentinel-2-c1-l2a/10/T/FR/2023/12/S2B_T10TFR_20231223T190950_L2A/SCL.tif&quot;, &quot;proj:shape&quot;: [5490, 5490], &quot;proj:transform&quot;: [20, 0, 600000, 0, -20, 5100000], &quot;raster:bands&quot;: [{&quot;data_type&quot;: &quot;uint8&quot;, &quot;nodata&quot;: 0, &quot;spatial_resolution&quot;: 20}], &quot;roles&quot;: [&quot;data&quot;], &quot;title&quot;: &quot;Scene classification map (SCL)&quot;, &quot;type&quot;: &quot;image/tiff; application=geotiff; profile=cloud-optimized&quot;}, &quot;snow&quot;: {&quot;file:checksum&quot;: &quot;1220b233cda3f099e0d0eb80477a647d207d1e577ad82064b6cfe61c7f284c234569&quot;, &quot;file:size&quot;: 392369, &quot;href&quot;: &quot;https://e84-earth-search-sentinel-data.s3.us-west-2.amazonaws.com/sentinel-2-c1-l2a/10/T/FR/2023/12/S2B_T10TFR_20231223T190950_L2A/SNW_20m.tif&quot;, &quot;proj:shape&quot;: [5490, 5490], &quot;proj:transform&quot;: [20, 0, 600000, 0, -20, 5100000], &quot;raster:bands&quot;: [{&quot;data_type&quot;: &quot;uint8&quot;, &quot;nodata&quot;: 0, &quot;spatial_resolution&quot;: 20}], &quot;roles&quot;: [&quot;data&quot;, &quot;snow-ice&quot;], &quot;title&quot;: &quot;Snow Probabilities&quot;, &quot;type&quot;: &quot;image/tiff; application=geotiff; profile=cloud-optimized&quot;}, &quot;swir16&quot;: {&quot;eo:bands&quot;: [{&quot;center_wavelength&quot;: 1.61, &quot;common_name&quot;: &quot;swir16&quot;, &quot;full_width_half_max&quot;: 0.143, &quot;name&quot;: &quot;B11&quot;}], &quot;file:checksum&quot;: &quot;1220fcbb9b8c12dd5971f3582ec56637fcb35613063569c73ce430bd3915fd22c6c4&quot;, &quot;file:size&quot;: 58467077, &quot;gsd&quot;: 20, &quot;href&quot;: &quot;https://e84-earth-search-sentinel-data.s3.us-west-2.amazonaws.com/sentinel-2-c1-l2a/10/T/FR/2023/12/S2B_T10TFR_20231223T190950_L2A/B11.tif&quot;, &quot;proj:shape&quot;: [5490, 5490], &quot;proj:transform&quot;: [20, 0, 600000, 0, -20, 5100000], &quot;raster:bands&quot;: [{&quot;data_type&quot;: &quot;uint16&quot;, &quot;nodata&quot;: 0, &quot;offset&quot;: -0.1, &quot;scale&quot;: 0.0001, &quot;spatial_resolution&quot;: 20}], &quot;roles&quot;: [&quot;data&quot;, &quot;reflectance&quot;], &quot;title&quot;: &quot;SWIR 1.6\\u03bcm - 20m&quot;, &quot;type&quot;: &quot;image/tiff; application=geotiff; profile=cloud-optimized&quot;}, &quot;swir22&quot;: {&quot;eo:bands&quot;: [{&quot;center_wavelength&quot;: 2.19, &quot;common_name&quot;: &quot;swir22&quot;, &quot;full_width_half_max&quot;: 0.242, &quot;name&quot;: &quot;B12&quot;}], &quot;file:checksum&quot;: &quot;12204e5d21ead018558aa353637832c6df02503a8d1012611129b80a153c4dc8a2a8&quot;, &quot;file:size&quot;: 56587139, &quot;gsd&quot;: 20, &quot;href&quot;: &quot;https://e84-earth-search-sentinel-data.s3.us-west-2.amazonaws.com/sentinel-2-c1-l2a/10/T/FR/2023/12/S2B_T10TFR_20231223T190950_L2A/B12.tif&quot;, &quot;proj:shape&quot;: [5490, 5490], &quot;proj:transform&quot;: [20, 0, 600000, 0, -20, 5100000], &quot;raster:bands&quot;: [{&quot;data_type&quot;: &quot;uint16&quot;, &quot;nodata&quot;: 0, &quot;offset&quot;: -0.1, &quot;scale&quot;: 0.0001, &quot;spatial_resolution&quot;: 20}], &quot;roles&quot;: [&quot;data&quot;, &quot;reflectance&quot;], &quot;title&quot;: &quot;SWIR 2.2\\u03bcm - 20m&quot;, &quot;type&quot;: &quot;image/tiff; application=geotiff; profile=cloud-optimized&quot;}, &quot;thumbnail&quot;: {&quot;file:checksum&quot;: &quot;12204d938f82ec2857e97d640cee094ca54a4ef10b901cbf6c7a6ae91d7b147183b6&quot;, &quot;file:size&quot;: 30299, &quot;href&quot;: &quot;https://e84-earth-search-sentinel-data.s3.us-west-2.amazonaws.com/sentinel-2-c1-l2a/10/T/FR/2023/12/S2B_T10TFR_20231223T190950_L2A/L2A_PVI.jpg&quot;, &quot;roles&quot;: [&quot;thumbnail&quot;], &quot;title&quot;: &quot;Thumbnail of preview image&quot;, &quot;type&quot;: &quot;image/jpeg&quot;}, &quot;tileinfo_metadata&quot;: {&quot;file:checksum&quot;: &quot;1220d3b6ba8fce5983fb4b720f44ea206434629d376f980b8c8e32e984b649acf95d&quot;, &quot;file:size&quot;: 1494, &quot;href&quot;: &quot;https://e84-earth-search-sentinel-data.s3.us-west-2.amazonaws.com/sentinel-2-c1-l2a/10/T/FR/2023/12/S2B_T10TFR_20231223T190950_L2A/tileInfo.json&quot;, &quot;roles&quot;: [&quot;metadata&quot;], &quot;type&quot;: &quot;application/json&quot;}, &quot;visual&quot;: {&quot;eo:bands&quot;: [{&quot;center_wavelength&quot;: 0.665, &quot;common_name&quot;: &quot;red&quot;, &quot;full_width_half_max&quot;: 0.038, &quot;name&quot;: &quot;B04&quot;}, {&quot;center_wavelength&quot;: 0.56, &quot;common_name&quot;: &quot;green&quot;, &quot;full_width_half_max&quot;: 0.045, &quot;name&quot;: &quot;B03&quot;}, {&quot;center_wavelength&quot;: 0.49, &quot;common_name&quot;: &quot;blue&quot;, &quot;full_width_half_max&quot;: 0.098, &quot;name&quot;: &quot;B02&quot;}], &quot;file:checksum&quot;: &quot;12202131da98887d4009bee379988d5b285e71740f7220e21104886976f74cbc1a09&quot;, &quot;file:size&quot;: 303733095, &quot;gsd&quot;: 10, &quot;href&quot;: &quot;https://e84-earth-search-sentinel-data.s3.us-west-2.amazonaws.com/sentinel-2-c1-l2a/10/T/FR/2023/12/S2B_T10TFR_20231223T190950_L2A/TCI.tif&quot;, &quot;proj:shape&quot;: [10980, 10980], &quot;proj:transform&quot;: [10, 0, 600000, 0, -10, 5100000], &quot;roles&quot;: [&quot;visual&quot;], &quot;title&quot;: &quot;True color image&quot;, &quot;type&quot;: &quot;image/tiff; application=geotiff; profile=cloud-optimized&quot;}, &quot;wvp&quot;: {&quot;file:checksum&quot;: &quot;1220a32e784638b2b53bcf7f64b161b162afd0a85397991f48f434711af3dc1a8f5d&quot;, &quot;file:size&quot;: 42558253, &quot;gsd&quot;: 20, &quot;href&quot;: &quot;https://e84-earth-search-sentinel-data.s3.us-west-2.amazonaws.com/sentinel-2-c1-l2a/10/T/FR/2023/12/S2B_T10TFR_20231223T190950_L2A/WVP.tif&quot;, &quot;proj:shape&quot;: [5490, 5490], &quot;proj:transform&quot;: [20, 0, 600000, 0, -20, 5100000], &quot;raster:bands&quot;: [{&quot;data_type&quot;: &quot;uint16&quot;, &quot;nodata&quot;: 0, &quot;offset&quot;: 0, &quot;scale&quot;: 0.001, &quot;spatial_resolution&quot;: 20, &quot;unit&quot;: &quot;cm&quot;}], &quot;roles&quot;: [&quot;data&quot;], &quot;title&quot;: &quot;Water Vapour (WVP)&quot;, &quot;type&quot;: &quot;image/tiff; application=geotiff; profile=cloud-optimized&quot;}}, &quot;bbox&quot;: [-121.729911, 45.034199, -120.289469, 46.046256], &quot;collection&quot;: &quot;sentinel-2-c1-l2a&quot;, &quot;geometry&quot;: {&quot;coordinates&quot;: [[[-121.70745525207822, 46.046256311703836], [-121.7299114313325, 45.05820617850736], [-120.33650805653772, 45.03419942789321], [-120.28946919707845, 46.02141305809806], [-121.70745525207822, 46.046256311703836]]], &quot;type&quot;: &quot;Polygon&quot;}, &quot;id&quot;: &quot;S2B_T10TFR_20231223T190950_L2A&quot;, &quot;links&quot;: [{&quot;href&quot;: &quot;s3://e84-earth-search-sentinel-data/sentinel-2-c1-l2a/10/T/FR/2023/12/S2B_T10TFR_20231223T190950_L2A/S2B_T10TFR_20231223T190950_L2A.json&quot;, &quot;rel&quot;: &quot;canonical&quot;, &quot;type&quot;: &quot;application/json&quot;}, {&quot;href&quot;: &quot;s3://sentinel-s2-l2a/tiles/10/T/FR/2023/12/23/0/metadata.xml&quot;, &quot;rel&quot;: &quot;via&quot;, &quot;title&quot;: &quot;Granule Metadata in Sinergize RODA Archive&quot;, &quot;type&quot;: &quot;application/xml&quot;}, {&quot;href&quot;: &quot;https://earth-search.aws.element84.com/v1/collections/sentinel-2-c1-l2a&quot;, &quot;rel&quot;: &quot;parent&quot;, &quot;type&quot;: &quot;application/json&quot;}, {&quot;href&quot;: &quot;https://earth-search.aws.element84.com/v1/collections/sentinel-2-c1-l2a&quot;, &quot;rel&quot;: &quot;collection&quot;, &quot;type&quot;: &quot;application/json&quot;}, {&quot;href&quot;: &quot;https://earth-search.aws.element84.com/v1&quot;, &quot;rel&quot;: &quot;root&quot;, &quot;title&quot;: &quot;Earth Search by Element 84&quot;, &quot;type&quot;: &quot;application/json&quot;}, {&quot;href&quot;: &quot;https://earth-search.aws.element84.com/v1/collections/sentinel-2-c1-l2a/items/S2B_T10TFR_20231223T190950_L2A/thumbnail&quot;, &quot;rel&quot;: &quot;thumbnail&quot;}], &quot;properties&quot;: {&quot;constellation&quot;: &quot;sentinel-2&quot;, &quot;created&quot;: &quot;2024-01-05T19:36:39.226Z&quot;, &quot;datetime&quot;: &quot;2023-12-23T19:11:53.327000Z&quot;, &quot;earthsearch:payload_id&quot;: &quot;roda-sentinel-2-c1-l2a/workflow-sentinel-2-c1-l2a-to-stac/e33d540896e8b5309c6425442562899c&quot;, &quot;eo:cloud_cover&quot;: 1.251174, &quot;grid:code&quot;: &quot;MGRS-10TFR&quot;, &quot;instruments&quot;: [&quot;msi&quot;], &quot;mgrs:grid_square&quot;: &quot;FR&quot;, &quot;mgrs:latitude_band&quot;: &quot;T&quot;, &quot;mgrs:utm_zone&quot;: 10, &quot;platform&quot;: &quot;sentinel-2b&quot;, &quot;processing:software&quot;: {&quot;sentinel-2-c1-l2a-to-stac&quot;: &quot;v2023.12.01&quot;}, &quot;proj:centroid&quot;: {&quot;lat&quot;: 45.54146, &quot;lon&quot;: -121.01583}, &quot;proj:epsg&quot;: 32610, &quot;s2:cloud_shadow_percentage&quot;: 0.218994, &quot;s2:dark_features_percentage&quot;: 14.411107, &quot;s2:datastrip_id&quot;: &quot;S2B_OPER_MSI_L2A_DS_2BPS_20231223T212404_S20231223T190950_N05.10&quot;, &quot;s2:datatake_id&quot;: &quot;GS2B_20231223T190819_035503_N05.10&quot;, &quot;s2:datatake_type&quot;: &quot;INS-NOBS&quot;, &quot;s2:degraded_msi_data_percentage&quot;: 0.01, &quot;s2:generation_time&quot;: &quot;2023-12-23T21:24:04.000000Z&quot;, &quot;s2:high_proba_clouds_percentage&quot;: 0.056529, &quot;s2:medium_proba_clouds_percentage&quot;: 0.102591, &quot;s2:nodata_pixel_percentage&quot;: 3e-06, &quot;s2:not_vegetated_percentage&quot;: 53.845996, &quot;s2:processing_baseline&quot;: &quot;05.10&quot;, &quot;s2:product_type&quot;: &quot;S2MSI2A&quot;, &quot;s2:product_uri&quot;: &quot;S2B_MSIL2A_20231223T190819_N0510_R013_T10TFR_20231223T212404.SAFE&quot;, &quot;s2:reflectance_conversion_factor&quot;: 1.03315307963847, &quot;s2:saturated_defective_pixel_percentage&quot;: 0, &quot;s2:snow_ice_percentage&quot;: 1.3148, &quot;s2:thin_cirrus_percentage&quot;: 1.092053, &quot;s2:tile_id&quot;: &quot;S2B_OPER_MSI_L2A_TL_2BPS_20231223T212404_A035503_T10TFR_N05.10&quot;, &quot;s2:unclassified_percentage&quot;: 0.01936, &quot;s2:vegetation_percentage&quot;: 27.606273, &quot;s2:water_percentage&quot;: 1.332295, &quot;storage:platform&quot;: &quot;AWS&quot;, &quot;storage:region&quot;: &quot;us-west-2&quot;, &quot;storage:requester_pays&quot;: false, &quot;updated&quot;: &quot;2024-01-05T19:36:39.226Z&quot;, &quot;view:azimuth&quot;: 261.58446495525544, &quot;view:incidence_angle&quot;: 4.470565438518265, &quot;view:sun_azimuth&quot;: 167.494432114129, &quot;view:sun_elevation&quot;: 20.050386200648404}, &quot;stac_extensions&quot;: [&quot;https://stac-extensions.github.io/eo/v1.1.0/schema.json&quot;, &quot;https://stac-extensions.github.io/file/v2.1.0/schema.json&quot;, &quot;https://stac-extensions.github.io/grid/v1.1.0/schema.json&quot;, &quot;https://stac-extensions.github.io/mgrs/v1.0.0/schema.json&quot;, &quot;https://stac-extensions.github.io/processing/v1.1.0/schema.json&quot;, &quot;https://stac-extensions.github.io/projection/v1.1.0/schema.json&quot;, &quot;https://stac-extensions.github.io/raster/v1.1.0/schema.json&quot;, &quot;https://stac-extensions.github.io/sentinel-2/v1.0.0/schema.json&quot;, &quot;https://stac-extensions.github.io/storage/v1.0.0/schema.json&quot;, &quot;https://stac-extensions.github.io/view/v1.0.0/schema.json&quot;], &quot;stac_version&quot;: &quot;1.0.0&quot;, &quot;type&quot;: &quot;Feature&quot;});\n",
       "        geo_json_42ad79fa18b08cdef3d4681f05fb3b7c.setStyle(function(feature) {return feature.properties.style;});\n",
       "\n",
       "        \n",
       "    \n",
       "            geo_json_42ad79fa18b08cdef3d4681f05fb3b7c.addTo(map_363194c6f02447aeec50728e46931c29);\n",
       "        \n",
       "&lt;/script&gt;\n",
       "&lt;/html&gt;\" style=\"position:absolute;width:100%;height:100%;left:0;top:0;border:none !important;\" allowfullscreen webkitallowfullscreen mozallowfullscreen></iframe></div></div>"
      ],
      "text/plain": [
       "<folium.folium.Map at 0xffff75353440>"
      ]
     },
     "execution_count": 256,
     "metadata": {},
     "output_type": "execute_result"
    }
   ],
   "source": [
    "folium.GeoJson(item).add_to(map)\n",
    "map"
   ]
  },
  {
   "cell_type": "code",
   "execution_count": 257,
   "id": "361982ad-abb4-4c4f-829a-d537ef5b63ae",
   "metadata": {},
   "outputs": [
    {
     "name": "stdout",
     "output_type": "stream",
     "text": [
      "https://e84-earth-search-sentinel-data.s3.us-west-2.amazonaws.com/sentinel-2-c1-l2a/10/T/FR/2023/12/S2B_T10TFR_20231223T190950_L2A/B04.tif\n"
     ]
    }
   ],
   "source": [
    "href = item.assets['red'].href\n",
    "print(href)"
   ]
  },
  {
   "cell_type": "code",
   "execution_count": 260,
   "id": "6e1165ed-209f-4c59-9a9e-4a3a5d5145ec",
   "metadata": {},
   "outputs": [
    {
     "name": "stdout",
     "output_type": "stream",
     "text": [
      "b'II*\\x00\\xc0\\x00\\x00\\x00'\n"
     ]
    }
   ],
   "source": [
    "first_bytes = url_read_bytes(href, 0, 8)\n",
    "print(first_bytes)"
   ]
  },
  {
   "cell_type": "code",
   "execution_count": 261,
   "id": "aca32f5e-123c-4ece-9a98-d7c23de5915a",
   "metadata": {
    "scrolled": true
   },
   "outputs": [],
   "source": [
    "# COG spec: https://github.com/cogeotiff/cog-spec/blob/master/spec.md\n",
    "\n",
    "hdr = first_bytes[0:4]"
   ]
  },
  {
   "cell_type": "markdown",
   "id": "7c2e6a5e-2d1b-4f0a-a7d0-dc1ee187d853",
   "metadata": {},
   "source": [
    "TIFF uses the first two bytes of the file to encode the endianness of the file. This enables writers to use the most efficient endianess for their host system, if desired. In other words, readers must support reading big or little endian files, where writers can pick one endianness.\n",
    "\n",
    "Big endian is encoded as `MM` (from Motorola processors), and little endian is encoded as `II` (from Intel processors)."
   ]
  },
  {
   "cell_type": "code",
   "execution_count": 262,
   "id": "4c2e04d1-be87-4a2d-99db-c04e8be30b7c",
   "metadata": {},
   "outputs": [
    {
     "name": "stdout",
     "output_type": "stream",
     "text": [
      "0b100110101001101\n",
      "0b100110101001101\n",
      "0b100100101001001\n",
      "0b100100101001001\n"
     ]
    }
   ],
   "source": [
    "# We can see that these markers are the same when read as big or little endian,\n",
    "# because that just affects the order of the bytes in the two-byte words,\n",
    "# not the order of the bits within the bytes.\n",
    "\n",
    "# big endian signature\n",
    "print(bin(struct.unpack('>H', b'MM')[0]))\n",
    "print(bin(struct.unpack('<H', b'MM')[0]))\n",
    "\n",
    "# little endian signature\n",
    "print(bin(struct.unpack('>H', b'II')[0]))\n",
    "print(bin(struct.unpack('<H', b'II')[0]))"
   ]
  },
  {
   "cell_type": "code",
   "execution_count": 263,
   "id": "1f11a47b-4656-440c-8501-18ac7a2131e4",
   "metadata": {},
   "outputs": [
    {
     "name": "stdout",
     "output_type": "stream",
     "text": [
      "b'II'\n"
     ]
    }
   ],
   "source": [
    "# our image signature\n",
    "print(first_bytes[0:2])\n",
    "endianness = ENDIANNESS[first_bytes[0:2]]  # We'll need this later, so let's save it into a var now"
   ]
  },
  {
   "cell_type": "code",
   "execution_count": 264,
   "id": "bb94e4db-7779-4ac6-a634-2917035380d5",
   "metadata": {},
   "outputs": [
    {
     "data": {
      "text/plain": [
       "42"
      ]
     },
     "execution_count": 264,
     "metadata": {},
     "output_type": "execute_result"
    }
   ],
   "source": [
    "magic_number = struct.unpack(f'{endianness}H', first_bytes[2:4])[0]\n",
    "magic_number"
   ]
  },
  {
   "cell_type": "code",
   "execution_count": 265,
   "id": "cfbeeb4d-54ea-4cb5-b52d-92d31edcd38c",
   "metadata": {},
   "outputs": [
    {
     "data": {
      "text/plain": [
       "'little'"
      ]
     },
     "execution_count": 265,
     "metadata": {},
     "output_type": "execute_result"
    }
   ],
   "source": [
    "import sys\n",
    "sys.byteorder"
   ]
  },
  {
   "cell_type": "code",
   "execution_count": 267,
   "id": "ee17e0e9-aa39-4e7c-8797-46616be21ca3",
   "metadata": {},
   "outputs": [
    {
     "data": {
      "text/plain": [
       "'49492a00'"
      ]
     },
     "execution_count": 267,
     "metadata": {},
     "output_type": "execute_result"
    }
   ],
   "source": [
    "first_bytes[0:4].hex()"
   ]
  },
  {
   "cell_type": "code",
   "execution_count": 268,
   "id": "4a7232a2-9f36-415c-8651-ca69a1786e60",
   "metadata": {},
   "outputs": [
    {
     "data": {
      "text/plain": [
       "'I'"
      ]
     },
     "execution_count": 268,
     "metadata": {},
     "output_type": "execute_result"
    }
   ],
   "source": [
    "chr(0x49)"
   ]
  },
  {
   "cell_type": "code",
   "execution_count": 269,
   "id": "ff0caaaa-db76-4c06-b3e6-8af70cc4eb6c",
   "metadata": {},
   "outputs": [
    {
     "name": "stdout",
     "output_type": "stream",
     "text": [
      "42\n",
      "43\n"
     ]
    }
   ],
   "source": [
    "print(0x002a)  # TIFF\n",
    "print(0x002b)  # BigTIFF"
   ]
  },
  {
   "cell_type": "code",
   "execution_count": 270,
   "id": "404bf225-d513-4899-9a20-4837ab069686",
   "metadata": {},
   "outputs": [
    {
     "name": "stdout",
     "output_type": "stream",
     "text": [
      "b'\\xc0\\x00\\x00\\x00'\n"
     ]
    }
   ],
   "source": [
    "ifd_offset_bytes = first_bytes[4:8]\n",
    "print(ifd_offset_bytes)"
   ]
  },
  {
   "cell_type": "code",
   "execution_count": 271,
   "id": "7c70828e-ef8b-4026-9c8f-ce15f13c3b11",
   "metadata": {},
   "outputs": [
    {
     "name": "stdout",
     "output_type": "stream",
     "text": [
      "192\n"
     ]
    }
   ],
   "source": [
    "ifd_offset = struct.unpack(f'{endianness}I', ifd_offset_bytes)[0]\n",
    "print(ifd_offset)"
   ]
  },
  {
   "cell_type": "markdown",
   "id": "ddf82ec3-a381-4a9f-9579-a8668abf34a2",
   "metadata": {},
   "source": [
    "## Parsing the IFD\n",
    "\n",
    "The IFD is a data structure composed of entries called tags (hence the name \"Tag Image File Format\"). The IFD doesn't start with the first tag entry, however. It begins with a 2-byte `unit16` value indicating the number of tags within the IFD. This value enables us, along with the IFD offset within the file, to read the entire sequence of tag bytes via `file_bytes[ifd_offset + 2:ifd_offset + (tags_count * tag_size)]`.\n",
    "\n",
    "### Tag structure\n",
    "\n",
    "In a standard TIFF, tags are a 12-byte sequence (so `tag_size` above is 12 bytes) of the following structure:\n",
    "\n",
    "| Tag Bytes | Tag field name  | Field data type |\n",
    "| --------- | --------------- | --------------- |\n",
    "| 0 - 1     | `code`          | `uint16`        |\n",
    "| 2 - 3     | `data_type`     | `uint16`        |\n",
    "| 4 - 8     | `count`         | `uint32`        |\n",
    "| 8 - 12    | `value`         | `char[4]`       |\n",
    "\n",
    "In the case of BigTIFF files, each tag is a 20-byte sequence where the `count` and `value` are of type `uint64`.\n",
    "\n",
    "The tag `code` field gives us a way to find the meaning of the tag `value`, as the `code` is an integer that maps to the tag name. The Library of Congress has [a handy table](https://www.loc.gov/preservation/digital/formats/content/tiff_tags.shtml) we can use to look up the tags by their codes.\n",
    "\n",
    "#### Tag data types\n",
    "\n",
    "The tag `data_type` is also an integer value, in this case mapping to the data type we can use to interpret `value` per the following table:\n",
    "\n",
    "| `data_type` | Type Name | Data type   |\n",
    "| ----------- | --------- | ----------- |\n",
    "| 1           | BYTE      | `uint8`     |\n",
    "| 2           | ASCII     | `char[1]`   |\n",
    "| 3           | SHORT     | `uint16`    |\n",
    "| 4           | LONG      | `uint32`    |\n",
    "| 5           | RATIONAL  | `uint32[2]` |\n",
    "| 6           | SBYTE     | `int8`      |\n",
    "| 7           | UNDEFINED | `uint8`     |\n",
    "| 8           | SSHORT    | `int16`     |\n",
    "| 9           | SLONG     | `int32`     |\n",
    "| 10          | SRATIONAL | `int32[2]`  |\n",
    "| 11          | FLOAT     | `float32`   |\n",
    "| 12          | DOUBLE    | `float64`   |\n",
    "| 13          | SUBIFD    | `uint32`    |\n",
    "| 14          | n/a       | n/a         |\n",
    "| 15          | n/a       | n/a         |\n",
    "| 16          | ?         | `uint64`    |\n",
    "| 17          | ?         | `int64`     |\n",
    "| 18          | ?         | `uint64`    |\n",
    "\n",
    "(I believe data types 16, 17, and 18 are specifc to BigTIFF, but I have so far been unable to find confirmation either way.)\n",
    "\n",
    "The `count` field tells us how many of the listed `data_type` make up the `value` of the tag. Note that even a `count` of just one for a `data_type` of, say 5, or two `uint32`s would not fit in a `value` in a standard TIFF file as `value` itself is only four bytes long. Similarly, a `count` greater than 4 with a `data_type` of 1 (`uint8`) would also be larger than can fit in `value`.\n",
    "\n",
    "In such cases where `count * len_in_bytes(data_type) > 4`, `value` itself is not actually the tag value but an offset to the actual value within the file. The length of that value is given by the previous expression `count * len_in_bytes(data_type)`. Thus, to get the actual value we can read `file_bytes[value:value + (count * len_in_bytes(data_type))]`.\n",
    "\n",
    "The IFD doesn't end with the last tag either. Each IFD contains a 4-byte (`uint32`) offset to the next IFD in the file (or 8-byte `uint64` in the case of BigTIFF). In the event an IFD is the last one in the file it will have a value of 0 for its next IFD offset. As a result, it should be possible to build a map of the complete contents of a TIFF by iterating through its IFDs and parsing their tags into some appropriate hierarchical data structure (TIFF --< IFDs --< Image segments) ."
   ]
  },
  {
   "cell_type": "markdown",
   "id": "6ffab897-313d-4edd-b2a1-3b5c8048e2d1",
   "metadata": {},
   "source": [
    "### Finding the tag count and reading the tag bytes\n",
    "\n",
    "As mentioned, an IFD starts with a 2-byte `uint16` value indicating its number of tags. If we have an IFD's offset (`ifd_offset`) within the file--which for the first IFD we know is given to us as the first bytes in the file immediately following the TIFF header--then we also know that IFS's tag offset (`tags_start`) is given by `ifd_offset + 2`.\n",
    "\n",
    "Parsing the tag count (`tags_count`) should simply be a matter of using `struct.unpack` to unpack the two tag count bytes into an integer (struct format char `H` for `uint16`). We need to make sure we use the endianness indicicated in the file header. `<` is little endian in `struct.unpack`, where `>` is big endian. Looking back, the proper endian character should have been saved into the `endianness` var for us back when we were inspecting the header bytes."
   ]
  },
  {
   "cell_type": "code",
   "execution_count": 272,
   "id": "19362c9b-f9b5-4a96-a0f1-c1ae333f5a41",
   "metadata": {},
   "outputs": [
    {
     "name": "stdout",
     "output_type": "stream",
     "text": [
      "19\n"
     ]
    }
   ],
   "source": [
    "tags_start = ifd_offset + 2\n",
    "tags_count = struct.unpack(f'{endianness}H', url_read_bytes(href, ifd_offset, tags_start))[0]\n",
    "print(tags_count)"
   ]
  },
  {
   "cell_type": "markdown",
   "id": "bea8c45d-6197-4f04-9bd4-3290e674182c",
   "metadata": {},
   "source": [
    "If we know the tag count and the tag size (12 bytes for TIFF, 20 for BigTIFF), then we can find the total number of bytes in the IFD's tags by `tag_count * tag_size`. From this we should be able to find the last byte of the tags with `tags_end = tags_start + (tag_count * tag_size)`, allowing us to read the tag bytes (`tags_bytes`) from the file.\n",
    "\n",
    "It's also important to note that we can use the `tags_end` to know the offset of the next IFD offset, which a 4-byte value we can unpack into a `uint32` (for a standard TIFF)."
   ]
  },
  {
   "cell_type": "code",
   "execution_count": 289,
   "id": "c9ad2762-0dbd-4d15-9b0c-336b0baf138d",
   "metadata": {},
   "outputs": [
    {
     "name": "stdout",
     "output_type": "stream",
     "text": [
      "b'\\x00\\x01\\x03\\x00\\x01\\x00\\x00\\x00\\xe4*\\x00\\x00\\x01\\x01\\x03\\x00\\x01\\x00\\x00\\x00\\xe4*\\x00\\x00\\x02\\x01\\x03\\x00\\x01\\x00\\x00\\x00\\x10\\x00\\x00\\x00\\x03\\x01\\x03\\x00\\x01\\x00\\x00\\x00\\x08\\x00\\x00\\x00\\x06\\x01\\x03\\x00\\x01\\x00\\x00\\x00\\x01\\x00\\x00\\x00\\x15\\x01\\x03\\x00\\x01\\x00\\x00\\x00\\x01\\x00\\x00\\x00\\x1c\\x01\\x03\\x00\\x01\\x00\\x00\\x00\\x01\\x00\\x00\\x00=\\x01\\x03\\x00\\x01\\x00\\x00\\x00\\x02\\x00\\x00\\x00B\\x01\\x03\\x00\\x01\\x00\\x00\\x00\\x00\\x04\\x00\\x00C\\x01\\x03\\x00\\x01\\x00\\x00\\x00\\x00\\x04\\x00\\x00D\\x01\\x04\\x00y\\x00\\x00\\x00X\\x07\\x00\\x00E\\x01\\x04\\x00y\\x00\\x00\\x00<\\t\\x00\\x00S\\x01\\x03\\x00\\x01\\x00\\x00\\x00\\x01\\x00\\x00\\x00\\x0e\\x83\\x0c\\x00\\x03\\x00\\x00\\x00\\xca\\x03\\x00\\x00\\x82\\x84\\x0c\\x00\\x06\\x00\\x00\\x00\\xe2\\x03\\x00\\x00\\xaf\\x87\\x03\\x00 \\x00\\x00\\x00\\x12\\x04\\x00\\x00\\xb1\\x87\\x02\\x00\\x1e\\x00\\x00\\x00R\\x04\\x00\\x00\\x80\\xa4\\x02\\x00 \\x02\\x00\\x00\\xaa\\x01\\x00\\x00\\x81\\xa4\\x02\\x00\\x02\\x00\\x00\\x000\\x00\\x00\\x00'\n",
      "1136\n"
     ]
    }
   ],
   "source": [
    "# We can get the tag size for our file type using the `get_tag_size` function\n",
    "tag_size = get_tag_size(magic_number)\n",
    "tags_end = tags_start + (tags_count * tag_size)\n",
    "tags_bytes = url_read_bytes(href, tags_start, tags_end)\n",
    "next_ifd_offset = struct.unpack(f'{endianness}I', url_read_bytes(href, tags_end, tags_end + 4))[0]\n",
    "\n",
    "print(tags_bytes)\n",
    "print(next_ifd_offset)"
   ]
  },
  {
   "cell_type": "markdown",
   "id": "9d8a58ef-e3e1-47d9-83d6-e286d3d1a44c",
   "metadata": {},
   "source": [
    "### Parsing each tag\n",
    "\n",
    "To parse each tag we need to find a way to split each tag's bytes out of the of the larger bytes string. Python gives us many valid ways of doing this. Let's start by using a list comprehension to split the tags bytes into a list of byte strings for each tag an see what those look like."
   ]
  },
  {
   "cell_type": "code",
   "execution_count": 274,
   "id": "6e452ccc-16cf-4898-81b9-80db88f09e4a",
   "metadata": {},
   "outputs": [
    {
     "name": "stdout",
     "output_type": "stream",
     "text": [
      "b'\\x00\\x01\\x03\\x00\\x01\\x00\\x00\\x00\\xe4*\\x00\\x00'\n",
      "b'\\x01\\x01\\x03\\x00\\x01\\x00\\x00\\x00\\xe4*\\x00\\x00'\n",
      "b'\\x02\\x01\\x03\\x00\\x01\\x00\\x00\\x00\\x10\\x00\\x00\\x00'\n",
      "b'\\x03\\x01\\x03\\x00\\x01\\x00\\x00\\x00\\x08\\x00\\x00\\x00'\n",
      "b'\\x06\\x01\\x03\\x00\\x01\\x00\\x00\\x00\\x01\\x00\\x00\\x00'\n",
      "b'\\x15\\x01\\x03\\x00\\x01\\x00\\x00\\x00\\x01\\x00\\x00\\x00'\n",
      "b'\\x1c\\x01\\x03\\x00\\x01\\x00\\x00\\x00\\x01\\x00\\x00\\x00'\n",
      "b'=\\x01\\x03\\x00\\x01\\x00\\x00\\x00\\x02\\x00\\x00\\x00'\n",
      "b'B\\x01\\x03\\x00\\x01\\x00\\x00\\x00\\x00\\x04\\x00\\x00'\n",
      "b'C\\x01\\x03\\x00\\x01\\x00\\x00\\x00\\x00\\x04\\x00\\x00'\n",
      "b'D\\x01\\x04\\x00y\\x00\\x00\\x00\\xd6\\x02\\x00\\x00'\n",
      "b'E\\x01\\x04\\x00y\\x00\\x00\\x00\\xf2\\x00\\x00\\x00'\n",
      "b'S\\x01\\x03\\x00\\x01\\x00\\x00\\x00\\x01\\x00\\x00\\x00'\n",
      "b'\\x0e\\x83\\x0c\\x00\\x03\\x00\\x00\\x00\\x0c\\x05\\x00\\x00'\n",
      "b'\\x82\\x84\\x0c\\x00\\x06\\x00\\x00\\x00$\\x05\\x00\\x00'\n",
      "b'\\xaf\\x87\\x03\\x00 \\x00\\x00\\x00T\\x05\\x00\\x00'\n",
      "b'\\xb1\\x87\\x02\\x00\\x1e\\x00\\x00\\x00\\x94\\x05\\x00\\x00'\n",
      "b'\\x80\\xa4\\x02\\x00Q\\x00\\x00\\x00\\xba\\x04\\x00\\x00'\n",
      "b'\\x81\\xa4\\x02\\x00\\x02\\x00\\x00\\x000\\x00\\x00\\x00'\n"
     ]
    }
   ],
   "source": [
    "tag_bytes_list = [tags_data[i*tag_size:(i*tag_size)+tag_size] for i in range(len(tags_bytes)//tag_size)]\n",
    "for tag_bytes in tag_bytes_list:\n",
    "    print(tag_bytes)"
   ]
  },
  {
   "cell_type": "markdown",
   "id": "e55f7bd5-b714-4190-9c67-4e8532f79e33",
   "metadata": {},
   "source": [
    "#### Unpacking the tag values\n",
    "\n",
    "With a way to extract each tag's bytes, we next need to use `struct.unpack` to extract the byte values into some we can use in python for the tag's `code`, `data_type`, `count`, and `value`. Remember that `code` and `data_type` are `uint16` values, which map to the struct `H` format. Look up the proper struct format values for `count` and `value` knowing what you know about the data types of those tag fields and verify if the format passed into `struct.unpack` in the example here is correct (feel free to consult the `DATA_TYPES` dict above or the struct docs directly).\n",
    "\n",
    "For variety, this example implementation uses a `while` loop to extract the tag bytes. Each tag's fields are added into a dictionary indexed by the tag `code` to facilitate easy access in later code."
   ]
  },
  {
   "cell_type": "code",
   "execution_count": 275,
   "id": "3c81f0c7-8a03-49f9-b998-655c6dcb86a2",
   "metadata": {},
   "outputs": [
    {
     "data": {
      "text/plain": [
       "{256: {'data_type': 3, 'count': 1, 'value': b'\\xe4*\\x00\\x00'},\n",
       " 257: {'data_type': 3, 'count': 1, 'value': b'\\xe4*\\x00\\x00'},\n",
       " 258: {'data_type': 3, 'count': 1, 'value': b'\\x10\\x00\\x00\\x00'},\n",
       " 259: {'data_type': 3, 'count': 1, 'value': b'\\x08\\x00\\x00\\x00'},\n",
       " 262: {'data_type': 3, 'count': 1, 'value': b'\\x01\\x00\\x00\\x00'},\n",
       " 277: {'data_type': 3, 'count': 1, 'value': b'\\x01\\x00\\x00\\x00'},\n",
       " 284: {'data_type': 3, 'count': 1, 'value': b'\\x01\\x00\\x00\\x00'},\n",
       " 317: {'data_type': 3, 'count': 1, 'value': b'\\x02\\x00\\x00\\x00'},\n",
       " 322: {'data_type': 3, 'count': 1, 'value': b'\\x00\\x04\\x00\\x00'},\n",
       " 323: {'data_type': 3, 'count': 1, 'value': b'\\x00\\x04\\x00\\x00'},\n",
       " 324: {'data_type': 4, 'count': 121, 'value': b'X\\x07\\x00\\x00'},\n",
       " 325: {'data_type': 4, 'count': 121, 'value': b'<\\t\\x00\\x00'},\n",
       " 339: {'data_type': 3, 'count': 1, 'value': b'\\x01\\x00\\x00\\x00'},\n",
       " 33550: {'data_type': 12, 'count': 3, 'value': b'\\xca\\x03\\x00\\x00'},\n",
       " 33922: {'data_type': 12, 'count': 6, 'value': b'\\xe2\\x03\\x00\\x00'},\n",
       " 34735: {'data_type': 3, 'count': 32, 'value': b'\\x12\\x04\\x00\\x00'},\n",
       " 34737: {'data_type': 2, 'count': 30, 'value': b'R\\x04\\x00\\x00'},\n",
       " 42112: {'data_type': 2, 'count': 544, 'value': b'\\xaa\\x01\\x00\\x00'},\n",
       " 42113: {'data_type': 2, 'count': 2, 'value': b'0\\x00\\x00\\x00'}}"
      ]
     },
     "execution_count": 275,
     "metadata": {},
     "output_type": "execute_result"
    }
   ],
   "source": [
    "tags = {}\n",
    "tag_index = 0\n",
    "\n",
    "while tag_index < tag_count:\n",
    "    try:\n",
    "        tag_bytes = tags_bytes[tag_size * tag_index:(tag_size * (tag_index + 1))]\n",
    "        tag_index += 1\n",
    "    except IndexError:\n",
    "        break\n",
    "\n",
    "    code, data_type, count, value = struct.unpack(f'{endianness}HHI4s', tag_bytes)\n",
    "    tags[code] = {\n",
    "        'data_type': data_type,\n",
    "        'count': count,\n",
    "        'value': value,\n",
    "    }\n",
    "\n",
    "tags"
   ]
  },
  {
   "cell_type": "markdown",
   "id": "fab9c851-779a-4d6c-a0b2-7a43a6859a20",
   "metadata": {},
   "source": [
    "#### Understanding tag codes\n",
    "\n",
    "Now that we have TIFF tag values to look at, it would be good to mention the [Libray of Congress' guide to TIFF Tags](https://www.loc.gov/preservation/digital/formats/content/tiff_tags.shtml) again. We can use that lookup table to interpret each of the integer codes in a meaningful way. Note that some codes we will see in every file, while others may be specific to the way a file was encoded or the type of data it contains. Further, a number of the tags are specific to the GeoTIFF format and are required for such files, while some are used for metadata by GDAL and can generally be expected in a GeoTIFF (though not always of course).\n",
    "\n",
    "For example, we should always expect to see 256, 257, 258, and 259:\n",
    "\n",
    "| Code | Tag Name      | Tag Description              |\n",
    "| ---- | ------------- | ---------------------------- |\n",
    "| 256  | ImageWidth    | Number of image columns      |\n",
    "| 257  | ImageLength   | Number of image rows         |\n",
    "| 258  | BitsPerSample | Number of bits in each pixel |\n",
    "| 259  | Compression   | Integer mapping to compression algorithm used for each image segment |\n",
    "\n",
    "In the spirit of needing to consult various external lookup tables, the [Wikipedia entry for TIFF has a great table of possible compression formats and their integer values](https://en.wikipedia.org/wiki/TIFF#TIFF_Compression_Tag)."
   ]
  },
  {
   "cell_type": "code",
   "execution_count": 137,
   "id": "d7287c50-f8ea-4dec-a4a7-a320c2f3dbe3",
   "metadata": {},
   "outputs": [],
   "source": [
    "# TODO: don't parse them all. Show examples.\n",
    "# Convert the tags dicts to a dict indexed on code.\n",
    "# Match on certain expected codes to show how to parse.\n",
    "# Leave it an exercise for the students to map each code to its name and figure out how to use it."
   ]
  },
  {
   "cell_type": "markdown",
   "id": "44cfe55d-23b1-4fd3-9f32-e1901542457d",
   "metadata": {},
   "source": [
    "#### Unpacking the tag values\n",
    "\n",
    "Recalling the earlier explanation about tag data types, counts, and values, we know that unpacking the tag values will not be the same for each tag given the differences in those three aforementioned tag fields across each of our different tags. For some tags that have a single count of a shorter data type we can unpack the tag `value` directly. But for longer values we'll have to use the tag `value` as an offset into the file to read the actual bytes to unpack.\n",
    "\n",
    "We'll start with one of these easier examples and unpack the image size tags 256 and 257. Check the data types for these tags. What are the struct format chars for each? Will we need to unpack all four bytes of the `value` for either of these tags?"
   ]
  },
  {
   "cell_type": "code",
   "execution_count": 276,
   "id": "8723a085-841e-4694-879f-28cfaba90758",
   "metadata": {},
   "outputs": [
    {
     "name": "stdout",
     "output_type": "stream",
     "text": [
      "Image size is 10980 x 10980\n"
     ]
    }
   ],
   "source": [
    "# image column count (width)\n",
    "cols = struct.unpack('<H', tags[256]['value'][0:struct.calcsize('H')])[0]\n",
    "\n",
    "# image row count (height)\n",
    "rows = struct.unpack('<H', tags[257]['value'][0:struct.calcsize('H')])[0]\n",
    "\n",
    "print(f'Image size is {cols} x {rows}')"
   ]
  },
  {
   "cell_type": "markdown",
   "id": "91b2dd60-3b7e-414e-8d14-ca2cca6e8aea",
   "metadata": {},
   "source": [
    "In the cases where the tag `value`'s four bytes are not sufficient to contain the whole tag value, parsing is a bit more complex. We not only need to find the struct format character (`struct_dtype`) and size for the tag's data type, but then we need to:\n",
    "\n",
    "* use the data type size and the tag `count` to calculate how many bytes we need to read (`size`)\n",
    "* unpack the `value` to get the actual value's byte offset in the file (`offset`)\n",
    "* combine `size` and `offset` to get the byte range and read that out fo the file (giving us `values`)\n",
    "* build the struct format string (`endianness + (struct_dtype * count)`) then unpack `values`\n",
    "\n",
    "We'll preview this here with an example unpacking the tile offsets tag (324). The values we get out of this (`tile_offsets`) are the byte offsets for each image segment (tile) in the image represented by this IFD. We will be able to use these offsets in the next section to read the specific tile containing our POI (though we'll have unpack the rest of our tags and do a bit of math to figure out which one and what to do with the bytes)."
   ]
  },
  {
   "cell_type": "code",
   "execution_count": 282,
   "id": "75e6e581-3a51-444a-b90f-20d94e19fc41",
   "metadata": {},
   "outputs": [
    {
     "name": "stdout",
     "output_type": "stream",
     "text": [
      "Offset tile 0: 55962680\n",
      "Offset tile 1: 57411167\n",
      "Offset tile 2: 58810332\n",
      "Offset tile 3: 60222446\n",
      "Offset tile 4: 61651003\n",
      "Offset tile 5: 63054996\n",
      "Offset tile 6: 64463518\n",
      "Offset tile 7: 66025043\n",
      "Offset tile 8: 67523672\n",
      "Offset tile 9: 68987825\n",
      "Offset tile 10: 70439668\n",
      "Offset tile 11: 71480485\n",
      "Offset tile 12: 72831139\n",
      "Offset tile 13: 74191906\n",
      "Offset tile 14: 75556803\n",
      "Offset tile 15: 76922917\n",
      "Offset tile 16: 78346396\n",
      "Offset tile 17: 79767466\n",
      "Offset tile 18: 81177106\n",
      "Offset tile 19: 82626646\n",
      "Offset tile 20: 84045343\n",
      "Offset tile 21: 85436959\n",
      "Offset tile 22: 86443457\n",
      "Offset tile 23: 87744763\n",
      "Offset tile 24: 89128625\n",
      "Offset tile 25: 90516041\n",
      "Offset tile 26: 91896145\n",
      "Offset tile 27: 93323921\n",
      "Offset tile 28: 94699513\n",
      "Offset tile 29: 96054131\n",
      "Offset tile 30: 97398784\n",
      "Offset tile 31: 98768288\n",
      "Offset tile 32: 100117176\n",
      "Offset tile 33: 101099165\n",
      "Offset tile 34: 102475360\n",
      "Offset tile 35: 103914015\n",
      "Offset tile 36: 105337327\n",
      "Offset tile 37: 106767167\n",
      "Offset tile 38: 108155055\n",
      "Offset tile 39: 109496290\n",
      "Offset tile 40: 110853634\n",
      "Offset tile 41: 112244713\n",
      "Offset tile 42: 113588526\n",
      "Offset tile 43: 114895196\n",
      "Offset tile 44: 115881834\n",
      "Offset tile 45: 117297939\n",
      "Offset tile 46: 118737048\n",
      "Offset tile 47: 120185270\n",
      "Offset tile 48: 121620456\n",
      "Offset tile 49: 123031867\n",
      "Offset tile 50: 124402930\n",
      "Offset tile 51: 125797422\n",
      "Offset tile 52: 127166585\n",
      "Offset tile 53: 128512496\n",
      "Offset tile 54: 129847193\n",
      "Offset tile 55: 130813023\n",
      "Offset tile 56: 132267746\n",
      "Offset tile 57: 133721219\n",
      "Offset tile 58: 135168258\n",
      "Offset tile 59: 136590051\n",
      "Offset tile 60: 138004961\n",
      "Offset tile 61: 139387400\n",
      "Offset tile 62: 140792216\n",
      "Offset tile 63: 142173401\n",
      "Offset tile 64: 143531515\n",
      "Offset tile 65: 144883653\n",
      "Offset tile 66: 145909014\n",
      "Offset tile 67: 147512228\n",
      "Offset tile 68: 148965842\n",
      "Offset tile 69: 150393926\n",
      "Offset tile 70: 151820955\n",
      "Offset tile 71: 153228408\n",
      "Offset tile 72: 154629691\n",
      "Offset tile 73: 156014882\n",
      "Offset tile 74: 157380367\n",
      "Offset tile 75: 158731976\n",
      "Offset tile 76: 160114338\n",
      "Offset tile 77: 161151032\n",
      "Offset tile 78: 162782880\n",
      "Offset tile 79: 164279805\n",
      "Offset tile 80: 165702744\n",
      "Offset tile 81: 167136236\n",
      "Offset tile 82: 168547793\n",
      "Offset tile 83: 169940007\n",
      "Offset tile 84: 171321112\n",
      "Offset tile 85: 172637466\n",
      "Offset tile 86: 174003270\n",
      "Offset tile 87: 175392224\n",
      "Offset tile 88: 176416464\n",
      "Offset tile 89: 178052532\n",
      "Offset tile 90: 179640701\n",
      "Offset tile 91: 181092961\n",
      "Offset tile 92: 182534128\n",
      "Offset tile 93: 183924802\n",
      "Offset tile 94: 185311293\n",
      "Offset tile 95: 186651878\n",
      "Offset tile 96: 187954039\n",
      "Offset tile 97: 189327902\n",
      "Offset tile 98: 190698439\n",
      "Offset tile 99: 191714854\n",
      "Offset tile 100: 193331795\n",
      "Offset tile 101: 194939195\n",
      "Offset tile 102: 196415899\n",
      "Offset tile 103: 197819251\n",
      "Offset tile 104: 199217398\n",
      "Offset tile 105: 200625142\n",
      "Offset tile 106: 201991437\n",
      "Offset tile 107: 203345078\n",
      "Offset tile 108: 204717082\n",
      "Offset tile 109: 206137392\n",
      "Offset tile 110: 207171477\n",
      "Offset tile 111: 208347309\n",
      "Offset tile 112: 209482357\n",
      "Offset tile 113: 210584255\n",
      "Offset tile 114: 211625167\n",
      "Offset tile 115: 212683632\n",
      "Offset tile 116: 213739512\n",
      "Offset tile 117: 214787222\n",
      "Offset tile 118: 215844136\n",
      "Offset tile 119: 216879023\n",
      "Offset tile 120: 217929856\n"
     ]
    }
   ],
   "source": [
    "tag = tags[324]\n",
    "struct_dtype = DATA_TYPES[tag['data_type']]\n",
    "size = tag['count'] * struct.calcsize(struct_dtype)\n",
    "offset = struct.unpack(f'{endianness}I', tag['value'])[0]\n",
    "values = url_read_bytes(href, offset, offset+size)\n",
    "tile_offsets = struct.unpack(endianness + (struct_dtype * tag['count']), values)\n",
    "\n",
    "for idx, tile_offset in enumerate(tile_offsets):\n",
    "    print(f\"Offset tile {idx}: {tile_offset}\")"
   ]
  },
  {
   "cell_type": "markdown",
   "id": "bdde6490-a49f-4014-b981-035e7ff5c170",
   "metadata": {},
   "source": [
    "### Questions\n",
    "\n",
    "* Refer back to the STAC item and see if the `file` STAC extension is in use. Is the file size listed for the COG asset your are examining, and if so how close to the end of the file do these tiles appear to get?\n",
    "* Can you use the unpacking examples to create a generalized approach to unpacking the tag values and apply that to the rest of the tags in the IFD? The next section will have you unpack all the tags, so finding a quick an efficient way to do this might be helpful."
   ]
  },
  {
   "cell_type": "markdown",
   "id": "30dd96e5-0c3b-445a-a7ec-02014088622f",
   "metadata": {},
   "source": [
    "### Answers\n",
    "\n",
    "* The COG is 218,693,282 bytes. The last tile starts at offset 217,929,856. The difference between those two is 763,426 bytes. Looking at the offset of the second-to-last tile, 216,879,023, we can see that tile to be 217,929,856 - 216,879,023 = 1,050,833 bytes in size. So 763,426 bytes is will within the expected size of a tile, and because of that we can reasonably conclude that this tile is the last data in the file.\n",
    "\n",
    "  Note this aligns with our understanding of the structure of a COG: the IFDs are in the beginning of the file, and the actual image data follows with the full resolution data at the end (each overview progressively lower resolution stacked on top from highest resolution at the end to lowest at the top).\n",
    "* We can modify the more complex tag unpack case as a starting point to implement a function that handles unpacking all types of tag values. It could be great if we use it to parse out the tag from the raw bytes into a complete object, even. We could go so far as to start with the TIFF itself and build up a data structure that parses all the IFDs out of the file for us. Let's see what that could look like:"
   ]
  },
  {
   "cell_type": "code",
   "execution_count": 393,
   "id": "0dadac2c-75dd-4c15-86ee-dcf45ca065a4",
   "metadata": {},
   "outputs": [],
   "source": [
    "class Endianness(bytes, enum.Enum):\n",
    "    BIG_ENDIAN = b'MM'\n",
    "    LITTLE_ENDIAN = b'II'\n",
    "\n",
    "    @property\n",
    "    def unpack_char(self: Self) -> str:\n",
    "        match self:\n",
    "            case Endianness.BIG_ENDIAN:\n",
    "                return '>'\n",
    "            case Endianness.LITTLE_ENDIAN:\n",
    "                return '<'\n",
    "\n",
    "\n",
    "@dataclasses.dataclass\n",
    "class TIFFBytes:\n",
    "    data: bytes\n",
    "    endianness: Endianness\n",
    "\n",
    "    def unpack(self: Self, format: str) -> tuple[Any, ...]:\n",
    "        return struct.unpack(f'{self.endianness.unpack_char}{format}', self.data)\n",
    "\n",
    "    def chunk(self: Self, chunk_size) -> Iterator[Self]:\n",
    "        if len(self) % chunk_size != 0:\n",
    "            raise ValueError(\n",
    "                f'Cannot chunk data exactly into {chunk_size}: length {len(self)}',\n",
    "            )\n",
    "        yield from (\n",
    "            self[chunk_index * chunk_size:(chunk_index * chunk_size) + chunk_size]\n",
    "            for chunk_index in range(len(self)//chunk_size)\n",
    "        )\n",
    "\n",
    "    def __len__(self: Self) -> int:\n",
    "        return len(self.data)\n",
    "\n",
    "    def __getitem__(self: Self, key: int | slice) -> Self:\n",
    "        return type(self)(\n",
    "            data=self.data[key],\n",
    "            endianness=self.endianness,\n",
    "        )\n",
    "\n",
    "\n",
    "@dataclasses.dataclass\n",
    "class Tag:\n",
    "    code: int\n",
    "    data_type: int\n",
    "    count: int\n",
    "    value: Any\n",
    "\n",
    "    @classmethod\n",
    "    def from_bytes(\n",
    "        cls: type[Self],\n",
    "        tiff: TIFF,\n",
    "        tag_bytes: TIFFBytes,\n",
    "    ) -> Self:\n",
    "        code, data_type, count = tag_bytes[:8].unpack('HHI')\n",
    "        return cls(\n",
    "            code=code,\n",
    "            data_type=data_type,\n",
    "            count=count,\n",
    "            value=cls.unpack_tag_value(tiff, data_type, count, tag_bytes[8:]),\n",
    "        )\n",
    "\n",
    "    @staticmethod\n",
    "    def unpack_tag_value(tiff: TIFF, data_type: int, count: int, value: TIFFBytes) -> Any:\n",
    "        struct_dtype = DATA_TYPES[data_type]\n",
    "        size = count * struct.calcsize(struct_dtype)\n",
    "\n",
    "        if size > len(value):\n",
    "            offset = value.unpack('I')[0]\n",
    "            value = tiff.read_bytes(offset, offset+size)\n",
    "        \n",
    "        unpacked = value[:size].unpack(struct_dtype * count)\n",
    "\n",
    "        # if data_type == 2 (ASCII) we want to join the chars together\n",
    "        if data_type == 2:\n",
    "            return b''.join(unpacked)\n",
    "        elif count == 1:\n",
    "            return unpacked[0]\n",
    "        return unpacked\n",
    "\n",
    "\n",
    "class Tags(dict[int, Tag]):\n",
    "    @classmethod\n",
    "    def from_tags(cls: type[Self], tags: list[Tag]) -> Self:\n",
    "        return cls((t.code, t) for t in tags)\n",
    "\n",
    "    @classmethod\n",
    "    def from_tiff_bytes(cls: type[Self], tiff: TIFF, tags_bytes: TIFFBytes) -> Self:\n",
    "        return cls.from_tags([Tag.from_bytes(tiff, tag_bytes) for tag_bytes in tags_bytes.chunk(12)])\n",
    "\n",
    "\n",
    "@dataclasses.dataclass\n",
    "class IFD:\n",
    "    offset: int\n",
    "    tags: Tags\n",
    "    next_offset: int\n",
    "\n",
    "    @classmethod\n",
    "    def from_tiff_offset(cls: type[Self], tiff: TIFF, offset: int) -> Self:\n",
    "        tags_start = offset + 2\n",
    "        tags_count = tiff.read_bytes(offset, tags_start).unpack('H')[0]\n",
    "        tags_end = tags_start + (tags_count * tag_size)\n",
    "        tags_bytes = tiff.read_bytes(tags_start, tags_end)\n",
    "        next_offset = tiff.read_bytes(tags_end, tags_end + 4).unpack('I')[0]\n",
    "        \n",
    "        return cls(\n",
    "            offset=offset,\n",
    "            tags=Tags.from_tiff_bytes(tiff, tags_bytes),\n",
    "            next_offset=next_offset,\n",
    "        )\n",
    "\n",
    "\n",
    "@dataclasses.dataclass\n",
    "class TIFF:\n",
    "    '''Class to help parse TIFF IFDs. Only supports standard TIFFs, not BigTIFF.'''\n",
    "    href: str\n",
    "    endianness: Endianness\n",
    "    ifds: list[IFD]\n",
    "    \n",
    "    def __init__(self: Self, href: str) -> None:\n",
    "        self.href = href\n",
    "\n",
    "        # we don't use self.read_bytes yet because we don't have endianness\n",
    "        __bytes = url_read_bytes(self.href, 0, 8)\n",
    "        self.endianness = Endianness(__bytes[0:2])\n",
    "\n",
    "        _bytes = TIFFBytes(data=__bytes, endianness=self.endianness)\n",
    "        \n",
    "        magic_number = _bytes[2:4].unpack('H')[0]\n",
    "        if magic_number != 42:\n",
    "            raise TypeError(f\"Unsupported file type: magic number {magic_number} != 42\")\n",
    "        \n",
    "        self.ifds: list[IFD] = []\n",
    "        ifd_offset = _bytes[4:8].unpack('I')[0]\n",
    "        while ifd_offset:\n",
    "            ifd = self.parse_ifd(ifd_offset)\n",
    "            self.ifds.append(ifd)\n",
    "            ifd_offset = ifd.next_offset\n",
    "\n",
    "    def read_bytes(self: Self, start: int, end: int) -> TIFFBytes:\n",
    "        # Note that reading for each byte range we want is terribly inefficient.\n",
    "        # We could instead use some sort of filelike object that will read and cache\n",
    "        # larger chunks of the file, as needed to accommodate requested byte ranges.\n",
    "        return TIFFBytes(\n",
    "            data=url_read_bytes(self.href, start, end),\n",
    "            endianness=self.endianness,\n",
    "        )\n",
    "\n",
    "    def parse_ifd(self: Self, offset: int) -> IFD:\n",
    "        return IFD.from_tiff_offset(self, offset)"
   ]
  },
  {
   "cell_type": "code",
   "execution_count": 396,
   "id": "3a09ed40-ad3e-4631-a0b5-8aa729e472d2",
   "metadata": {
    "scrolled": true
   },
   "outputs": [
    {
     "data": {
      "text/plain": [
       "TIFF(href='https://e84-earth-search-sentinel-data.s3.us-west-2.amazonaws.com/sentinel-2-c1-l2a/10/T/FR/2023/12/S2B_T10TFR_20231223T190950_L2A/B04.tif', endianness=<Endianness.LITTLE_ENDIAN: b'II'>, ifds=[IFD(offset=192, tags={256: Tag(code=256, data_type=3, count=1, value=10980), 257: Tag(code=257, data_type=3, count=1, value=10980), 258: Tag(code=258, data_type=3, count=1, value=16), 259: Tag(code=259, data_type=3, count=1, value=8), 262: Tag(code=262, data_type=3, count=1, value=1), 277: Tag(code=277, data_type=3, count=1, value=1), 284: Tag(code=284, data_type=3, count=1, value=1), 317: Tag(code=317, data_type=3, count=1, value=2), 322: Tag(code=322, data_type=3, count=1, value=1024), 323: Tag(code=323, data_type=3, count=1, value=1024), 324: Tag(code=324, data_type=4, count=121, value=(55962680, 57411167, 58810332, 60222446, 61651003, 63054996, 64463518, 66025043, 67523672, 68987825, 70439668, 71480485, 72831139, 74191906, 75556803, 76922917, 78346396, 79767466, 81177106, 82626646, 84045343, 85436959, 86443457, 87744763, 89128625, 90516041, 91896145, 93323921, 94699513, 96054131, 97398784, 98768288, 100117176, 101099165, 102475360, 103914015, 105337327, 106767167, 108155055, 109496290, 110853634, 112244713, 113588526, 114895196, 115881834, 117297939, 118737048, 120185270, 121620456, 123031867, 124402930, 125797422, 127166585, 128512496, 129847193, 130813023, 132267746, 133721219, 135168258, 136590051, 138004961, 139387400, 140792216, 142173401, 143531515, 144883653, 145909014, 147512228, 148965842, 150393926, 151820955, 153228408, 154629691, 156014882, 157380367, 158731976, 160114338, 161151032, 162782880, 164279805, 165702744, 167136236, 168547793, 169940007, 171321112, 172637466, 174003270, 175392224, 176416464, 178052532, 179640701, 181092961, 182534128, 183924802, 185311293, 186651878, 187954039, 189327902, 190698439, 191714854, 193331795, 194939195, 196415899, 197819251, 199217398, 200625142, 201991437, 203345078, 204717082, 206137392, 207171477, 208347309, 209482357, 210584255, 211625167, 212683632, 213739512, 214787222, 215844136, 216879023, 217929856)), 325: Tag(code=325, data_type=4, count=121, value=(1448479, 1399157, 1412106, 1428549, 1403985, 1408514, 1561517, 1498621, 1464145, 1451835, 1040809, 1350646, 1360759, 1364889, 1366106, 1423471, 1421062, 1409632, 1449532, 1418689, 1391608, 1006490, 1301298, 1383854, 1387408, 1380096, 1427768, 1375584, 1354610, 1344645, 1369496, 1348880, 981981, 1376187, 1438647, 1423304, 1429832, 1387880, 1341227, 1357336, 1391071, 1343805, 1306662, 986630, 1416097, 1439101, 1448214, 1435178, 1411403, 1371055, 1394484, 1369155, 1345903, 1334689, 965822, 1454715, 1453465, 1447031, 1421785, 1414902, 1382431, 1404808, 1381177, 1358106, 1352130, 1025353, 1603206, 1453606, 1428076, 1427021, 1407445, 1401275, 1385183, 1365477, 1351601, 1382354, 1036686, 1631840, 1496917, 1422931, 1433484, 1411549, 1392206, 1381097, 1316346, 1365796, 1388946, 1024232, 1636060, 1588161, 1452252, 1441159, 1390666, 1386483, 1340577, 1302153, 1373855, 1370529, 1016407, 1616933, 1607392, 1476696, 1403344, 1398139, 1407736, 1366287, 1353633, 1371996, 1420302, 1034077, 1175824, 1135040, 1101890, 1040904, 1058457, 1055872, 1047702, 1056906, 1034879, 1050825, 763422)), 339: Tag(code=339, data_type=3, count=1, value=1), 33550: Tag(code=33550, data_type=12, count=3, value=(10.0, 10.0, 0.0)), 33922: Tag(code=33922, data_type=12, count=6, value=(0.0, 0.0, 0.0, 600000.0, 5100000.0, 0.0)), 34735: Tag(code=34735, data_type=3, count=32, value=(1, 1, 0, 7, 1024, 0, 1, 1, 1025, 0, 1, 1, 1026, 34737, 22, 0, 2049, 34737, 7, 22, 2054, 0, 1, 9102, 3072, 0, 1, 32610, 3076, 0, 1, 9001)), 34737: Tag(code=34737, data_type=2, count=30, value=b'WGS 84 / UTM zone 10N|WGS 84|\\x00'), 42112: Tag(code=42112, data_type=2, count=544, value=b'<GDALMetadata>\\n  <Item name=\"OVR_RESAMPLING_ALG\">AVERAGE</Item>\\n  <Item name=\"STATISTICS_MAXIMUM\" sample=\"0\">17408</Item>\\n  <Item name=\"STATISTICS_MEAN\" sample=\"0\">1505.1947339533</Item>\\n  <Item name=\"STATISTICS_MINIMUM\" sample=\"0\">294</Item>\\n  <Item name=\"STATISTICS_STDDEV\" sample=\"0\">659.24503616433</Item>\\n  <Item name=\"STATISTICS_VALID_PERCENT\" sample=\"0\">99.999</Item>\\n  <Item name=\"OFFSET\" sample=\"0\" role=\"offset\">-0.100000000000000006</Item>\\n  <Item name=\"SCALE\" sample=\"0\" role=\"scale\">0.000100000000000000005</Item>\\n</GDALMetadata>\\n\\x00'), 42113: Tag(code=42113, data_type=2, count=2, value=b'0\\x00')}, next_offset=1136), IFD(offset=1136, tags={254: Tag(code=254, data_type=4, count=1, value=1), 256: Tag(code=256, data_type=3, count=1, value=5490), 257: Tag(code=257, data_type=3, count=1, value=5490), 258: Tag(code=258, data_type=3, count=1, value=16), 259: Tag(code=259, data_type=3, count=1, value=8), 262: Tag(code=262, data_type=3, count=1, value=1), 277: Tag(code=277, data_type=3, count=1, value=1), 284: Tag(code=284, data_type=3, count=1, value=1), 317: Tag(code=317, data_type=3, count=1, value=2), 322: Tag(code=322, data_type=3, count=1, value=512), 323: Tag(code=323, data_type=3, count=1, value=512), 324: Tag(code=324, data_type=4, count=121, value=(14098284, 14463732, 14818341, 15176039, 15541986, 15897659, 16253110, 16651723, 17033852, 17406275, 17777239, 18046915, 18386121, 18730094, 19077444, 19424106, 19786807, 20147527, 20505419, 20874028, 21235215, 21592292, 21854469, 22181674, 22535039, 22890247, 23242474, 23608512, 23964593, 24314522, 24662782, 25017418, 25368979, 25626349, 25980864, 26348988, 26716001, 27081639, 27442965, 27793524, 28147448, 28510031, 28857357, 29194318, 29450185, 29814020, 30185060, 30557713, 30926129, 31290926, 31646624, 32007929, 32362845, 32708506, 33056461, 33307999, 33680344, 34052115, 34423207, 34787886, 35155321, 35514387, 35879334, 36237096, 36588886, 36941619, 37210063, 37624052, 37992363, 38352253, 38715852, 39079509, 39441655, 39801052, 40155518, 40505025, 40866061, 41138013, 41573171, 41952833, 42311961, 42676627, 43041536, 43402844, 43761159, 44102227, 44456078, 44818777, 45086550, 45506606, 45910199, 46277362, 46644698, 47004165, 47363077, 47709522, 48045694, 48401899, 48759022, 49023168, 49433330, 49838854, 50213671, 50573400, 50933255, 51298281, 51651825, 52002706, 52358330, 52728431, 52999226, 53297567, 53584392, 53865594, 54132554, 54406368, 54677150, 54947889, 55219780, 55487661, 55763294)), 325: Tag(code=325, data_type=4, count=121, value=(365440, 354601, 357690, 365939, 355665, 355443, 398605, 382121, 372415, 370956, 269668, 339198, 343965, 347342, 346654, 362693, 360712, 357884, 368601, 361179, 357069, 262169, 327197, 353357, 355200, 352219, 366030, 356073, 349921, 348252, 354628, 351553, 257362, 354507, 368116, 367005, 365630, 361318, 350551, 353916, 362575, 347318, 336953, 255859, 363827, 371032, 372645, 368408, 364789, 355690, 361297, 354908, 345653, 347947, 251530, 372337, 371763, 371084, 364671, 367427, 359058, 364939, 357754, 351782, 352725, 268436, 413981, 368303, 359882, 363591, 363649, 362138, 359389, 354458, 349499, 361028, 271944, 435150, 379654, 359120, 364658, 364901, 361300, 358307, 341060, 353843, 362691, 267765, 420048, 403585, 367155, 367328, 359459, 358904, 346437, 336164, 356197, 357115, 264138, 410154, 405516, 374809, 359721, 359847, 365018, 353536, 350873, 355616, 370093, 270787, 298333, 286817, 281194, 266952, 273806, 270774, 270731, 271883, 267873, 275625, 199378)), 339: Tag(code=339, data_type=3, count=1, value=1), 42113: Tag(code=42113, data_type=2, count=2, value=b'0\\x00')}, next_offset=1322), IFD(offset=1322, tags={254: Tag(code=254, data_type=4, count=1, value=1), 256: Tag(code=256, data_type=3, count=1, value=2745), 257: Tag(code=257, data_type=3, count=1, value=2745), 258: Tag(code=258, data_type=3, count=1, value=16), 259: Tag(code=259, data_type=3, count=1, value=8), 262: Tag(code=262, data_type=3, count=1, value=1), 277: Tag(code=277, data_type=3, count=1, value=1), 284: Tag(code=284, data_type=3, count=1, value=1), 317: Tag(code=317, data_type=3, count=1, value=2), 322: Tag(code=322, data_type=3, count=1, value=512), 323: Tag(code=323, data_type=3, count=1, value=512), 324: Tag(code=324, data_type=4, count=36, value=(3419807, 3772791, 4130645, 4491535, 4871988, 5240053, 5381168, 5740077, 6106725, 6472441, 6833491, 7189021, 7326947, 7705350, 8081364, 8450213, 8818145, 9175446, 9315387, 9724433, 10088260, 10456786, 10817803, 11184219, 11328720, 11738262, 12107592, 12475249, 12828134, 13197909, 13340844, 13488341, 13628111, 13766911, 13904358, 14044283)), 325: Tag(code=325, data_type=4, count=36, value=(352976, 357846, 360882, 380445, 368057, 141107, 358901, 366640, 365708, 361042, 355522, 137918, 378395, 376006, 368841, 367924, 357293, 139933, 409038, 363819, 368518, 361009, 366408, 144493, 409534, 369322, 367649, 352877, 369767, 142927, 147489, 139762, 138792, 137439, 139917, 53993)), 339: Tag(code=339, data_type=3, count=1, value=1), 42113: Tag(code=42113, data_type=2, count=2, value=b'0\\x00')}, next_offset=1508), IFD(offset=1508, tags={254: Tag(code=254, data_type=4, count=1, value=1), 256: Tag(code=256, data_type=3, count=1, value=1373), 257: Tag(code=257, data_type=3, count=1, value=1373), 258: Tag(code=258, data_type=3, count=1, value=16), 259: Tag(code=259, data_type=3, count=1, value=8), 262: Tag(code=262, data_type=3, count=1, value=1), 277: Tag(code=277, data_type=3, count=1, value=1), 284: Tag(code=284, data_type=3, count=1, value=1), 317: Tag(code=317, data_type=3, count=1, value=2), 322: Tag(code=322, data_type=3, count=1, value=512), 323: Tag(code=323, data_type=3, count=1, value=512), 324: Tag(code=324, data_type=4, count=9, value=(702460, 1068732, 1439752, 1695769, 2085634, 2455456, 2714974, 2985039, 3237322)), 325: Tag(code=325, data_type=4, count=9, value=(366264, 371012, 256009, 389857, 369814, 259510, 270057, 252275, 182477)), 339: Tag(code=339, data_type=3, count=1, value=1), 42113: Tag(code=42113, data_type=2, count=2, value=b'0\\x00')}, next_offset=1694), IFD(offset=1694, tags={254: Tag(code=254, data_type=4, count=1, value=1), 256: Tag(code=256, data_type=3, count=1, value=687), 257: Tag(code=257, data_type=3, count=1, value=687), 258: Tag(code=258, data_type=3, count=1, value=16), 259: Tag(code=259, data_type=3, count=1, value=8), 262: Tag(code=262, data_type=3, count=1, value=1), 277: Tag(code=277, data_type=3, count=1, value=1), 284: Tag(code=284, data_type=3, count=1, value=1), 317: Tag(code=317, data_type=3, count=1, value=2), 322: Tag(code=322, data_type=3, count=1, value=512), 323: Tag(code=323, data_type=3, count=1, value=512), 324: Tag(code=324, data_type=4, count=4, value=(4212, 384791, 520575, 653727)), 325: Tag(code=325, data_type=4, count=4, value=(380571, 135776, 133144, 48725)), 339: Tag(code=339, data_type=3, count=1, value=1), 42113: Tag(code=42113, data_type=2, count=2, value=b'0\\x00')}, next_offset=0)])"
      ]
     },
     "execution_count": 396,
     "metadata": {},
     "output_type": "execute_result"
    }
   ],
   "source": [
    "tiff = TIFF(href)\n",
    "tiff"
   ]
  },
  {
   "cell_type": "markdown",
   "id": "5a46017e-0bf0-4a4f-bea5-61a23729c884",
   "metadata": {},
   "source": [
    "## Reading a tile from the image\n",
    "\n",
    "Read the tile intersecting our POI"
   ]
  },
  {
   "cell_type": "code",
   "execution_count": null,
   "id": "32349537-a056-4c03-9bb2-a56d5290736d",
   "metadata": {},
   "outputs": [],
   "source": [
    "# bits per pixel value\n",
    "struct.unpack('<H', tag['value'][0:2])[0]"
   ]
  },
  {
   "cell_type": "code",
   "execution_count": null,
   "id": "5eb45e68-1d84-4a7b-b58c-db6608f8c120",
   "metadata": {},
   "outputs": [],
   "source": [
    "# compression (259; 1 is uncompressed)\n",
    "tag = tag_dicts[3]\n",
    "struct.unpack('<H', tag['value'][0:2])[0]"
   ]
  },
  {
   "cell_type": "code",
   "execution_count": null,
   "id": "35b3508d-a799-42db-b4e1-18a58806620c",
   "metadata": {},
   "outputs": [],
   "source": [
    "# colorspace (1 is b/w)\n",
    "tag = tag_dicts[4]\n",
    "struct.unpack('<H', tag['value'][0:2])[0]"
   ]
  },
  {
   "cell_type": "code",
   "execution_count": 129,
   "id": "0ff0f943-7164-4853-a06c-4778b01f744a",
   "metadata": {},
   "outputs": [
    {
     "data": {
      "text/plain": [
       "1"
      ]
     },
     "execution_count": 129,
     "metadata": {},
     "output_type": "execute_result"
    }
   ],
   "source": [
    "# samples per pixel\n",
    "tag = tag_dicts[5]\n",
    "struct.unpack('<H', tag['value'][0:2])[0]"
   ]
  },
  {
   "cell_type": "code",
   "execution_count": null,
   "id": "bb708e5b-828d-4e13-b146-b41082c097e3",
   "metadata": {},
   "outputs": [],
   "source": [
    "# planar configuration (?)\n",
    "tag = tag_dicts[6]\n",
    "struct.unpack('<H', tag['value'][0:2])[0]"
   ]
  },
  {
   "cell_type": "code",
   "execution_count": null,
   "id": "99ff5297-e158-4d5c-ad02-59a8cb55139c",
   "metadata": {},
   "outputs": [],
   "source": [
    "# predictor (317)\n",
    "tag = tag_dicts[7]\n",
    "struct.unpack('<H', tag['value'][0:2])[0]"
   ]
  },
  {
   "cell_type": "code",
   "execution_count": null,
   "id": "1ed8e1d6-daa2-476a-8321-36218e071789",
   "metadata": {},
   "outputs": [],
   "source": [
    "# tile size width (322)\n",
    "tag = tag_dicts[8]\n",
    "struct.unpack('<H', tag['value'][0:2])[0]"
   ]
  },
  {
   "cell_type": "code",
   "execution_count": null,
   "id": "77997ee8-4678-4618-99cf-bb854d06d22b",
   "metadata": {},
   "outputs": [],
   "source": [
    "# tile size height (323)\n",
    "tag = tag_dicts[9]\n",
    "struct.unpack('<H', tag['value'][0:2])[0]"
   ]
  },
  {
   "cell_type": "code",
   "execution_count": null,
   "id": "521191ca-199c-485b-b2e2-9fc754d2b26c",
   "metadata": {},
   "outputs": [],
   "source": [
    "# tile offsets (324)\n",
    "tag = tag_dicts[10]\n",
    "struct_dtype = DATA_TYPES[tag['dtype']]\n",
    "size = tag['count'] * struct.calcsize(struct_dtype)\n",
    "offset = struct.unpack('<I', tag['value'])[0]\n",
    "values = url_read_bytes(href, offset, offset+size)\n",
    "tile_offsets = struct.unpack('<' + (struct_dtype * tag['count']), values)\n",
    "print(tile_offsets[:10])"
   ]
  },
  {
   "cell_type": "code",
   "execution_count": null,
   "id": "f40694dd-b238-4ead-b4e4-8858dec79166",
   "metadata": {},
   "outputs": [],
   "source": [
    "# tile byte sizes (325)\n",
    "tag = tag_dicts[11]\n",
    "struct_dtype = DATA_TYPES[tag['dtype']]\n",
    "size = tag['count'] * struct.calcsize(struct_dtype)\n",
    "offset = struct.unpack('<I', tag['value'])[0]\n",
    "values = url_read_bytes(href, offset, offset+size)\n",
    "tile_bytes = struct.unpack('<' + (struct_dtype * tag['count']), values)\n",
    "print(tile_bytes[:10])"
   ]
  },
  {
   "cell_type": "code",
   "execution_count": null,
   "id": "e5958a00-7556-48c4-a471-3da4237af069",
   "metadata": {},
   "outputs": [],
   "source": [
    "# sample format (339)\n",
    "tag = tag_dicts[12]\n",
    "struct.unpack('<H', tag['value'][0:2])[0]"
   ]
  },
  {
   "cell_type": "code",
   "execution_count": null,
   "id": "e8a68ec9-ef4e-4dcc-a9e3-38a9d0ddb7b8",
   "metadata": {},
   "outputs": [],
   "source": [
    "# GeoTIFF coordinate transformations: http://geotiff.maptools.org/spec/geotiff2.6.html\n",
    "# pixel scale tag (33550)\n",
    "tag = tag_dicts[13]\n",
    "struct_dtype = DATA_TYPES[tag['dtype']]\n",
    "size = tag['count'] * struct.calcsize(struct_dtype)\n",
    "offset = struct.unpack('<I', tag['value'])[0]\n",
    "values = url_read_bytes(href, offset, offset+size)\n",
    "pixel_scale = struct.unpack('<' + (struct_dtype * tag['count']), values)\n",
    "print(pixel_scale)"
   ]
  },
  {
   "cell_type": "code",
   "execution_count": null,
   "id": "c2ada1a4-82f2-4945-b1e7-c75f7c2a65f5",
   "metadata": {},
   "outputs": [],
   "source": [
    "# tie point tag (33922)\n",
    "tag = tag_dicts[14]\n",
    "struct_dtype = DATA_TYPES[tag['dtype']]\n",
    "size = tag['count'] * struct.calcsize(struct_dtype)\n",
    "offset = struct.unpack('<I', tag['value'])[0]\n",
    "values = url_read_bytes(href, offset, offset+size)\n",
    "tie_point = struct.unpack('<' + (struct_dtype * tag['count']), values)\n",
    "print(tie_point)"
   ]
  },
  {
   "cell_type": "code",
   "execution_count": null,
   "id": "bde27504-a7a9-4e0d-aa3f-049c56357ece",
   "metadata": {},
   "outputs": [],
   "source": [
    "# GeoTIFF tag structure: http://geotiff.maptools.org/spec/geotiff2.4.html\n",
    "# geo key directory (34735)\n",
    "tag = tag_dicts[15]\n",
    "struct_dtype = DATA_TYPES[tag['dtype']]\n",
    "size = tag['count'] * struct.calcsize(struct_dtype)\n",
    "offset = struct.unpack('<I', tag['value'])[0]\n",
    "values = url_read_bytes(href, offset, offset+size)\n",
    "geokey_dir = struct.unpack('<' + (struct_dtype * tag['count']), values)\n",
    "print(geokey_dir)"
   ]
  },
  {
   "cell_type": "code",
   "execution_count": null,
   "id": "a81fa179-9934-44e6-a5bb-c12f500a3748",
   "metadata": {},
   "outputs": [],
   "source": [
    "## geo double params (34736)\n",
    "#tag = tag_dicts[16]\n",
    "#struct_dtype = DATA_TYPES[tag['dtype']]\n",
    "#size = tag['count'] * struct.calcsize(struct_dtype)\n",
    "#offset = struct.unpack('<I', tag['value'])[0]\n",
    "#values = url_read_bytes(href, offset, offset+size)\n",
    "#geo_doubles = struct.unpack('<' + (struct_dtype * tag['count']), values)\n",
    "#print(geo_doubles)"
   ]
  },
  {
   "cell_type": "code",
   "execution_count": null,
   "id": "90d6e28a-d2e1-4eae-9e1c-5943503332ea",
   "metadata": {},
   "outputs": [],
   "source": [
    "# geo ascii params (34737)\n",
    "tag = tag_dicts[16]\n",
    "struct_dtype = DATA_TYPES[tag['dtype']]\n",
    "size = tag['count'] * struct.calcsize(struct_dtype)\n",
    "offset = struct.unpack('<I', tag['value'])[0]\n",
    "values = url_read_bytes(href, offset, offset+size)\n",
    "geo_asciis = struct.unpack('<' + (struct_dtype * tag['count']), values)\n",
    "print(geo_asciis)"
   ]
  },
  {
   "cell_type": "code",
   "execution_count": null,
   "id": "1ad70a34-72ee-4873-9344-5a5a9aa13668",
   "metadata": {},
   "outputs": [],
   "source": [
    "# gdal_metadata (42112)\n",
    "tag = tag_dicts[17]\n",
    "struct_dtype = DATA_TYPES[tag['dtype']]\n",
    "size = tag['count'] * struct.calcsize(struct_dtype)\n",
    "offset = struct.unpack('<I', tag['value'])[0]\n",
    "values = url_read_bytes(href, offset, offset+size)\n",
    "gdal_metadata = ''.join([c.decode() for c in struct.unpack('<' + (struct_dtype * tag['count']), values)])\n",
    "print(gdal_metadata)"
   ]
  },
  {
   "cell_type": "code",
   "execution_count": null,
   "id": "3358d111-585a-4f71-be67-a62e629a9767",
   "metadata": {},
   "outputs": [],
   "source": [
    "# nodata value (42113)\n",
    "tag = tag_dicts[18]\n",
    "struct.unpack('<ss', tag['value'][:2])[0]"
   ]
  },
  {
   "cell_type": "code",
   "execution_count": null,
   "id": "0ca0832a-87e3-408b-8f2d-aa2c1c919a3d",
   "metadata": {},
   "outputs": [],
   "source": [
    "url_read_bytes(href, 4, 1000)"
   ]
  },
  {
   "cell_type": "code",
   "execution_count": null,
   "id": "ee8bbc12-604e-4925-9725-0c74ab67b20d",
   "metadata": {},
   "outputs": [],
   "source": [
    "# TODO: Leave some examples here, but make sure it can't run unless they do this right.\n",
    "# Show how to extract a tile.\n",
    "# Show how to find the tile with the POI.\n",
    "# Show how to display a tile. Switch to leafmap. Write data to a cog. Load into the map."
   ]
  },
  {
   "cell_type": "code",
   "execution_count": null,
   "id": "06aec812-f6f1-4339-96e9-2d803b6e5649",
   "metadata": {},
   "outputs": [],
   "source": [
    "block1 = url_read_bytes(href, tile_offsets[0], tile_offsets[0]+tile_bytes[0])"
   ]
  },
  {
   "cell_type": "code",
   "execution_count": null,
   "id": "55db4c1d-ac5b-4596-b5c2-a71127f6c104",
   "metadata": {},
   "outputs": [],
   "source": [
    "# need to extract\n",
    "import zlib\n",
    "block1_extracted = zlib.decompress(block1)"
   ]
  },
  {
   "cell_type": "code",
   "execution_count": null,
   "id": "73a34ce2-5380-4669-a498-75c0f8d100c2",
   "metadata": {},
   "outputs": [],
   "source": [
    "block1_array = np.array([struct.unpack('<H', block1_extracted[idx*2:idx*2+2]) for idx in range(len(block1_extracted)//2)]).reshape(1024, 1024)"
   ]
  },
  {
   "cell_type": "code",
   "execution_count": null,
   "id": "9ff520f8-e183-47a8-a4ba-e1508776a549",
   "metadata": {},
   "outputs": [],
   "source": [
    "block1_array"
   ]
  },
  {
   "cell_type": "code",
   "execution_count": 167,
   "id": "eadb08d2-5dfa-4232-a87f-5d8890644694",
   "metadata": {},
   "outputs": [
    {
     "data": {
      "text/plain": [
       "8"
      ]
     },
     "execution_count": 167,
     "metadata": {},
     "output_type": "execute_result"
    }
   ],
   "source": [
    "ifd_offset"
   ]
  },
  {
   "cell_type": "code",
   "execution_count": 168,
   "id": "a43655e9-cbf3-4b79-893f-b37729af5f89",
   "metadata": {},
   "outputs": [
    {
     "data": {
      "text/plain": [
       "19"
      ]
     },
     "execution_count": 168,
     "metadata": {},
     "output_type": "execute_result"
    }
   ],
   "source": [
    "tag_count"
   ]
  },
  {
   "cell_type": "code",
   "execution_count": 169,
   "id": "45e054dc-46bd-45ef-8484-50a2eebb14e7",
   "metadata": {},
   "outputs": [
    {
     "data": {
      "text/plain": [
       "12"
      ]
     },
     "execution_count": 169,
     "metadata": {},
     "output_type": "execute_result"
    }
   ],
   "source": [
    "tag_size"
   ]
  },
  {
   "cell_type": "code",
   "execution_count": 182,
   "id": "b7c25ed5-3db8-4188-8343-7f22884e49b0",
   "metadata": {},
   "outputs": [],
   "source": [
    "end_of_tags = ifd_offset + 2 + (tag_count * tag_size)"
   ]
  },
  {
   "cell_type": "code",
   "execution_count": 203,
   "id": "b12dc31c-1374-4f35-b1d2-6dd455ba221b",
   "metadata": {},
   "outputs": [
    {
     "data": {
      "text/plain": [
       "b'\\x8d\\xa7\\xe2_'"
      ]
     },
     "execution_count": 203,
     "metadata": {},
     "output_type": "execute_result"
    }
   ],
   "source": [
    "next_ifd_bytes = url_read_bytes(href, end_of_tags, end_of_tags + 4)\n",
    "next_ifd_bytes"
   ]
  },
  {
   "cell_type": "code",
   "execution_count": 200,
   "id": "947180af-1ba1-40cc-b100-b88e0f5003c5",
   "metadata": {},
   "outputs": [
    {
     "data": {
      "text/plain": [
       "0"
      ]
     },
     "execution_count": 200,
     "metadata": {},
     "output_type": "execute_result"
    }
   ],
   "source": [
    "next_ifd = struct.unpack('<I', next_ifd_bytes)[0]\n",
    "next_ifd"
   ]
  },
  {
   "cell_type": "code",
   "execution_count": 201,
   "id": "a5cb26d1-131c-4d75-92a2-2dd53463ca5a",
   "metadata": {},
   "outputs": [
    {
     "data": {
      "text/plain": [
       "18761"
      ]
     },
     "execution_count": 201,
     "metadata": {},
     "output_type": "execute_result"
    }
   ],
   "source": [
    "next_tag_count = struct.unpack('<H', url_read_bytes(href, next_ifd, next_ifd + 2))[0]\n",
    "next_tag_count"
   ]
  },
  {
   "cell_type": "code",
   "execution_count": 202,
   "id": "3d8c785a-15e1-4810-8c2f-34f3071852fe",
   "metadata": {},
   "outputs": [],
   "source": [
    "end_of_tags = next_ifd + 2 + (next_tag_count * tag_size)"
   ]
  },
  {
   "cell_type": "markdown",
   "id": "7f709856-e51b-41fe-9936-adc0139d1ab3",
   "metadata": {},
   "source": [
    "## Additional exercises to complete on your own time\n",
    "\n",
    "* Find how many overviews are in this file.\n",
    "* Find the dimensions and gsd of each overview.\n",
    "* Repeat reading the tile containing your point of interest, but do so from one of the overviews.\n",
    "* How can we make reading the file more efficient? Can we get all the IFDs in the file with a single read without having to read in image data?\n",
    "* Repeat these exercises with a multiband TIFF to see how the file structure differs to support the additional bands.\n",
    "\n",
    "Any other cool ideas? Let me know and/or share with the group."
   ]
  },
  {
   "cell_type": "code",
   "execution_count": null,
   "id": "68a5adf9-c684-48d2-aebb-616b19a1c5aa",
   "metadata": {},
   "outputs": [],
   "source": []
  }
 ],
 "metadata": {
  "kernelspec": {
   "display_name": "Python 3 (ipykernel)",
   "language": "python",
   "name": "python3"
  },
  "language_info": {
   "codemirror_mode": {
    "name": "ipython",
    "version": 3
   },
   "file_extension": ".py",
   "mimetype": "text/x-python",
   "name": "python",
   "nbconvert_exporter": "python",
   "pygments_lexer": "ipython3",
   "version": "3.12.7"
  }
 },
 "nbformat": 4,
 "nbformat_minor": 5
}
