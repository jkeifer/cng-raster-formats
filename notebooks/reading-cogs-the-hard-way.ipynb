{
 "cells": [
  {
   "cell_type": "markdown",
   "id": "637a32af-0f84-465b-be1d-f14347c6fe3f",
   "metadata": {},
   "source": [
    "# Reading Cloud-Optimized GeoTIFFs the Hard Way\n",
    "\n",
    "In this notebook we will explore how one can read Cloud-Optimized GeoTIFFs (COGs) the hard way, i.e., by requesting and parsing byte ranges by hand. We'll query "
   ]
  },
  {
   "cell_type": "code",
   "execution_count": null,
   "id": "7903800b-3eff-49c6-9ef2-6502b3afd9f5",
   "metadata": {},
   "outputs": [],
   "source": [
    "import struct\n",
    "import urllib.request\n",
    "\n",
    "from glob import glob\n",
    "from pathlib import Path\n",
    "from pprint import pprint\n",
    "\n",
    "import folium\n",
    "import numpy as np\n",
    "import shapely\n",
    "\n",
    "from pystac_client import Client"
   ]
  },
  {
   "cell_type": "markdown",
   "id": "9dea8827-2fb8-4492-bec1-3f61ba7bad75",
   "metadata": {},
   "source": []
  },
  {
   "cell_type": "code",
   "execution_count": null,
   "id": "3bbd5fab-c199-4f89-9c5f-76e1a767c330",
   "metadata": {},
   "outputs": [],
   "source": [
    "TIFF_TAG_SIZE = 12\n",
    "\n",
    "def url_read_bytes(url: str, start: int, end: int) -> bytes:\n",
    "    request = urllib.request.Request(\n",
    "        url,\n",
    "        headers={'Range': f'bytes={start}-{end-1}'},\n",
    "    )\n",
    "    with urllib.request.urlopen(request) as response:\n",
    "        return response.read()"
   ]
  },
  {
   "cell_type": "code",
   "execution_count": null,
   "id": "3c0c0b27-514d-408a-acd1-9b1b2652301d",
   "metadata": {},
   "outputs": [],
   "source": [
    "# Point of Interest\n",
    "poi = shapely.Point(-121.695833, 45.373611)"
   ]
  },
  {
   "cell_type": "code",
   "execution_count": null,
   "id": "70a33a2d-546b-4a9d-aedd-71fee5486767",
   "metadata": {},
   "outputs": [],
   "source": [
    "# use folium to display vectors\n",
    "# Several folium basemap tiles are available:\n",
    "#   - OpenStreetMap\n",
    "#   - Stamen Terrain\n",
    "#   - Stamen Toner\n",
    "#   - Stamen Watercolor\n",
    "#   - CartoDB positron\n",
    "#   - CartoDB dark_matter\n",
    "\n",
    "location = (poi.coords[0][1], poi.coords[0][0])\n",
    "\n",
    "map = folium.Map(\n",
    "    location=location,\n",
    "    tiles=\"Cartodb Positron\",\n",
    ")\n",
    "\n",
    "folium.CircleMarker(\n",
    "    location=location,\n",
    "    fill=True,\n",
    "    fill_opacity=0.6,\n",
    ").add_to(map)\n",
    "\n",
    "map"
   ]
  },
  {
   "cell_type": "code",
   "execution_count": null,
   "id": "6a4cc9c6-ac20-4d7c-a098-bc234b9a3858",
   "metadata": {},
   "outputs": [],
   "source": [
    "client = Client.open(\"https://earth-search.aws.element84.com/v1\")\n",
    "\n",
    "search = client.search(\n",
    "    max_items=1,\n",
    "    collections=['sentinel-2-l2a'],\n",
    "    intersects=poi,\n",
    "    datetime='2023/2023',\n",
    "    query=['eo:cloud_cover<10'],\n",
    "    sortby=[{\"direction\": \"desc\", \"field\": \"properties.datetime\"}],\n",
    ")\n",
    "item = next(search.items())\n",
    "pprint(item.to_dict())"
   ]
  },
  {
   "cell_type": "code",
   "execution_count": null,
   "id": "54f51ae6-22cd-4812-a9a7-d08398fb9b76",
   "metadata": {},
   "outputs": [],
   "source": [
    "folium.GeoJson(item).add_to(map)\n",
    "map"
   ]
  },
  {
   "cell_type": "code",
   "execution_count": null,
   "id": "361982ad-abb4-4c4f-829a-d537ef5b63ae",
   "metadata": {},
   "outputs": [],
   "source": [
    "href = item.assets['red'].href\n",
    "print(href)"
   ]
  },
  {
   "cell_type": "code",
   "execution_count": null,
   "id": "6e1165ed-209f-4c59-9a9e-4a3a5d5145ec",
   "metadata": {},
   "outputs": [],
   "source": [
    "first_bytes = url_read_bytes(href, 0, 16)\n",
    "print(first_bytes)"
   ]
  },
  {
   "cell_type": "code",
   "execution_count": null,
   "id": "aca32f5e-123c-4ece-9a98-d7c23de5915a",
   "metadata": {
    "scrolled": true
   },
   "outputs": [],
   "source": [
    "# COG spec: https://github.com/cogeotiff/cog-spec/blob/master/spec.md\n",
    "\n",
    "hdr = first_bytes[0:4]"
   ]
  },
  {
   "cell_type": "markdown",
   "id": "7c2e6a5e-2d1b-4f0a-a7d0-dc1ee187d853",
   "metadata": {},
   "source": [
    "TIFF uses the first two bytes of the file to encode the endianness of the file. This enables writers to use the most efficient endianess for their host system, if desired. In other words, readers must support reading big or little endian files, where writers can pick one endianness.\n",
    "\n",
    "Big endian is encoded as `MM` (from Motorola processors), and little endian is encoded as `II` (from Intel processors)."
   ]
  },
  {
   "cell_type": "code",
   "execution_count": null,
   "id": "4c2e04d1-be87-4a2d-99db-c04e8be30b7c",
   "metadata": {},
   "outputs": [],
   "source": [
    "# We can see that these markers are the same when read as big or little endian,\n",
    "# because that just affects the order of the bytes in the two-byte words,\n",
    "# not the order of the bits within the bytes.\n",
    "\n",
    "# big endian signature\n",
    "print(bin(struct.unpack('>H', b'MM')[0]))\n",
    "print(bin(struct.unpack('<H', b'MM')[0]))\n",
    "\n",
    "# little endian signature\n",
    "print(bin(struct.unpack('>H', b'II')[0]))\n",
    "print(bin(struct.unpack('<H', b'II')[0]))"
   ]
  },
  {
   "cell_type": "code",
   "execution_count": null,
   "id": "1f11a47b-4656-440c-8501-18ac7a2131e4",
   "metadata": {},
   "outputs": [],
   "source": [
    "# our image signature\n",
    "print(first_bytes[0:2])"
   ]
  },
  {
   "cell_type": "code",
   "execution_count": null,
   "id": "bb94e4db-7779-4ac6-a634-2917035380d5",
   "metadata": {},
   "outputs": [],
   "source": [
    "struct.unpack('<H', first_bytes[2:4])[0]"
   ]
  },
  {
   "cell_type": "code",
   "execution_count": null,
   "id": "cfbeeb4d-54ea-4cb5-b52d-92d31edcd38c",
   "metadata": {},
   "outputs": [],
   "source": [
    "import sys\n",
    "sys.byteorder"
   ]
  },
  {
   "cell_type": "code",
   "execution_count": null,
   "id": "2f7232ed-f971-4da0-9672-9c5848130141",
   "metadata": {},
   "outputs": [],
   "source": [
    "struct.unpack('>H', first_bytes[2:4])"
   ]
  },
  {
   "cell_type": "code",
   "execution_count": null,
   "id": "ee17e0e9-aa39-4e7c-8797-46616be21ca3",
   "metadata": {},
   "outputs": [],
   "source": [
    "first_bytes[0:4].hex()"
   ]
  },
  {
   "cell_type": "code",
   "execution_count": null,
   "id": "4a7232a2-9f36-415c-8651-ca69a1786e60",
   "metadata": {},
   "outputs": [],
   "source": [
    "chr(0x49)"
   ]
  },
  {
   "cell_type": "code",
   "execution_count": null,
   "id": "ff0caaaa-db76-4c06-b3e6-8af70cc4eb6c",
   "metadata": {},
   "outputs": [],
   "source": [
    "0x002a"
   ]
  },
  {
   "cell_type": "code",
   "execution_count": null,
   "id": "404bf225-d513-4899-9a20-4837ab069686",
   "metadata": {},
   "outputs": [],
   "source": [
    "ifd_offset_bytes = first_bytes[4:8]\n",
    "print(ifd_offset_bytes)"
   ]
  },
  {
   "cell_type": "code",
   "execution_count": null,
   "id": "7c70828e-ef8b-4026-9c8f-ce15f13c3b11",
   "metadata": {},
   "outputs": [],
   "source": [
    "ifd_offset = struct.unpack('<I', ifd_offset_bytes)[0]\n",
    "print(ifd_offset)"
   ]
  },
  {
   "cell_type": "code",
   "execution_count": null,
   "id": "19362c9b-f9b5-4a96-a0f1-c1ae333f5a41",
   "metadata": {},
   "outputs": [],
   "source": [
    "tag_start = ifd_offset + 2\n",
    "tag_count = struct.unpack('<H', first_bytes[ifd_offset:tag_start])[0]\n",
    "print(tag_count)"
   ]
  },
  {
   "cell_type": "code",
   "execution_count": null,
   "id": "c9ad2762-0dbd-4d15-9b0c-336b0baf138d",
   "metadata": {},
   "outputs": [],
   "source": [
    "tag_data = url_read_bytes(href, tag_start, tag_start+(tag_count*TIFF_TAG_SIZE))\n",
    "print(tag_data)"
   ]
  },
  {
   "cell_type": "code",
   "execution_count": null,
   "id": "6e452ccc-16cf-4898-81b9-80db88f09e4a",
   "metadata": {},
   "outputs": [],
   "source": [
    "tags = [tag_data[i*TIFF_TAG_SIZE:(i*TIFF_TAG_SIZE)+TIFF_TAG_SIZE] for i in range(len(tag_data)//TIFF_TAG_SIZE)]\n",
    "print(tags)"
   ]
  },
  {
   "cell_type": "code",
   "execution_count": null,
   "id": "3c81f0c7-8a03-49f9-b998-655c6dcb86a2",
   "metadata": {},
   "outputs": [],
   "source": [
    "tag_dicts = []\n",
    "\n",
    "for tag_index in range(tag_count):\n",
    "    code, dtype, count, value = struct.unpack(\n",
    "        '<HHI4s',\n",
    "        tag_data[\n",
    "            tag_index*TIFF_TAG_SIZE:\n",
    "            (tag_index*TIFF_TAG_SIZE)+TIFF_TAG_SIZE\n",
    "        ],\n",
    "    )\n",
    "    tag_dict = {\n",
    "        'code': code,\n",
    "        'dtype': dtype,\n",
    "        'count': count,\n",
    "        'value': value,\n",
    "    }\n",
    "    print(tag_index, tag_dict)\n",
    "    tag_dicts.append(tag_dict)"
   ]
  },
  {
   "cell_type": "code",
   "execution_count": null,
   "id": "530cce17-3bfe-43e0-9f9b-d8ba13b902fc",
   "metadata": {},
   "outputs": [],
   "source": [
    "DATA_TYPES = {\n",
    "    1: '1B',\n",
    "    2: '1s',\n",
    "    3: '1H',\n",
    "    4: '1I',\n",
    "    5: '2I',\n",
    "    6: '1b',\n",
    "    7: '1B',\n",
    "    8: '1h',\n",
    "    9: '1i',\n",
    "    10: '2i',\n",
    "    11: '1f',\n",
    "    12: '1d',\n",
    "    13: '1I',\n",
    "    # 14: '',\n",
    "    # 15: '',\n",
    "    16: '1Q',\n",
    "    17: '1q',\n",
    "    18: '1Q',\n",
    "}"
   ]
  },
  {
   "cell_type": "code",
   "execution_count": null,
   "id": "8723a085-841e-4694-879f-28cfaba90758",
   "metadata": {},
   "outputs": [],
   "source": [
    "# tags documented here: https://www.loc.gov/preservation/digital/formats/content/tiff_tags.shtml\n",
    "# image column count (width)\n",
    "tag = tag_dicts[0]\n",
    "struct.unpack('<H', tag['value'][0:2])[0]"
   ]
  },
  {
   "cell_type": "code",
   "execution_count": null,
   "id": "6ced2601-7190-4d7a-b0a2-d4308f9f7f4e",
   "metadata": {},
   "outputs": [],
   "source": [
    "# image row count (height)\n",
    "tag = tag_dicts[1]\n",
    "struct.unpack('<H', tag['value'][0:2])[0]"
   ]
  },
  {
   "cell_type": "code",
   "execution_count": null,
   "id": "32349537-a056-4c03-9bb2-a56d5290736d",
   "metadata": {},
   "outputs": [],
   "source": [
    "# bits per pixel value\n",
    "tag = tag_dicts[2]\n",
    "struct.unpack('<H', tag['value'][0:2])[0]"
   ]
  },
  {
   "cell_type": "code",
   "execution_count": null,
   "id": "5eb45e68-1d84-4a7b-b58c-db6608f8c120",
   "metadata": {},
   "outputs": [],
   "source": [
    "# compression (259; 1 is uncompressed)\n",
    "tag = tag_dicts[3]\n",
    "struct.unpack('<H', tag['value'][0:2])[0]"
   ]
  },
  {
   "cell_type": "code",
   "execution_count": null,
   "id": "35b3508d-a799-42db-b4e1-18a58806620c",
   "metadata": {},
   "outputs": [],
   "source": [
    "# colorspace (1 is b/w)\n",
    "tag = tag_dicts[4]\n",
    "struct.unpack('<H', tag['value'][0:2])[0]"
   ]
  },
  {
   "cell_type": "code",
   "execution_count": null,
   "id": "0ff0f943-7164-4853-a06c-4778b01f744a",
   "metadata": {},
   "outputs": [],
   "source": [
    "# samples per pixel\n",
    "tag = tag_dicts[5]\n",
    "struct.unpack('<I', tag['value'])[0]"
   ]
  },
  {
   "cell_type": "code",
   "execution_count": null,
   "id": "bb708e5b-828d-4e13-b146-b41082c097e3",
   "metadata": {},
   "outputs": [],
   "source": [
    "# planar configuration (?)\n",
    "tag = tag_dicts[6]\n",
    "struct.unpack('<H', tag['value'][0:2])[0]"
   ]
  },
  {
   "cell_type": "code",
   "execution_count": null,
   "id": "99ff5297-e158-4d5c-ad02-59a8cb55139c",
   "metadata": {},
   "outputs": [],
   "source": [
    "# predictor (317)\n",
    "tag = tag_dicts[7]\n",
    "struct.unpack('<H', tag['value'][0:2])[0]"
   ]
  },
  {
   "cell_type": "code",
   "execution_count": null,
   "id": "1ed8e1d6-daa2-476a-8321-36218e071789",
   "metadata": {},
   "outputs": [],
   "source": [
    "# tile size width (322)\n",
    "tag = tag_dicts[8]\n",
    "struct.unpack('<H', tag['value'][0:2])[0]"
   ]
  },
  {
   "cell_type": "code",
   "execution_count": null,
   "id": "77997ee8-4678-4618-99cf-bb854d06d22b",
   "metadata": {},
   "outputs": [],
   "source": [
    "# tile size height (323)\n",
    "tag = tag_dicts[9]\n",
    "struct.unpack('<H', tag['value'][0:2])[0]"
   ]
  },
  {
   "cell_type": "code",
   "execution_count": null,
   "id": "521191ca-199c-485b-b2e2-9fc754d2b26c",
   "metadata": {},
   "outputs": [],
   "source": [
    "# tile offsets (324)\n",
    "tag = tag_dicts[10]\n",
    "struct_dtype = DATA_TYPES[tag['dtype']]\n",
    "size = tag['count'] * struct.calcsize(struct_dtype)\n",
    "offset = struct.unpack('<I', tag['value'])[0]\n",
    "values = url_read_bytes(href, offset, offset+size)\n",
    "tile_offsets = struct.unpack('<' + (struct_dtype * tag['count']), values)\n",
    "print(tile_offsets[:10])"
   ]
  },
  {
   "cell_type": "code",
   "execution_count": null,
   "id": "f40694dd-b238-4ead-b4e4-8858dec79166",
   "metadata": {},
   "outputs": [],
   "source": [
    "# tile byte sizes (325)\n",
    "tag = tag_dicts[11]\n",
    "struct_dtype = DATA_TYPES[tag['dtype']]\n",
    "size = tag['count'] * struct.calcsize(struct_dtype)\n",
    "offset = struct.unpack('<I', tag['value'])[0]\n",
    "values = url_read_bytes(href, offset, offset+size)\n",
    "tile_bytes = struct.unpack('<' + (struct_dtype * tag['count']), values)\n",
    "print(tile_bytes[:10])"
   ]
  },
  {
   "cell_type": "code",
   "execution_count": null,
   "id": "e5958a00-7556-48c4-a471-3da4237af069",
   "metadata": {},
   "outputs": [],
   "source": [
    "# sample format (339)\n",
    "tag = tag_dicts[12]\n",
    "struct.unpack('<H', tag['value'][0:2])[0]"
   ]
  },
  {
   "cell_type": "code",
   "execution_count": null,
   "id": "e8a68ec9-ef4e-4dcc-a9e3-38a9d0ddb7b8",
   "metadata": {},
   "outputs": [],
   "source": [
    "# GeoTIFF coordinate transformations: http://geotiff.maptools.org/spec/geotiff2.6.html\n",
    "# pixel scale tag (33550)\n",
    "tag = tag_dicts[13]\n",
    "struct_dtype = DATA_TYPES[tag['dtype']]\n",
    "size = tag['count'] * struct.calcsize(struct_dtype)\n",
    "offset = struct.unpack('<I', tag['value'])[0]\n",
    "values = url_read_bytes(href, offset, offset+size)\n",
    "pixel_scale = struct.unpack('<' + (struct_dtype * tag['count']), values)\n",
    "print(pixel_scale)"
   ]
  },
  {
   "cell_type": "code",
   "execution_count": null,
   "id": "c2ada1a4-82f2-4945-b1e7-c75f7c2a65f5",
   "metadata": {},
   "outputs": [],
   "source": [
    "# tie point tag (33922)\n",
    "tag = tag_dicts[14]\n",
    "struct_dtype = DATA_TYPES[tag['dtype']]\n",
    "size = tag['count'] * struct.calcsize(struct_dtype)\n",
    "offset = struct.unpack('<I', tag['value'])[0]\n",
    "values = url_read_bytes(href, offset, offset+size)\n",
    "tie_point = struct.unpack('<' + (struct_dtype * tag['count']), values)\n",
    "print(tie_point)"
   ]
  },
  {
   "cell_type": "code",
   "execution_count": null,
   "id": "bde27504-a7a9-4e0d-aa3f-049c56357ece",
   "metadata": {},
   "outputs": [],
   "source": [
    "# GeoTIFF tag structure: http://geotiff.maptools.org/spec/geotiff2.4.html\n",
    "# geo key directory (34735)\n",
    "tag = tag_dicts[15]\n",
    "struct_dtype = DATA_TYPES[tag['dtype']]\n",
    "size = tag['count'] * struct.calcsize(struct_dtype)\n",
    "offset = struct.unpack('<I', tag['value'])[0]\n",
    "values = url_read_bytes(href, offset, offset+size)\n",
    "geokey_dir = struct.unpack('<' + (struct_dtype * tag['count']), values)\n",
    "print(geokey_dir)"
   ]
  },
  {
   "cell_type": "code",
   "execution_count": null,
   "id": "a81fa179-9934-44e6-a5bb-c12f500a3748",
   "metadata": {},
   "outputs": [],
   "source": [
    "## geo double params (34736)\n",
    "#tag = tag_dicts[16]\n",
    "#struct_dtype = DATA_TYPES[tag['dtype']]\n",
    "#size = tag['count'] * struct.calcsize(struct_dtype)\n",
    "#offset = struct.unpack('<I', tag['value'])[0]\n",
    "#values = url_read_bytes(href, offset, offset+size)\n",
    "#geo_doubles = struct.unpack('<' + (struct_dtype * tag['count']), values)\n",
    "#print(geo_doubles)"
   ]
  },
  {
   "cell_type": "code",
   "execution_count": null,
   "id": "90d6e28a-d2e1-4eae-9e1c-5943503332ea",
   "metadata": {},
   "outputs": [],
   "source": [
    "# geo ascii params (34737)\n",
    "tag = tag_dicts[16]\n",
    "struct_dtype = DATA_TYPES[tag['dtype']]\n",
    "size = tag['count'] * struct.calcsize(struct_dtype)\n",
    "offset = struct.unpack('<I', tag['value'])[0]\n",
    "values = url_read_bytes(href, offset, offset+size)\n",
    "geo_asciis = struct.unpack('<' + (struct_dtype * tag['count']), values)\n",
    "print(geo_asciis)"
   ]
  },
  {
   "cell_type": "code",
   "execution_count": null,
   "id": "1ad70a34-72ee-4873-9344-5a5a9aa13668",
   "metadata": {},
   "outputs": [],
   "source": [
    "# gdal_metadata (42112)\n",
    "tag = tag_dicts[17]\n",
    "struct_dtype = DATA_TYPES[tag['dtype']]\n",
    "size = tag['count'] * struct.calcsize(struct_dtype)\n",
    "offset = struct.unpack('<I', tag['value'])[0]\n",
    "values = url_read_bytes(href, offset, offset+size)\n",
    "gdal_metadata = ''.join([c.decode() for c in struct.unpack('<' + (struct_dtype * tag['count']), values)])\n",
    "print(gdal_metadata)"
   ]
  },
  {
   "cell_type": "code",
   "execution_count": null,
   "id": "3358d111-585a-4f71-be67-a62e629a9767",
   "metadata": {},
   "outputs": [],
   "source": [
    "# nodata value (42113)\n",
    "tag = tag_dicts[18]\n",
    "struct.unpack('<ss', tag['value'][:2])[0]"
   ]
  },
  {
   "cell_type": "code",
   "execution_count": null,
   "id": "0ca0832a-87e3-408b-8f2d-aa2c1c919a3d",
   "metadata": {},
   "outputs": [],
   "source": [
    "url_read_bytes(href, 4, 1000)"
   ]
  },
  {
   "cell_type": "code",
   "execution_count": null,
   "id": "06aec812-f6f1-4339-96e9-2d803b6e5649",
   "metadata": {},
   "outputs": [],
   "source": [
    "block1 = url_read_bytes(href, tile_offsets[0], tile_offsets[0]+tile_bytes[0])"
   ]
  },
  {
   "cell_type": "code",
   "execution_count": null,
   "id": "55db4c1d-ac5b-4596-b5c2-a71127f6c104",
   "metadata": {},
   "outputs": [],
   "source": [
    "# need to extract\n",
    "import zlib\n",
    "block1_extracted = zlib.decompress(block1)"
   ]
  },
  {
   "cell_type": "code",
   "execution_count": null,
   "id": "73a34ce2-5380-4669-a498-75c0f8d100c2",
   "metadata": {},
   "outputs": [],
   "source": [
    "block1_array = np.array([struct.unpack('<H', block1_extracted[idx*2:idx*2+2]) for idx in range(len(block1_extracted)//2)]).reshape(1024, 1024)"
   ]
  },
  {
   "cell_type": "code",
   "execution_count": null,
   "id": "9ff520f8-e183-47a8-a4ba-e1508776a549",
   "metadata": {},
   "outputs": [],
   "source": [
    "block1_array"
   ]
  },
  {
   "cell_type": "code",
   "execution_count": null,
   "id": "eadb08d2-5dfa-4232-a87f-5d8890644694",
   "metadata": {},
   "outputs": [],
   "source": []
  }
 ],
 "metadata": {
  "kernelspec": {
   "display_name": "Python 3 (ipykernel)",
   "language": "python",
   "name": "python3"
  },
  "language_info": {
   "codemirror_mode": {
    "name": "ipython",
    "version": 3
   },
   "file_extension": ".py",
   "mimetype": "text/x-python",
   "name": "python",
   "nbconvert_exporter": "python",
   "pygments_lexer": "ipython3",
   "version": "3.12.7"
  }
 },
 "nbformat": 4,
 "nbformat_minor": 5
}
